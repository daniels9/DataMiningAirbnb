{
 "cells": [
  {
   "cell_type": "markdown",
   "metadata": {},
   "source": [
    "# Predicting Airbnb Prices for Munich"
   ]
  },
  {
   "cell_type": "markdown",
   "metadata": {},
   "source": [
    "The goal of our data mining project is to predict prices for new Airbnb listings in Munich. To achieve this, we will train a regression model on existing Airbnb data from www.insideairbnb.com."
   ]
  },
  {
   "cell_type": "markdown",
   "metadata": {},
   "source": [
    "## Table of Contents\n",
    "##### [1 Preprocessing](#preprocessing)\n",
    "##### [2 Data Mining](#data_mining)\n",
    "##### [3 Interpretation and Evaluation](#interpretation_evaluation)"
   ]
  },
  {
   "cell_type": "markdown",
   "metadata": {},
   "source": [
    "<a id='preprocessing'></a>\n",
    "## 1 Preprocessing"
   ]
  },
  {
   "cell_type": "code",
   "execution_count": 49,
   "metadata": {},
   "outputs": [],
   "source": [
    "%run modules/preprocessing.py\n",
    "%run modules/evaluation.py"
   ]
  },
  {
   "cell_type": "code",
   "execution_count": 50,
   "metadata": {},
   "outputs": [
    {
     "name": "stdout",
     "output_type": "stream",
     "text": [
      "2019-11-24 20:37:00 : Dataset loaded and preprocessed.\n"
     ]
    }
   ],
   "source": [
    "features, label = load_and_preprocess_dataset()"
   ]
  },
  {
   "cell_type": "code",
   "execution_count": 57,
   "metadata": {},
   "outputs": [
    {
     "name": "stdout",
     "output_type": "stream",
     "text": [
      "   accommodates  beds  bedrooms  host_is_superhost  distance_centre\n",
      "0             2   1.0       1.0                  0         0.009353\n",
      "1             2   1.0       1.0                  1         0.090967\n",
      "2             5   3.0       1.0                  0         0.063802\n",
      "3             4   1.0       1.0                  1         0.018608\n",
      "4             4   1.0       1.0                  0         0.109902\n"
     ]
    }
   ],
   "source": [
    "#selected_features = select_best_features_f(features, label, number_of_features = 10)\n",
    "selected_features = features[['accommodates', 'beds', 'bedrooms', 'host_is_superhost', 'distance_centre']]\n",
    "features_train, features_test, label_train, label_test = stratified_train_test_split(selected_features, label)\n",
    "features_train, label_train = delete_price_outliers(features_train, label_train)\n",
    "print(selected_features.head())"
   ]
  },
  {
   "cell_type": "markdown",
   "metadata": {},
   "source": [
    "<a id='data_mining'></a>\n",
    "## 2 Data Mining"
   ]
  },
  {
   "cell_type": "markdown",
   "metadata": {},
   "source": [
    "### 2.1 Evaluation of a Dummy Regressor"
   ]
  },
  {
   "cell_type": "code",
   "execution_count": 43,
   "metadata": {},
   "outputs": [
    {
     "name": "stdout",
     "output_type": "stream",
     "text": [
      "Performance of Dummy Regressor (Mean) : 142.69050160645492\n"
     ]
    }
   ],
   "source": [
    "baseline_prediction(features_train, features_test, label_train, label_test)"
   ]
  },
  {
   "cell_type": "markdown",
   "metadata": {},
   "source": [
    "### 2.2 Evaluation of Support Vector Regression"
   ]
  },
  {
   "cell_type": "code",
   "execution_count": 56,
   "metadata": {},
   "outputs": [
    {
     "name": "stdout",
     "output_type": "stream",
     "text": [
      "0.2902009321279804  -  Index(['accommodates', 'beds', 'bedrooms'], dtype='object')\n"
     ]
    }
   ],
   "source": [
    "# Basic Single Run of Support Vector Regression\n",
    "\n",
    "from sklearn.model_selection import KFold\n",
    "from sklearn.model_selection import train_test_split\n",
    "from sklearn.svm import SVR\n",
    "\n",
    "scores = []\n",
    "k_fold_cross_validation = KFold(10, True, 1)\n",
    "for train_index, test_index in k_fold_cross_validation.split(features_train):\n",
    "        \n",
    "    # Support Vector Regressor (SVR)\n",
    "    svr = SVR(kernel='linear', C=1, epsilon=0.1)\n",
    "    svr.fit(features_train, label_train)  \n",
    "    \n",
    "    # Evaluation using testing dataset\n",
    "    scores.append(svr.score(features_test, label_test))  \n",
    "\n",
    "# Calculate performance measures\n",
    "print(np.mean(scores), \" - \", features_test.columns)"
   ]
  },
  {
   "cell_type": "code",
   "execution_count": 8,
   "metadata": {},
   "outputs": [
    {
     "name": "stdout",
     "output_type": "stream",
     "text": [
      "Index(['accommodates'], dtype='object')\n",
      "R2 : 0.28231957313550826\n",
      "Root Mean Squared Error : 120.44740971028456\n",
      "Best R2 : 0.28231957313550826\n",
      "Index(['accommodates', 'beds'], dtype='object')\n",
      "R2 : 0.2865571595502657\n",
      "Root Mean Squared Error : 120.09128883003923\n",
      "Best R2 : 0.2865571595502657\n",
      "Index(['accommodates', 'beds', 'bedrooms'], dtype='object')\n",
      "R2 : 0.2901585923205554\n",
      "Root Mean Squared Error : 119.7877971750042\n",
      "Best R2 : 0.2901585923205554\n",
      "Index(['accommodates', 'beds', 'bedrooms', 'cleaning_fee'], dtype='object')\n",
      "R2 : 0.29005303041719566\n",
      "Root Mean Squared Error : 119.79670378262847\n",
      "Best R2 : 0.2901585923205554\n",
      "Index(['accommodates', 'beds', 'bedrooms', 'cleaning_fee', 'room_type'], dtype='object')\n",
      "R2 : 0.2889670717406365\n",
      "Root Mean Squared Error : 119.88829129855677\n",
      "Best R2 : 0.2901585923205554\n",
      "Index(['accommodates', 'beds', 'bedrooms', 'cleaning_fee', 'room_type',\n",
      "       'cancellation_policy'],\n",
      "      dtype='object')\n",
      "R2 : 0.2876677750742961\n",
      "Root Mean Squared Error : 119.9977794493154\n",
      "Best R2 : 0.2901585923205554\n",
      "Index(['accommodates', 'beds', 'bedrooms', 'cleaning_fee', 'room_type',\n",
      "       'cancellation_policy', 'bathrooms'],\n",
      "      dtype='object')\n",
      "R2 : 0.2891897956456376\n",
      "Root Mean Squared Error : 119.86951292789318\n",
      "Best R2 : 0.2901585923205554\n",
      "Index(['accommodates', 'beds', 'bedrooms', 'cleaning_fee', 'room_type',\n",
      "       'cancellation_policy', 'bathrooms', 'security_deposit'],\n",
      "      dtype='object')\n",
      "R2 : 0.29316953475378005\n",
      "Root Mean Squared Error : 119.53347456164306\n",
      "Best R2 : 0.29316953475378005\n",
      "Index(['accommodates', 'beds', 'bedrooms', 'cleaning_fee', 'room_type',\n",
      "       'cancellation_policy', 'bathrooms', 'security_deposit', 'tv'],\n",
      "      dtype='object')\n",
      "R2 : 0.29207368216733687\n",
      "Root Mean Squared Error : 119.62609955567574\n",
      "Best R2 : 0.29316953475378005\n",
      "Index(['accommodates', 'beds', 'bedrooms', 'cleaning_fee', 'room_type',\n",
      "       'cancellation_policy', 'bathrooms', 'security_deposit', 'tv',\n",
      "       'ludwigsvorstadt-isarvorstadt'],\n",
      "      dtype='object')\n",
      "R2 : 0.2939429731490719\n",
      "Root Mean Squared Error : 119.46805782585746\n",
      "Best R2 : 0.2939429731490719\n",
      "Index(['accommodates', 'beds', 'bedrooms', 'cleaning_fee', 'room_type',\n",
      "       'cancellation_policy', 'bathrooms', 'security_deposit', 'tv',\n",
      "       'ludwigsvorstadt-isarvorstadt', 'average_rent_neighbourhood'],\n",
      "      dtype='object')\n",
      "R2 : 0.3015756249909133\n",
      "Root Mean Squared Error : 118.82056348703668\n",
      "Best R2 : 0.3015756249909133\n",
      "Index(['accommodates', 'beds', 'bedrooms', 'cleaning_fee', 'room_type',\n",
      "       'cancellation_policy', 'bathrooms', 'security_deposit', 'tv',\n",
      "       'ludwigsvorstadt-isarvorstadt', 'average_rent_neighbourhood',\n",
      "       'distance_centre'],\n",
      "      dtype='object')\n",
      "R2 : 0.3018139954507373\n",
      "Root Mean Squared Error : 118.80028517885503\n",
      "Best R2 : 0.3018139954507373\n",
      "Index(['accommodates', 'beds', 'bedrooms', 'cleaning_fee', 'room_type',\n",
      "       'cancellation_policy', 'bathrooms', 'security_deposit', 'tv',\n",
      "       'ludwigsvorstadt-isarvorstadt', 'average_rent_neighbourhood',\n",
      "       'distance_centre', 'minimum_nights'],\n",
      "      dtype='object')\n",
      "R2 : 0.3054342142085723\n",
      "Root Mean Squared Error : 118.49188456468991\n",
      "Best R2 : 0.3054342142085723\n",
      "Index(['accommodates', 'beds', 'bedrooms', 'cleaning_fee', 'room_type',\n",
      "       'cancellation_policy', 'bathrooms', 'security_deposit', 'tv',\n",
      "       'ludwigsvorstadt-isarvorstadt', 'average_rent_neighbourhood',\n",
      "       'distance_centre', 'minimum_nights', 'altstadt-lehel'],\n",
      "      dtype='object')\n",
      "R2 : 0.3060425793213437\n",
      "Root Mean Squared Error : 118.43998010720007\n",
      "Best R2 : 0.3060425793213437\n"
     ]
    }
   ],
   "source": [
    "# Iterate every number of best features on SVR\n",
    "\n",
    "from sklearn.model_selection import KFold\n",
    "from sklearn.model_selection import train_test_split\n",
    "from sklearn.svm import SVR\n",
    "\n",
    "best_r_squared = 0\n",
    "\n",
    "for i in range(1, 15):\n",
    "    \n",
    "    # Prepare features\n",
    "    selected_features = select_best_features_f(features, label, number_of_features = i)\n",
    "    features_train, features_test, label_train, label_test = stratified_train_test_split(selected_features, label)\n",
    "    features_train, label_train = delete_price_outliers(features_train, label_train)\n",
    "    print(selected_features.columns)\n",
    "\n",
    "    # Support Vector Regressor (SVR)\n",
    "    svr = SVR(kernel='linear', C=0.7, epsilon=0.7)\n",
    "    svr.fit(features_train, label_train)  \n",
    "\n",
    "    # Evaluate Results\n",
    "    r_squared = svr.score(features_test, label_test)\n",
    "    predictions = svr.predict(features_test)\n",
    "    root_mean_squared_error = calculate_root_mean_squared_error(label_test, predictions)\n",
    "\n",
    "    print(\"R2 :\", str(r_squared))\n",
    "    print(\"Root Mean Squared Error :\", str(root_mean_squared_error))\n",
    "    \n",
    "    if(r_squared > best_r_squared):\n",
    "        best_r_squared = r_squared\n",
    "    \n",
    "    print(\"Best R2 :\", best_r_squared)"
   ]
  },
  {
   "cell_type": "code",
   "execution_count": 9,
   "metadata": {},
   "outputs": [
    {
     "name": "stdout",
     "output_type": "stream",
     "text": [
      "Best Model: {'estimator': SVR(C=1.0, cache_size=200, coef0=0.0, degree=3, epsilon=0.1,\n",
      "    gamma='auto_deprecated', kernel='linear', max_iter=-1, shrinking=True,\n",
      "    tol=0.001, verbose=False)}\n",
      "RMSE: 119.91004283624567\n",
      "R^2: 0.288709040495277\n"
     ]
    }
   ],
   "source": [
    "from sklearn.preprocessing import StandardScaler\n",
    "from sklearn.feature_selection import f_regression\n",
    "from sklearn.model_selection import train_test_split\n",
    "from sklearn.svm import SVR\n",
    "from sklearn.pipeline import Pipeline\n",
    "from sklearn.metrics import mean_squared_error\n",
    "from sklearn.metrics import mean_absolute_error\n",
    "from sklearn.metrics import mean_squared_error\n",
    "from sklearn.metrics import r2_score\n",
    "import itertools\n",
    "from math import sqrt\n",
    "\n",
    "# test different regression approaches\n",
    "estimators = [ LinearRegression(), Ridge(), KNeighborsRegressor(), DecisionTreeRegressor(), MLPRegressor(), SVR() ]\n",
    "svr = [ SVR(kernel='linear') ]\n",
    "pipeline = Pipeline( [ ('preprocessing', StandardScaler()), ('estimator', None) ])\n",
    "\n",
    "# define a parameter grid\n",
    "parameters = {\n",
    "    'estimator': svr\n",
    "}\n",
    "\n",
    "# define and run a grid search using MSE as scoring metric\n",
    "search = GridSearchCV(pipeline, parameters, cv=10, scoring='neg_mean_squared_error')\n",
    "search.fit(features_train, label_train)\n",
    "\n",
    "# evaluate on test set\n",
    "predictions = search.predict(features_test)\n",
    "mse = mean_squared_error(label_test, predictions)\n",
    "r2 = r2_score(label_test, predictions)\n",
    "\n",
    "print(\"Best Model: {}\".format(search.best_params_))\n",
    "print(\"RMSE: {}\".format(sqrt(mse)))\n",
    "print(\"R^2: {}\".format(r2))"
   ]
  },
  {
   "cell_type": "markdown",
   "metadata": {},
   "source": [
    "### 2.3 Evaluation of the Support Vector Machine"
   ]
  },
  {
   "cell_type": "code",
   "execution_count": 60,
   "metadata": {
    "scrolled": true
   },
   "outputs": [
    {
     "name": "stdout",
     "output_type": "stream",
     "text": [
      "0.2834380434283179  -  ['accommodates']\n",
      "Best:  0.2834380434283179\n",
      "0.15482218098492562  -  ['beds']\n",
      "Best:  0.2834380434283179\n",
      "0.07205478751841932  -  ['bedrooms']\n",
      "Best:  0.2834380434283179\n",
      "-0.07003971842387413  -  ['host_is_superhost']\n",
      "Best:  0.2834380434283179\n",
      "-0.08010452658419909  -  ['distance_centre']\n",
      "Best:  0.2834380434283179\n",
      "0.2891591720060819  -  ['accommodates', 'beds']\n",
      "Best:  0.2891591720060819\n",
      "0.28442730223231827  -  ['accommodates', 'bedrooms']\n",
      "Best:  0.2891591720060819\n",
      "0.2823672676349661  -  ['accommodates', 'host_is_superhost']\n",
      "Best:  0.2891591720060819\n",
      "0.2832951087475435  -  ['accommodates', 'distance_centre']\n",
      "Best:  0.2891591720060819\n",
      "0.15771569035969157  -  ['beds', 'bedrooms']\n",
      "Best:  0.2891591720060819\n",
      "0.1547815809946922  -  ['beds', 'host_is_superhost']\n",
      "Best:  0.2891591720060819\n",
      "0.15505859341669592  -  ['beds', 'distance_centre']\n",
      "Best:  0.2891591720060819\n",
      "0.07707866181322964  -  ['bedrooms', 'host_is_superhost']\n",
      "Best:  0.2891591720060819\n",
      "0.07199101526620133  -  ['bedrooms', 'distance_centre']\n",
      "Best:  0.2891591720060819\n",
      "-0.07030052562526512  -  ['host_is_superhost', 'distance_centre']\n",
      "Best:  0.2891591720060819\n",
      "0.2865798375848617  -  ['accommodates', 'beds', 'bedrooms']\n",
      "Best:  0.2891591720060819\n",
      "0.2892365149226386  -  ['accommodates', 'beds', 'host_is_superhost']\n",
      "Best:  0.2892365149226386\n",
      "0.28902309052368413  -  ['accommodates', 'beds', 'distance_centre']\n",
      "Best:  0.2892365149226386\n",
      "0.2835386229683201  -  ['accommodates', 'bedrooms', 'host_is_superhost']\n",
      "Best:  0.2892365149226386\n",
      "0.2841467845225516  -  ['accommodates', 'bedrooms', 'distance_centre']\n",
      "Best:  0.2892365149226386\n",
      "0.28235649531774365  -  ['accommodates', 'host_is_superhost', 'distance_centre']\n",
      "Best:  0.2892365149226386\n",
      "0.16161002280018621  -  ['beds', 'bedrooms', 'host_is_superhost']\n",
      "Best:  0.2892365149226386\n",
      "0.15798681449808116  -  ['beds', 'bedrooms', 'distance_centre']\n",
      "Best:  0.2892365149226386\n",
      "0.15479300859236167  -  ['beds', 'host_is_superhost', 'distance_centre']\n",
      "Best:  0.2892365149226386\n",
      "0.07636348027942408  -  ['bedrooms', 'host_is_superhost', 'distance_centre']\n",
      "Best:  0.2892365149226386\n",
      "0.28744113676604144  -  ['accommodates', 'beds', 'bedrooms', 'host_is_superhost']\n",
      "Best:  0.2892365149226386\n",
      "0.2868443288779685  -  ['accommodates', 'beds', 'bedrooms', 'distance_centre']\n",
      "Best:  0.2892365149226386\n",
      "0.2894209957595886  -  ['accommodates', 'beds', 'host_is_superhost', 'distance_centre']\n",
      "Best:  0.2894209957595886\n",
      "0.2841485021094091  -  ['accommodates', 'bedrooms', 'host_is_superhost', 'distance_centre']\n",
      "Best:  0.2894209957595886\n",
      "0.16150801670130321  -  ['beds', 'bedrooms', 'host_is_superhost', 'distance_centre']\n",
      "Best:  0.2894209957595886\n",
      "0.2884017385165767  -  ['accommodates', 'beds', 'bedrooms', 'host_is_superhost', 'distance_centre']\n",
      "Best:  0.2894209957595886\n"
     ]
    }
   ],
   "source": [
    "%run modules/evaluation.py\n",
    "\n",
    "from sklearn.model_selection import KFold\n",
    "from sklearn.model_selection import train_test_split\n",
    "from sklearn.svm import SVR\n",
    "\n",
    "best_r2 = 0\n",
    "\n",
    "# Generate all feature combinations\n",
    "feature_combinations = generate_feature_combinations(features_train)\n",
    "\n",
    "for feature_combination in feature_combinations:\n",
    "    \n",
    "    # Filter the selected features\n",
    "    selected_features_train = features_train[feature_combination]\n",
    "    selected_features_test = features_test[feature_combination]\n",
    "\n",
    "    # Support Vector Regressor (SVR) using training dataset\n",
    "    svr = SVR(kernel='linear', C=0.2, epsilon=0.1)\n",
    "    svr.fit(selected_features_train, label_train)\n",
    "\n",
    "    # Evaluation using testing dataset\n",
    "    score = svr.score(selected_features_test, label_test) \n",
    "\n",
    "    # Calculate performance measures\n",
    "    print(score, \" - \", feature_combination)\n",
    "\n",
    "    # Save best model\n",
    "    if(score > best_r2):\n",
    "          best_r2 = score\n",
    "            \n",
    "    print(\"Best: \", best_r2)"
   ]
  },
  {
   "cell_type": "markdown",
   "metadata": {},
   "source": [
    "### 2.4 Evaluation of Linear Regression"
   ]
  },
  {
   "cell_type": "code",
   "execution_count": 102,
   "metadata": {},
   "outputs": [
    {
     "name": "stdout",
     "output_type": "stream",
     "text": [
      "MSE: 12205.405453113695\n",
      "RMSE: 110.47807679858342\n",
      "R^2: 0.39620656940976784\n"
     ]
    }
   ],
   "source": [
    "from sklearn.linear_model import LinearRegression\n",
    "from sklearn.metrics import mean_squared_error, r2_score\n",
    "from math import sqrt\n",
    "from sklearn.model_selection import train_test_split\n",
    "\n",
    "#, stratify=y_binned\n",
    "#, random_state = 42\n",
    "x_train, x_test, y_train, y_test = train_test_split(features, label, test_size = 0.2, random_state = 42, stratify=bins)\n",
    "\n",
    "#x_train, y_train = delete_price_outliers(x_train, y_train)\n",
    "\n",
    "reg = LinearRegression()\n",
    "reg.fit(x_train, y_train)\n",
    "prediction = reg.predict(x_test)\n",
    "mse = mean_squared_error(y_test, prediction)\n",
    "r2 = r2_score(y_test, prediction)\n",
    "print(\"MSE:\", mse)\n",
    "print(\"RMSE:\", sqrt(mse))\n",
    "print(\"R^2:\", r2)"
   ]
  },
  {
   "cell_type": "markdown",
   "metadata": {},
   "source": [
    "### 2.5 Evaluation of Advanced Regression"
   ]
  },
  {
   "cell_type": "code",
   "execution_count": 128,
   "metadata": {},
   "outputs": [
    {
     "name": "stdout",
     "output_type": "stream",
     "text": [
      "{'alpha': 20}\n",
      "-4696.814613726855\n"
     ]
    }
   ],
   "source": [
    "#1. Ridge Regression\n",
    "from sklearn.linear_model import Ridge\n",
    "from sklearn.model_selection import GridSearchCV\n",
    "\n",
    "rr_est = Ridge()\n",
    "param = {\"alpha\": [1e-10, 1e-8, 1e-4,1e-3, 1e-2, 1, 5, 10, 20]}\n",
    "\n",
    "rr_est_opt = GridSearchCV(rr_est, param, scoring=\"neg_mean_squared_error\", cv=5)\n",
    "rr_est_opt.fit(x_train, y_train)\n",
    "\n",
    "# Get best param\n",
    "print(rr_est_opt.best_params_)\n",
    "print(rr_est_opt.best_score_)"
   ]
  },
  {
   "cell_type": "code",
   "execution_count": 129,
   "metadata": {},
   "outputs": [
    {
     "name": "stdout",
     "output_type": "stream",
     "text": [
      "MSE: 11276.885237588422\n",
      "RMSE: 106.19267977402407\n",
      "R^2: 0.3831739616006318\n"
     ]
    }
   ],
   "source": [
    "# Test with alpha 20\n",
    "from sklearn.linear_model import ridge\n",
    "rr = Ridge(alpha = 20)\n",
    "rr.fit(x_train, y_train)\n",
    "rr.coef_\n",
    "\n",
    "#Test and Evaluate\n",
    "rr_predictions = rr.predict(x_test)\n",
    "\n",
    "mse = mean_squared_error(y_test, rr_predictions)\n",
    "r2 = r2_score(y_test, rr_predictions)\n",
    "\n",
    "print(\"MSE:\", mse)\n",
    "print(\"RMSE:\", sqrt(mse))\n",
    "print(\"R^2:\", r2)"
   ]
  },
  {
   "cell_type": "markdown",
   "metadata": {},
   "source": [
    "## 2.6. Evaluation of KNN Regression"
   ]
  },
  {
   "cell_type": "code",
   "execution_count": 2,
   "metadata": {},
   "outputs": [],
   "source": [
    "from sklearn.neighbors import KNeighborsRegressor\n",
    "from sklearn.model_selection import StratifiedKFold\n",
    "from sklearn.model_selection import GridSearchCV\n",
    "from sklearn import neighbors\n",
    "import numpy as np\n",
    "import matplotlib.pyplot as plt\n",
    "from sklearn import neighbors\n",
    "from sklearn import metrics\n",
    "from sklearn.metrics import fbeta_score, make_scorer, mean_squared_error\n",
    "import itertools\n",
    "from sklearn.model_selection import KFold\n",
    "from sklearn.model_selection import train_test_split\n",
    "from sklearn.model_selection import cross_val_score\n",
    "import plotly.express as px"
   ]
  },
  {
   "cell_type": "markdown",
   "metadata": {},
   "source": [
    "#### Evaluate development of error term with different values for K"
   ]
  },
  {
   "cell_type": "code",
   "execution_count": null,
   "metadata": {},
   "outputs": [
    {
     "name": "stdout",
     "output_type": "stream",
     "text": [
      "Negative Mean squared error:  -21477.76092454774 for a K of 1\n",
      "Negative Mean squared error:  -18172.159012237866 for a K of 2\n",
      "Negative Mean squared error:  -17441.135494347203 for a K of 3\n",
      "Negative Mean squared error:  -16850.657433589662 for a K of 4\n",
      "Negative Mean squared error:  -16791.13280286299 for a K of 5\n",
      "Negative Mean squared error:  -16765.48719289242 for a K of 6\n",
      "Negative Mean squared error:  -16734.8804725024 for a K of 7\n",
      "Negative Mean squared error:  -16628.455845007862 for a K of 8\n",
      "Negative Mean squared error:  -16626.042864958483 for a K of 9\n",
      "Negative Mean squared error:  -16627.058175746464 for a K of 10\n",
      "Negative Mean squared error:  -16611.733558632426 for a K of 11\n",
      "Negative Mean squared error:  -16613.513410009924 for a K of 12\n",
      "Negative Mean squared error:  -16660.906663192593 for a K of 13\n",
      "Negative Mean squared error:  -16697.553606518184 for a K of 14\n",
      "Negative Mean squared error:  -16750.762711447842 for a K of 15\n",
      "Negative Mean squared error:  -16744.852812006735 for a K of 16\n",
      "Negative Mean squared error:  -16721.63708761064 for a K of 17\n",
      "Negative Mean squared error:  -16774.11865973724 for a K of 18\n",
      "Negative Mean squared error:  -16785.511451063172 for a K of 19\n",
      "Negative Mean squared error:  -16803.709643445214 for a K of 20\n",
      "Negative Mean squared error:  -16824.827800683568 for a K of 21\n",
      "Negative Mean squared error:  -16852.967029045303 for a K of 22\n",
      "Negative Mean squared error:  -16864.76491645321 for a K of 23\n",
      "Negative Mean squared error:  -16897.75603088103 for a K of 24\n",
      "Negative Mean squared error:  -16908.666332627938 for a K of 25\n",
      "Negative Mean squared error:  -16894.59355594266 for a K of 26\n",
      "Negative Mean squared error:  -16934.838377053366 for a K of 27\n",
      "Negative Mean squared error:  -16947.002892454075 for a K of 28\n"
     ]
    }
   ],
   "source": [
    "%run modules/evaluation.py\n",
    "\n",
    "best_nmse = -100000\n",
    "\n",
    "neg_mse = []\n",
    "for K in range(30):\n",
    "    K = K + 1\n",
    "    knn = neighbors.KNeighborsRegressor(n_neighbors=K)\n",
    "\n",
    "    # k-fold cross-validation (k = 10)\n",
    "    scores = []\n",
    "    k_fold_cross_validation = KFold(10, True, 1)\n",
    "    for train_index, test_index in k_fold_cross_validation.split(features):\n",
    "\n",
    "        # KNN Regression using training dataset\n",
    "        knn = neighbors.KNeighborsRegressor(n_neighbors=K)\n",
    "        knn.fit(x_train, y_train)\n",
    "\n",
    "        # Evaluation using testing dataset\n",
    "        scores.append(cross_val_score(knn, x_train, y_train, scoring='neg_mean_squared_error'))  \n",
    "\n",
    "    # Calculate performance measures\n",
    "    print(\"Negative mean squared error: \", str(np.mean(scores)), \"for a K of\", K)\n",
    "    neg_mse.append(np.mean(scores))\n",
    "    \n",
    "    # Save best model\n",
    "    if(np.mean(scores) > best_nmse):\n",
    "          best_nmse = np.mean(scores)\n",
    "            \n",
    "# plotting the rmse values against k values\n",
    "curve = px.line(data, x=\"Value of K\", y=\"Negative Mean Squared Error\", title='Change of NMSE for different values of K')\n",
    "curve.show()\n",
    "\n",
    "\n",
    "print(\"Best: \", best_nmse)"
   ]
  },
  {
   "cell_type": "markdown",
   "metadata": {},
   "source": [
    "#### GridSearch to evaluate the best parameter values"
   ]
  },
  {
   "cell_type": "code",
   "execution_count": 11,
   "metadata": {},
   "outputs": [
    {
     "name": "stdout",
     "output_type": "stream",
     "text": [
      "Best Model: {'metric': 'manhattan', 'n_neighbors': 12, 'weights': 'distance'}\n",
      "RMSE: 130.14655641574794\n",
      "R^2: 0.16208196988783952\n",
      "best score is -15456.122970596134 with params {'metric': 'manhattan', 'n_neighbors': 12, 'weights': 'distance'}\n"
     ]
    }
   ],
   "source": [
    "# create an estimator\n",
    "knn_estimator = neighbors.KNeighborsRegressor()\n",
    "parameters = {\n",
    "    'n_neighbors': range(2, 30),\n",
    "    'weights': ['uniform', 'distance'],\n",
    "    'metric': ['manhattan', 'euclidean', 'minkowski', 'chebyshev']\n",
    "}\n",
    "\n",
    "# specify the cross validation\n",
    "k_fold_cross_validation = KFold(10, True, 1)\n",
    "\n",
    "grid_search_estimator = GridSearchCV(knn_estimator, parameters, cv=k_fold_cross_validation, scoring='neg_mean_squared_error')\n",
    "grid_search_estimator.fit(x_train,y_train)\n",
    "grid_search_estimator.best_params_\n",
    "\n",
    "# evaluate on test set\n",
    "predictions = grid_search_estimator.predict(x_test)\n",
    "mse = mean_squared_error(y_test, predictions)\n",
    "r2 = r2_score(y_test, predictions)\n",
    "\n",
    "print(\"Best Model: {}\".format(grid_search_estimator.best_params_))\n",
    "print(\"RMSE: {}\".format(sqrt(mse)))\n",
    "print(\"R^2: {}\".format(r2))\n",
    "\n",
    "\n",
    "# print the best parameter setting\n",
    "print(\"best score is {} with params {}\".format(grid_search_estimator.best_score_, grid_search_estimator.best_params_))"
   ]
  },
  {
   "cell_type": "markdown",
   "metadata": {},
   "source": [
    "#### Tryout different feature combinations"
   ]
  },
  {
   "cell_type": "code",
   "execution_count": null,
   "metadata": {},
   "outputs": [],
   "source": [
    "%run modules/evaluation.py\n",
    "\n",
    "best_r2 = 0\n",
    "best_feature_combi = 0\n",
    "\n",
    "# Generate all feature combinations\n",
    "feature_combinations = generate_feature_combinations(features)\n",
    "\n",
    "for feature_combination in feature_combinations:\n",
    "    # Filter the selected features\n",
    "    \n",
    "    x_train = x_train[feature_combination]\n",
    "    y_train = y_train[feature_combination]\n",
    "            \n",
    "    # Tryout with manhatten\n",
    "    knn = KNeighborsRegressor(n_neighbors = 9, metric = 'manhattan', weights= 'uniform')\n",
    "    knn.fit(x_train, y_train)\n",
    "    price_predicted = knn.predict(x_test)\n",
    "\n",
    "    # evaluate using different measures\n",
    "    mse = mean_squared_error(y_test, price_predicted)\n",
    "    r2 = r2_score(y_test, price_predicted)\n",
    "        \n",
    "    print(\"Evaluation of feature combination\", feature_combination)\n",
    "    print(\"MSE:\", mse)\n",
    "    print(\"RMSE:\", sqrt(mse))\n",
    "    print(\"R^2:\", r2)\n",
    "        \n",
    "    if(r2 > best_r2):\n",
    "        best_r2 = r2\n",
    "        best_feature_combi = feature_combination\n",
    "            \n",
    "    print(\"Best score so far:\", best_r2, \"with the features:\", best_feature_combi)\n",
    "        \n",
    "print(\"Best score overall: \", best_r2, \"with the features:\", best_feature_combi)"
   ]
  },
  {
   "cell_type": "markdown",
   "metadata": {},
   "source": [
    "<a id='interpretation_evaluation'></a>\n",
    "## 3 Interpretation and Evaluation"
   ]
  },
  {
   "cell_type": "code",
   "execution_count": 10,
   "metadata": {},
   "outputs": [
    {
     "name": "stdout",
     "output_type": "stream",
     "text": [
      "accommodates   beds   0.7060608155629018\n",
      "bedrooms   beds   0.6501529074983061\n",
      "beds   accommodates   0.7060608155629018\n",
      "beds   bedrooms   0.6501529074983061\n",
      "require_guest_profile_picture   require_guest_phone_verification   0.7871857495927765\n",
      "require_guest_phone_verification   require_guest_profile_picture   0.7871857495927765\n",
      "verification_government_id   verification_jumio   0.9765520138913213\n",
      "verification_jumio   verification_government_id   0.9765520138913213\n",
      "verification_offline_government_id   verification_selfie   0.6336336790497336\n",
      "verification_selfie   verification_offline_government_id   0.6336336790497336\n"
     ]
    }
   ],
   "source": [
    "# Check correlation of independant variables\n",
    "corr_matrix = preprocessed_df.corr()\n",
    "for (column_name, column_data) in corr_matrix.iteritems():\n",
    "    for row_name, value in column_data.iteritems():\n",
    "        if(value > 0.6 and column_name != row_name):\n",
    "            print(column_name, \" \", row_name, \" \", value)"
   ]
  }
 ],
 "metadata": {
  "kernelspec": {
   "display_name": "Python 3",
   "language": "python",
   "name": "python3"
  },
  "language_info": {
   "codemirror_mode": {
    "name": "ipython",
    "version": 3
   },
   "file_extension": ".py",
   "mimetype": "text/x-python",
   "name": "python",
   "nbconvert_exporter": "python",
   "pygments_lexer": "ipython3",
   "version": "3.7.3"
  }
 },
 "nbformat": 4,
 "nbformat_minor": 4
}
