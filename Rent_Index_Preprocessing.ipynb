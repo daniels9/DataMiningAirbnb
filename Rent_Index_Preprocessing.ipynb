{
 "cells": [
  {
   "cell_type": "code",
   "execution_count": 20,
   "metadata": {
    "collapsed": true
   },
   "outputs": [
    {
     "name": "stdout",
     "output_type": "stream",
     "text": [
      "Python version:\n",
      "    3.7.3 | packaged by conda-forge | (default, Jul  1 2019, 22:01:29) [MSC v.1900 64 bit (AMD64)]\n",
      "Java version:\n",
      "    java version \"12.0.2\" 2019-07-16\r\n",
      "Java(TM) SE Runtime Environment (build 12.0.2+10)\r\n",
      "Java HotSpot(TM) 64-Bit Server VM (build 12.0.2+10, mixed mode, sharing)\n",
      "tabula-py version: 1.4.1\n",
      "platform: Windows-10-10.0.18362-SP0\n",
      "uname:\n",
      "    uname_result(system='Windows', node='DaisyDuck', release='10', version='10.0.18362', machine='AMD64', processor='Intel64 Family 6 Model 61 Stepping 4, GenuineIntel')\n",
      "linux_distribution: ('', '', '')\n",
      "mac_ver: ('', ('', '', ''), '')\n",
      "    \n"
     ]
    }
   ],
   "source": [
    "import pandas as pd\n",
    "from tabula import read_pdf\n",
    "import tabula \n",
    "import re\n",
    "\n",
    "#check wether tabula finds Java Runtime Enviroment\n",
    "tabula.environment_info()\n",
    "\n",
    "#import and parse data in pdf.format\n",
    "df = read_pdf(\"data/Datenananalyse LHM Mietspiegel 2019.pdf\", pages='all')"
   ]
  },
  {
   "cell_type": "code",
   "execution_count": 21,
   "metadata": {
    "collapsed": true
   },
   "outputs": [],
   "source": [
    "#create dictionary with number for every district\n",
    "munich_dict = {\n",
    "    \"2\" : \"Ludwigsvorstadt-Isarvorstadt\",  \n",
    "    \"3\" : \"Maxvorstadt\",                                               \n",
    "    \"4\" : \"Schwabing-West\",\n",
    "    \"9\" :\"Neuhausen-Nymphenburg\",\n",
    "    \"5\" : \"Au-Haidhausen\",                                              \n",
    "    \"12\" : \"Schwabing-Freimann\",                                         \n",
    "    \"13\" : \"Bogenhausen\",                                                \n",
    "    \"11\" : \"Milbertshofen-Am Hart\",                                      \n",
    "    \"6\" : \"Sendling\",                                                   \n",
    "    \"8\" : \"Schwanthalerhöhe\",                                           \n",
    "    \"16\" : \"Ramersdorf-Perlach\",                                         \n",
    "    \"7\" : \"Sendling-Westpark\",                                          \n",
    "    \"19\" : \"Thalkirchen-Obersendling-Forstenried-Fürstenried-Solln\",     \n",
    "    \"25\" : \"Laim\",                                                       \n",
    "    \"17\" : \"Obergiesing\",                                                \n",
    "    \"18\" : \"Untergiesing-Harlaching\",                                    \n",
    "    \"1\" : \"Altstadt-Lehel\",                                             \n",
    "    \"15\" : \"Tudering-Riem\",                                              \n",
    "    \"21\" : \"Pasing-Obermenzing\",                                         \n",
    "    \"14\" : \"Berg am Laim\",                                               \n",
    "    \"10\" : \"Moosach\",                                                    \n",
    "    \"20\" : \"Hadern\",                                                     \n",
    "    \"24\" : \"Feldmoching-Hasenbergl\",                                      \n",
    "    \"22\" : \"Aubing-Lochhausen-Langwied\",                                  \n",
    "    \"23\" : \"Allach-Untermenzing\",                                         \n",
    "}"
   ]
  },
  {
   "cell_type": "code",
   "execution_count": 22,
   "metadata": {
    "collapsed": true
   },
   "outputs": [],
   "source": [
    "#drop rows where, at the beginning of every page, the column name was registered as a value\n",
    "df = df[df.Stadtbezirksteil != 'Stadtbezirksteil']\n",
    "\n",
    "#convert variable rent to float\n",
    "df.loc[:,'Nettokaltmiete\\rpro m2 in Euro'] = df.loc[:,'Nettokaltmiete\\rpro m2 in Euro'].str.replace(',', '.').astype(float)"
   ]
  },
  {
   "cell_type": "code",
   "execution_count": 23,
   "metadata": {
    "collapsed": true
   },
   "outputs": [],
   "source": [
    "# create new column for neighbourhood name\n",
    "df['neighbourhood'] = \"\"\n",
    "\n",
    "#iterate over df and dictionary and assign neighbourhood name to every case\n",
    "for index, row in df.iterrows():\n",
    "    district_number = re.search(\"(\\d+)\\.\", row.Stadtbezirksteil) #extract district number from string using regular expressions\n",
    "    for key in munich_dict.keys():\n",
    "        if (key == district_number.group(1)):\n",
    "            df.loc[index, 'neighbourhood'] = munich_dict[key]"
   ]
  },
  {
   "cell_type": "code",
   "execution_count": 24,
   "metadata": {
    "collapsed": true
   },
   "outputs": [
    {
     "data": {
      "text/plain": [
       "count                      3024\n",
       "unique                       25\n",
       "top       Neuhausen-Nymphenburg\n",
       "freq                        235\n",
       "Name: neighbourhood, dtype: object"
      ]
     },
     "execution_count": 24,
     "metadata": {},
     "output_type": "execute_result"
    }
   ],
   "source": [
    "df['neighbourhood'].describe()"
   ]
  },
  {
   "cell_type": "code",
   "execution_count": 25,
   "metadata": {
    "collapsed": true
   },
   "outputs": [
    {
     "data": {
      "text/html": [
       "<div>\n",
       "<style scoped>\n",
       "    .dataframe tbody tr th:only-of-type {\n",
       "        vertical-align: middle;\n",
       "    }\n",
       "\n",
       "    .dataframe tbody tr th {\n",
       "        vertical-align: top;\n",
       "    }\n",
       "\n",
       "    .dataframe thead th {\n",
       "        text-align: right;\n",
       "    }\n",
       "</style>\n",
       "<table border=\"1\" class=\"dataframe\">\n",
       "  <thead>\n",
       "    <tr style=\"text-align: right;\">\n",
       "      <th></th>\n",
       "      <th>average_rent_euro</th>\n",
       "    </tr>\n",
       "  </thead>\n",
       "  <tbody>\n",
       "    <tr>\n",
       "      <th>count</th>\n",
       "      <td>3024.000000</td>\n",
       "    </tr>\n",
       "    <tr>\n",
       "      <th>mean</th>\n",
       "      <td>11.724312</td>\n",
       "    </tr>\n",
       "    <tr>\n",
       "      <th>std</th>\n",
       "      <td>3.135560</td>\n",
       "    </tr>\n",
       "    <tr>\n",
       "      <th>min</th>\n",
       "      <td>2.880000</td>\n",
       "    </tr>\n",
       "    <tr>\n",
       "      <th>25%</th>\n",
       "      <td>9.707500</td>\n",
       "    </tr>\n",
       "    <tr>\n",
       "      <th>50%</th>\n",
       "      <td>11.740000</td>\n",
       "    </tr>\n",
       "    <tr>\n",
       "      <th>75%</th>\n",
       "      <td>13.640000</td>\n",
       "    </tr>\n",
       "    <tr>\n",
       "      <th>max</th>\n",
       "      <td>27.900000</td>\n",
       "    </tr>\n",
       "  </tbody>\n",
       "</table>\n",
       "</div>"
      ],
      "text/plain": [
       "       average_rent_euro\n",
       "count        3024.000000\n",
       "mean           11.724312\n",
       "std             3.135560\n",
       "min             2.880000\n",
       "25%             9.707500\n",
       "50%            11.740000\n",
       "75%            13.640000\n",
       "max            27.900000"
      ]
     },
     "execution_count": 25,
     "metadata": {},
     "output_type": "execute_result"
    }
   ],
   "source": [
    "df['average_rent_euro'] = df['Nettokaltmiete\\rpro m2 in Euro']\n",
    "df = df.drop(columns = 'Nettokaltmiete\\rpro m2 in Euro')\n",
    "df.describe()"
   ]
  },
  {
   "cell_type": "code",
   "execution_count": 27,
   "metadata": {
    "collapsed": true
   },
   "outputs": [],
   "source": [
    "#group df by neighbourhoods and calculate mean for every neighbourhood\n",
    "final = df.groupby('neighbourhood').mean()\n",
    "\n",
    "#export generated data to csv-file\n",
    "final.to_csv('data/rent_index_Munich.csv')"
   ]
  }
 ],
 "metadata": {
  "kernelspec": {
   "display_name": "Python 3",
   "language": "python",
   "name": "python3"
  },
  "language_info": {
   "codemirror_mode": {
    "name": "ipython",
    "version": 3
   },
   "file_extension": ".py",
   "mimetype": "text/x-python",
   "name": "python",
   "nbconvert_exporter": "python",
   "pygments_lexer": "ipython3",
   "version": "3.7.3"
  }
 },
 "nbformat": 4,
 "nbformat_minor": 2
}
