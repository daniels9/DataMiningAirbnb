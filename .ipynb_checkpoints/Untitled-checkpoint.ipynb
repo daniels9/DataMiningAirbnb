{
 "cells": [
  {
   "cell_type": "code",
   "execution_count": 9,
   "metadata": {},
   "outputs": [],
   "source": [
    "import pandas as pd\n",
    "import matplotlib.pyplot as plt\n",
    "from sklearn.model_selection import train_test_split\n",
    "from sklearn.linear_model import LinearRegression\n",
    "from sklearn.linear_model import LinearRegression\n",
    "from sklearn.preprocessing import PolynomialFeatures\n",
    "from sklearn.pipeline import Pipeline\n",
    "from sklearn.metrics import mean_squared_error, r2_score\n",
    "from math import sqrt\n",
    "from sklearn.feature_selection import f_regression\n",
    "from sklearn.feature_selection import SelectKBest, SelectFwe\n",
    "from collections import Counter\n",
    "from sklearn import preprocessing"
   ]
  },
  {
   "cell_type": "code",
   "execution_count": 2,
   "metadata": {},
   "outputs": [
    {
     "name": "stderr",
     "output_type": "stream",
     "text": [
      "C:\\Users\\d067795\\AppData\\Local\\Continuum\\anaconda3\\lib\\site-packages\\IPython\\core\\interactiveshell.py:3057: DtypeWarning: Columns (43,61,62,94) have mixed types. Specify dtype option on import or set low_memory=False.\n",
      "  interactivity=interactivity, compiler=compiler, result=result)\n"
     ]
    },
    {
     "data": {
      "text/html": [
       "<div>\n",
       "<style scoped>\n",
       "    .dataframe tbody tr th:only-of-type {\n",
       "        vertical-align: middle;\n",
       "    }\n",
       "\n",
       "    .dataframe tbody tr th {\n",
       "        vertical-align: top;\n",
       "    }\n",
       "\n",
       "    .dataframe thead th {\n",
       "        text-align: right;\n",
       "    }\n",
       "</style>\n",
       "<table border=\"1\" class=\"dataframe\">\n",
       "  <thead>\n",
       "    <tr style=\"text-align: right;\">\n",
       "      <th></th>\n",
       "      <th>neighbourhood_cleansed</th>\n",
       "      <th>property_type</th>\n",
       "      <th>room_type</th>\n",
       "      <th>accommodates</th>\n",
       "      <th>bathrooms</th>\n",
       "      <th>bedrooms</th>\n",
       "      <th>beds</th>\n",
       "      <th>bed_type</th>\n",
       "      <th>amenities</th>\n",
       "      <th>price</th>\n",
       "    </tr>\n",
       "  </thead>\n",
       "  <tbody>\n",
       "    <tr>\n",
       "      <th>0</th>\n",
       "      <td>Ludwigsvorstadt-Isarvorstadt</td>\n",
       "      <td>Apartment</td>\n",
       "      <td>Entire home/apt</td>\n",
       "      <td>2</td>\n",
       "      <td>1.0</td>\n",
       "      <td>1.0</td>\n",
       "      <td>1.0</td>\n",
       "      <td>Futon</td>\n",
       "      <td>{TV,\"Cable TV\",Internet,Wifi,Kitchen,Heating,W...</td>\n",
       "      <td>95.0</td>\n",
       "    </tr>\n",
       "    <tr>\n",
       "      <th>1</th>\n",
       "      <td>Hadern</td>\n",
       "      <td>Apartment</td>\n",
       "      <td>Entire home/apt</td>\n",
       "      <td>2</td>\n",
       "      <td>1.0</td>\n",
       "      <td>1.0</td>\n",
       "      <td>1.0</td>\n",
       "      <td>Real Bed</td>\n",
       "      <td>{TV,\"Cable TV\",Wifi,Kitchen,\"Free street parki...</td>\n",
       "      <td>80.0</td>\n",
       "    </tr>\n",
       "    <tr>\n",
       "      <th>2</th>\n",
       "      <td>Berg am Laim</td>\n",
       "      <td>Apartment</td>\n",
       "      <td>Entire home/apt</td>\n",
       "      <td>5</td>\n",
       "      <td>1.0</td>\n",
       "      <td>1.0</td>\n",
       "      <td>3.0</td>\n",
       "      <td>Real Bed</td>\n",
       "      <td>{TV,\"Cable TV\",Internet,Wifi,Kitchen,\"Buzzer/w...</td>\n",
       "      <td>95.0</td>\n",
       "    </tr>\n",
       "    <tr>\n",
       "      <th>3</th>\n",
       "      <td>Maxvorstadt</td>\n",
       "      <td>Apartment</td>\n",
       "      <td>Entire home/apt</td>\n",
       "      <td>4</td>\n",
       "      <td>1.0</td>\n",
       "      <td>1.0</td>\n",
       "      <td>1.0</td>\n",
       "      <td>Real Bed</td>\n",
       "      <td>{TV,\"Cable TV\",Wifi,Kitchen,\"Pets allowed\",Bre...</td>\n",
       "      <td>120.0</td>\n",
       "    </tr>\n",
       "    <tr>\n",
       "      <th>4</th>\n",
       "      <td>Pasing-Obermenzing</td>\n",
       "      <td>Apartment</td>\n",
       "      <td>Entire home/apt</td>\n",
       "      <td>4</td>\n",
       "      <td>1.0</td>\n",
       "      <td>1.0</td>\n",
       "      <td>1.0</td>\n",
       "      <td>Real Bed</td>\n",
       "      <td>{TV,\"Cable TV\",Internet,Wifi,Kitchen,\"Smoking ...</td>\n",
       "      <td>55.0</td>\n",
       "    </tr>\n",
       "  </tbody>\n",
       "</table>\n",
       "</div>"
      ],
      "text/plain": [
       "         neighbourhood_cleansed property_type        room_type  accommodates  \\\n",
       "0  Ludwigsvorstadt-Isarvorstadt     Apartment  Entire home/apt             2   \n",
       "1                        Hadern     Apartment  Entire home/apt             2   \n",
       "2                  Berg am Laim     Apartment  Entire home/apt             5   \n",
       "3                   Maxvorstadt     Apartment  Entire home/apt             4   \n",
       "4            Pasing-Obermenzing     Apartment  Entire home/apt             4   \n",
       "\n",
       "   bathrooms  bedrooms  beds  bed_type  \\\n",
       "0        1.0       1.0   1.0     Futon   \n",
       "1        1.0       1.0   1.0  Real Bed   \n",
       "2        1.0       1.0   3.0  Real Bed   \n",
       "3        1.0       1.0   1.0  Real Bed   \n",
       "4        1.0       1.0   1.0  Real Bed   \n",
       "\n",
       "                                           amenities  price  \n",
       "0  {TV,\"Cable TV\",Internet,Wifi,Kitchen,Heating,W...   95.0  \n",
       "1  {TV,\"Cable TV\",Wifi,Kitchen,\"Free street parki...   80.0  \n",
       "2  {TV,\"Cable TV\",Internet,Wifi,Kitchen,\"Buzzer/w...   95.0  \n",
       "3  {TV,\"Cable TV\",Wifi,Kitchen,\"Pets allowed\",Bre...  120.0  \n",
       "4  {TV,\"Cable TV\",Internet,Wifi,Kitchen,\"Smoking ...   55.0  "
      ]
     },
     "execution_count": 2,
     "metadata": {},
     "output_type": "execute_result"
    }
   ],
   "source": [
    "munich = pd.read_csv('Data/listings_Munich_July.csv')\n",
    "\n",
    "# drop all colums except the ones that we are using\n",
    "munich = munich.loc[:, munich.columns.intersection(['neighbourhood_cleansed', 'property_type', 'room_type', 'accommodates', 'bathrooms', 'bedrooms', 'beds', 'bed_type', 'price', 'amenities'])]\n",
    "\n",
    "# convert column price to float values without leading $ sign\n",
    "munich['price'] = munich['price'].replace( '[\\$,)]','', regex=True ).astype(float)\n",
    "\n",
    "munich.head()"
   ]
  },
  {
   "cell_type": "code",
   "execution_count": 11,
   "metadata": {},
   "outputs": [
    {
     "name": "stdout",
     "output_type": "stream",
     "text": [
      "neighbourhood_cleansed     object\n",
      "property_type              object\n",
      "room_type                  object\n",
      "accommodates              float64\n",
      "bathrooms                 float64\n",
      "bedrooms                  float64\n",
      "beds                      float64\n",
      "bed_type                   object\n",
      "amenities                  object\n",
      "price                     float64\n",
      "dtype: object\n"
     ]
    },
    {
     "data": {
      "image/png": "[encoded data removed]",
      "text/plain": [
       "<Figure size 432x288 with 1 Axes>"
      ]
     },
     "metadata": {
      "needs_background": "light"
     },
     "output_type": "display_data"
    },
    {
     "data": {
      "image/png": "[encoded data removed]",
      "text/plain": [
       "<Figure size 432x288 with 1 Axes>"
      ]
     },
     "metadata": {
      "needs_background": "light"
     },
     "output_type": "display_data"
    }
   ],
   "source": [
    "# Bathroom cleaning\n",
    "# Drop all tuples with blank entries\n",
    "print(munich.dtypes)\n",
    "\n",
    "munich = munich[munich.bathrooms < 3.0]\n",
    "\n",
    "munich = munich[munich.bathrooms != None]\n",
    "\n",
    "#Accomodates cleaning\n",
    "munich = munich[munich.accommodates < 14]\n",
    "\n",
    "# create the normaliser\n",
    "scaler = preprocessing.MinMaxScaler()\n",
    "\n",
    "# preprocess the features ItemsBought and ItemsReturned\n",
    "munich[['bathrooms', 'accommodates']] = scaler.fit_transform(munich[['bathrooms', 'accommodates']])\n",
    "\n",
    "plt.scatter(munich['accommodates'], munich['price'])\n",
    "\n",
    "plt.show()\n",
    "\n",
    "plt.scatter(munich['bathrooms'], munich['price'])\n",
    "\n",
    "# show the plot\n",
    "plt.show()"
   ]
  }
 ],
 "metadata": {
  "kernelspec": {
   "display_name": "Python 3",
   "language": "python",
   "name": "python3"
  },
  "language_info": {
   "codemirror_mode": {
    "name": "ipython",
    "version": 3
   },
   "file_extension": ".py",
   "mimetype": "text/x-python",
   "name": "python",
   "nbconvert_exporter": "python",
   "pygments_lexer": "ipython3",
   "version": "3.7.3"
  }
 },
 "nbformat": 4,
 "nbformat_minor": 2
}
