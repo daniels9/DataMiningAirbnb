{
 "cells": [
  {
   "cell_type": "markdown",
   "metadata": {},
   "source": [
    "## Timeline\n",
    "**Start of Project:** 04.11.2019 \n",
    "**Submission of Project Results:** 27.11.2019\n",
    "\n",
    "**Phases:** \n",
    "1. Week (06.11 - 12.11): Preprocessing \n",
    "2. Week (13.11 - 19.11): Iterate & Evaluate the Models \n",
    "3. Week (20.11 - 26.11): Writing the Report"
   ]
  },
  {
   "cell_type": "markdown",
   "metadata": {},
   "source": [
    "## Responsibilities\n",
    "- Liste mit Begründungen für Auswahl der Feature (Feature | Begründung) - Jannik\n",
    "- Preprocessing: \n",
    "  - Neighbourhood_cleansed (One-hot) (& PLZ Gibt es genug Beispiele prüfen?)- Daniel \n",
    "  - Property_type (One-hot) - Jannik \n",
    "  - Room_type (One-hot) - Jannik\n",
    "  - Accomodates - Caro\n",
    "  - Bathrooms (Maybe) - Caro\n",
    "  - Bedrooms - Fritz\n",
    "  - Amenities - Jakob\n",
    "  - Beds - Fritz\n",
    "  - Bed_type (One-hot) - Fritz\n",
    "\n",
    "- Juli Datensatz fürs Preprocessing"
   ]
  },
  {
   "cell_type": "markdown",
   "metadata": {},
   "source": [
    "# Airbnb Price Prediction"
   ]
  },
  {
   "cell_type": "markdown",
   "metadata": {},
   "source": [
    "## Goal\n",
    "The goal of our data mining project is to predict prices for new Airbnb listings in Munich. To achieve this, we will train a regression model on existing Airbnb data from www.insideairbnb.com."
   ]
  },
  {
   "cell_type": "markdown",
   "metadata": {},
   "source": [
    "## Import libraries"
   ]
  },
  {
   "cell_type": "code",
   "execution_count": 1,
   "metadata": {},
   "outputs": [],
   "source": [
    "import pandas as pd\n",
    "import matplotlib.pyplot as plt\n",
    "from sklearn.model_selection import train_test_split\n",
    "from sklearn.linear_model import LinearRegression\n",
    "from sklearn.linear_model import LinearRegression\n",
    "from sklearn.preprocessing import PolynomialFeatures\n",
    "from sklearn.pipeline import Pipeline\n",
    "from sklearn.metrics import mean_squared_error, r2_score\n",
    "from sklearn import preprocessing\n",
    "from math import sqrt\n",
    "from sklearn.feature_selection import f_regression\n",
    "from sklearn.feature_selection import SelectKBest, SelectFwe\n",
    "from collections import Counter"
   ]
  },
  {
   "cell_type": "markdown",
   "metadata": {},
   "source": [
    "## Load the data"
   ]
  },
  {
   "cell_type": "code",
   "execution_count": 2,
   "metadata": {},
   "outputs": [
    {
     "name": "stderr",
     "output_type": "stream",
     "text": [
      "C:\\Users\\d067795\\AppData\\Local\\Continuum\\anaconda3\\lib\\site-packages\\IPython\\core\\interactiveshell.py:3057: DtypeWarning: Columns (43,61,62,94) have mixed types. Specify dtype option on import or set low_memory=False.\n",
      "  interactivity=interactivity, compiler=compiler, result=result)\n"
     ]
    }
   ],
   "source": [
    "munich = pd.read_csv('Data/listings_Munich_July.csv')\n",
    "\n",
    "# drop all colums except the ones that we are using\n",
    "munich = munich.loc[:, munich.columns.intersection(['neighbourhood_cleansed', 'property_type', 'room_type', 'accommodates', 'bathrooms', 'bedrooms', 'beds', 'bed_type', 'price', 'amenities'])]\n",
    "\n",
    "# convert column price to float values without leading $ sign\n",
    "munich['price'] = munich['price'].replace( '[\\$,)]','', regex=True ).astype(float)"
   ]
  },
  {
   "cell_type": "markdown",
   "metadata": {},
   "source": [
    "## Understand the data"
   ]
  },
  {
   "cell_type": "code",
   "execution_count": 3,
   "metadata": {},
   "outputs": [],
   "source": [
    "#munich.head()"
   ]
  },
  {
   "cell_type": "code",
   "execution_count": 4,
   "metadata": {},
   "outputs": [
    {
     "name": "stdout",
     "output_type": "stream",
     "text": [
      "Ludwigsvorstadt-Isarvorstadt                              1077\n",
      "Maxvorstadt                                               1000\n",
      "Schwabing-West                                             735\n",
      "Neuhausen-Nymphenburg                                      702\n",
      "Au-Haidhausen                                              686\n",
      "Schwabing-Freimann                                         589\n",
      "Bogenhausen                                                471\n",
      "Milbertshofen-Am Hart                                      428\n",
      "Sendling                                                   427\n",
      "Schwanthalerhöhe                                           409\n",
      "Ramersdorf-Perlach                                         368\n",
      "Sendling-Westpark                                          361\n",
      "Thalkirchen-Obersendling-Forstenried-Fürstenried-Solln     359\n",
      "Laim                                                       353\n",
      "Obergiesing                                                346\n",
      "Untergiesing-Harlaching                                    339\n",
      "Altstadt-Lehel                                             330\n",
      "Tudering-Riem                                              278\n",
      "Pasing-Obermenzing                                         212\n",
      "Berg am Laim                                               211\n",
      "Moosach                                                    193\n",
      "Hadern                                                     124\n",
      "Feldmoching-Hasenbergl                                      97\n",
      "Aubing-Lochhausen-Langwied                                  82\n",
      "Allach-Untermenzing                                         61\n",
      "Name: neighbourhood_cleansed, dtype: int64\n"
     ]
    }
   ],
   "source": [
    "# understand feature neighbourhoods_cleansed\n",
    "print(munich['neighbourhood_cleansed'].value_counts())"
   ]
  },
  {
   "cell_type": "markdown",
   "metadata": {},
   "source": [
    "### Bedrooms"
   ]
  },
  {
   "cell_type": "code",
   "execution_count": 5,
   "metadata": {},
   "outputs": [
    {
     "name": "stdout",
     "output_type": "stream",
     "text": [
      "0.0     1023\n",
      "1.0     7683\n",
      "2.0     1157\n",
      "3.0      288\n",
      "4.0       57\n",
      "5.0        4\n",
      "6.0        2\n",
      "7.0        1\n",
      "8.0        6\n",
      "10.0       1\n",
      "20.0       1\n",
      "25.0       1\n",
      "Name: bedrooms, dtype: int64\n",
      "               price\n",
      "bedrooms            \n",
      "0.0        92.608016\n",
      "1.0        94.791618\n",
      "2.0       171.490925\n",
      "3.0       243.763889\n",
      "4.0       325.473684\n",
      "AxesSubplot(0.125,0.125;0.775x0.755)\n"
     ]
    },
    {
     "data": {
      "image/png": "[encoded data removed]",
      "text/plain": [
       "<Figure size 432x288 with 1 Axes>"
      ]
     },
     "metadata": {
      "needs_background": "light"
     },
     "output_type": "display_data"
    }
   ],
   "source": [
    "# Fritz: understand feature bedrooms \n",
    "# check the value count\n",
    "print(munich['bedrooms'].value_counts().sort_index())\n",
    "\n",
    "# drop listings with more than 4 bedrooms\n",
    "munich = munich[munich.bedrooms < 5]\n",
    "\n",
    "# analyze the effect of bedroom number on price\n",
    "bedrooms_price = munich[['bedrooms', 'price']].groupby('bedrooms').mean()\n",
    "\n",
    "# print the mean values for number of bedrooms\n",
    "print(bedrooms_price)\n",
    "\n",
    "# print the plot\n",
    "print(bedrooms_price.plot())\n",
    "\n",
    "# replace zero bedrooms with one bedroom\n",
    "munich.loc[munich.bedrooms == 0.0, 'bedrooms'] = 1.0"
   ]
  },
  {
   "cell_type": "markdown",
   "metadata": {},
   "source": [
    "One can see that most listings have one or two bedrooms. In 1023 cases there seems to be no bedroom. This value is set by Airbnb landlords if there is not seperated bedroom (e.g. a one room apartment or when accommodating in the living room). It needs to be evaluated how well several regression models can handle this encoding.\n",
    "\n",
    "The listings with 25, 20 and 10 bedrooms are hostels. As there only exist 16 listings with more than four bedrooms, it might make sense to drop those as these are extreme outliers. We can later on specify that our model is only able to predict price for new listings with less than five bedrooms.\n",
    "\n",
    "There is a clear linear dependency between number of bedrooms and price if one only looks at listings with one to four bedrooms. The difference in prices between zero and one bedroom is almost not present. Thus, it makes sense to combine those listings. Every listing with zero bedrooms will be changed to one bedroom. This also needs to be applied when inferring later on."
   ]
  },
  {
   "cell_type": "markdown",
   "metadata": {},
   "source": [
    "### Beds"
   ]
  },
  {
   "cell_type": "code",
   "execution_count": 6,
   "metadata": {},
   "outputs": [
    {
     "name": "stdout",
     "output_type": "stream",
     "text": [
      "0.0       48\n",
      "1.0     6595\n",
      "2.0     2455\n",
      "3.0      574\n",
      "4.0      279\n",
      "5.0       98\n",
      "6.0       82\n",
      "7.0       26\n",
      "8.0       31\n",
      "9.0        1\n",
      "10.0       2\n",
      "12.0       1\n",
      "14.0       1\n",
      "16.0       5\n",
      "Name: beds, dtype: int64\n",
      "           price\n",
      "beds            \n",
      "1.0    88.679757\n",
      "2.0   123.750713\n",
      "3.0   173.841463\n",
      "4.0   195.706093\n",
      "5.0   234.469388\n",
      "6.0   297.390244\n",
      "7.0   224.884615\n",
      "8.0   201.193548\n",
      "AxesSubplot(0.125,0.125;0.775x0.755)\n"
     ]
    },
    {
     "data": {
      "image/png": "[encoded data removed]",
      "text/plain": [
       "<Figure size 432x288 with 1 Axes>"
      ]
     },
     "metadata": {
      "needs_background": "light"
     },
     "output_type": "display_data"
    }
   ],
   "source": [
    "# Fritz: understand feature beds\n",
    "# check the value count\n",
    "print(munich['beds'].value_counts().sort_index())\n",
    "\n",
    "# drop listings with more than 8 beds\n",
    "munich = munich[munich.beds < 9]\n",
    "\n",
    "# drop listings with less than 1 beds\n",
    "munich = munich[munich.beds > 0]\n",
    "\n",
    "# analyze the effect of number of beds on price\n",
    "beds_price = munich[['beds', 'price']].groupby('beds').mean()\n",
    "\n",
    "# print the mean values for number of beds\n",
    "print(beds_price)\n",
    "\n",
    "# print the plot\n",
    "print(beds_price.plot())\n",
    "\n",
    "# also drop listings with more than 6 beds\n",
    "munich = munich[munich.beds < 7]"
   ]
  },
  {
   "cell_type": "markdown",
   "metadata": {},
   "source": [
    "Here one can see a similar situation as with the number of bedrooms. Most listings have one or two beds. In 48 cases Airbnb landlords set the number of beds to zero. A manual check of some listings showed that beds are actually present and listings were not created correctly. Thus, listings with zero beds will not be considered in the training.\n",
    "\n",
    "Only 10 listings offer 9 or more beds. These might be dropped as well like examples with five ore more bedrooms.\n",
    "\n",
    "There is a close to linear dependecy between the number of beds and the price if one only looks at examples with less than six beds. The price seems to decrease if there are more than six beds. It might make sense to also drop listings with seven or eight beds."
   ]
  },
  {
   "cell_type": "markdown",
   "metadata": {},
   "source": [
    "### Bed_type"
   ]
  },
  {
   "cell_type": "code",
   "execution_count": 7,
   "metadata": {},
   "outputs": [
    {
     "name": "stdout",
     "output_type": "stream",
     "text": [
      "Real Bed         9577\n",
      "Pull-out Sofa     340\n",
      "Couch              78\n",
      "Futon              61\n",
      "Airbed             27\n",
      "Name: bed_type, dtype: int64\n",
      "                    price\n",
      "bed_type                 \n",
      "Airbed          94.851852\n",
      "Couch           78.551282\n",
      "Futon           78.885246\n",
      "Pull-out Sofa   83.541176\n",
      "Real Bed       109.480840\n",
      "AxesSubplot(0.125,0.125;0.775x0.755)\n"
     ]
    },
    {
     "data": {
      "image/png": "[encoded data removed]",
      "text/plain": [
       "<Figure size 432x288 with 1 Axes>"
      ]
     },
     "metadata": {
      "needs_background": "light"
     },
     "output_type": "display_data"
    }
   ],
   "source": [
    "# Fritz: understand feature bed_type\n",
    "# check the value count\n",
    "print(munich['bed_type'].value_counts())\n",
    "\n",
    "# analyze the effect of bed_type on price\n",
    "bed_type_price = munich[['bed_type', 'price']].groupby('bed_type').mean()\n",
    "\n",
    "# print the mean values for bed_types\n",
    "print(bed_type_price)\n",
    "\n",
    "# print the plot\n",
    "print(bed_type_price.plot())\n",
    "\n",
    "# ordinal encoding\n",
    "# create replace map\n",
    "replace_map = {'bed_type': {'Couch': 1, 'Futon': 1, 'Pull-out Sofa': 1, 'Airbed': 2, 'Real Bed': 3}}\n",
    "\n",
    "# replace categorical values using replace map\n",
    "munich = munich.replace(replace_map)"
   ]
  },
  {
   "cell_type": "markdown",
   "metadata": {},
   "source": [
    "One can see that real beds are offered in the great majority (95%) of all listings. Pull-out sofas occur in about 3% while listings with bed types couch, futon and airbed are not really present in the dataset.\n",
    "\n",
    "It is interesting to see that prices of listings with airbeds are significantly higher compared to couch, futon or pull-out sofa. The prices for real bed listings are the highest which is not surprising. With respect to the dependencies, it makes sense to do an ordnial encoding of this categorical feature. Couch, futon and pull-out-sofa will be converted to value 1, airbed to value 2 and real bed to value 3."
   ]
  },
  {
   "cell_type": "markdown",
   "metadata": {},
   "source": [
    "### Amenities"
   ]
  },
  {
   "cell_type": "markdown",
   "metadata": {},
   "source": [
    "As they potentially provide significant value to the customers of Airbnb (e.g. kitchen, internet), amenities could easily affect the price of a given listing and are therefore included in the analysis.\n",
    "\n",
    "First, as the amenities in the data are given as a list of strings per listing, we have to split the data in order to analyse which specific amenities might be useful to the analysis."
   ]
  },
  {
   "cell_type": "code",
   "execution_count": 8,
   "metadata": {},
   "outputs": [
    {
     "data": {
      "text/plain": [
       "[('Heating', 9566),\n",
       " ('Wifi', 9437),\n",
       " ('Kitchen', 9178),\n",
       " ('Essentials', 9174),\n",
       " ('Washer', 7788),\n",
       " ('Smoke detector', 7009),\n",
       " ('Hair dryer', 6857),\n",
       " ('Hangers', 6636),\n",
       " ('Laptop friendly workspace', 6305),\n",
       " ('TV', 6203),\n",
       " ('Iron', 5883),\n",
       " ('Shampoo', 5511),\n",
       " ('Hot water', 4553),\n",
       " ('Elevator', 4426),\n",
       " ('Dryer', 3448),\n",
       " ('Lock on bedroom door', 3397),\n",
       " ('Refrigerator', 2919),\n",
       " ('Internet', 2867),\n",
       " ('Dishes and silverware', 2844),\n",
       " ('Host greets you', 2738),\n",
       " ('Bed linens', 2704),\n",
       " ('Stove', 2686),\n",
       " ('Cooking basics', 2670),\n",
       " ('Family/kid friendly', 2454),\n",
       " ('Cable TV', 2430),\n",
       " ('Oven', 2312),\n",
       " ('Buzzer/wireless intercom', 2193),\n",
       " ('First aid kit', 2155),\n",
       " ('Coffee maker', 2081),\n",
       " ('Dishwasher', 1943),\n",
       " ('Free parking on premises', 1892),\n",
       " ('Free street parking', 1815),\n",
       " ('Patio or balcony', 1672),\n",
       " ('Private entrance', 1617),\n",
       " ('Fire extinguisher', 1563),\n",
       " ('No stairs or steps to enter', 1501),\n",
       " ('Carbon monoxide detector', 1462),\n",
       " ('Extra pillows and blankets', 1429),\n",
       " ('translation missing: en.hosting_amenity_50', 1425),\n",
       " ('Luggage dropoff allowed', 1401),\n",
       " ('Microwave', 1343),\n",
       " ('Paid parking off premises', 1342),\n",
       " ('Long term stays allowed', 1219),\n",
       " ('Smoking allowed', 1118),\n",
       " ('translation missing: en.hosting_amenity_49', 1086),\n",
       " ('Safety card', 973),\n",
       " ('Private living room', 960),\n",
       " ('Pets allowed', 934),\n",
       " ('Breakfast', 751),\n",
       " ('Well-lit path to entrance', 727)]"
      ]
     },
     "execution_count": 8,
     "metadata": {},
     "output_type": "execute_result"
    }
   ],
   "source": [
    "all_amenities = list()  #create list of all individual amenities\n",
    "for amenities in munich['amenities']:\n",
    "    for amenity in amenities.split(\"{\")[1].split(\"}\")[0].split(\",\"):\n",
    "        all_amenities.append(amenity.replace('\"', ''))\n",
    "#all_amenities_set = set(all_amenities)\n",
    "Counter(all_amenities).most_common(50)"
   ]
  },
  {
   "cell_type": "markdown",
   "metadata": {},
   "source": [
    "We now can filter out those amenities which conceivably affect the price and which are occuring often enough in order to be regarded as significant.\n",
    "\n",
    "We extract these features into a list and create new variables for each one to perfom One-Hot-Encoding."
   ]
  },
  {
   "cell_type": "code",
   "execution_count": 9,
   "metadata": {},
   "outputs": [],
   "source": [
    "relevant_amenities = ['Wifi', 'Internet', 'TV', 'Kitchen', 'Heating', 'Washer', 'Patio or balcony', \n",
    "                      'Breakfast', 'Elevator','24-hour check-in', 'Pool', \n",
    "                      'Private entrance','Dishwasher', 'Bed linens','Smoking allowed'] \n",
    "\n",
    "for element in relevant_amenities: #create dummy variables\n",
    "    munich[element.lower()] = 0\n",
    "    \n",
    "for row in munich.itertuples(): #can take a moment\n",
    "    for element in relevant_amenities:\n",
    "        if element in row.amenities:\n",
    "            munich.loc[row.Index, element.lower()] = 1\n",
    "            \n",
    "munich = munich.drop(columns = 'amenities')"
   ]
  },
  {
   "cell_type": "code",
   "execution_count": 10,
   "metadata": {},
   "outputs": [
    {
     "name": "stdout",
     "output_type": "stream",
     "text": [
      "wifi                                                 0    1\n",
      "neighbourhood_cleansed                                     \n",
      "Allach-Untermenzing                                  1   58\n",
      "Altstadt-Lehel                                      19  308\n",
      "Au-Haidhausen                                       36  642\n",
      "Aubing-Lochhausen-Langwied                           4   77\n",
      "Berg am Laim                                        17  191\n",
      "Bogenhausen                                         35  430\n",
      "Feldmoching-Hasenbergl                               3   93\n",
      "Hadern                                               7  113\n",
      "Laim                                                26  314\n",
      "Ludwigsvorstadt-Isarvorstadt                        69  983\n",
      "Maxvorstadt                                         59  935\n",
      "Milbertshofen-Am Hart                               33  390\n",
      "Moosach                                             10  183\n",
      "Neuhausen-Nymphenburg                               46  647\n",
      "Obergiesing                                         22  318\n",
      "Pasing-Obermenzing                                  13  194\n",
      "Ramersdorf-Perlach                                  28  335\n",
      "Schwabing-Freimann                                  33  545\n",
      "Schwabing-West                                      49  677\n",
      "Schwanthalerhöhe                                    22  384\n",
      "Sendling                                            27  395\n",
      "Sendling-Westpark                                   17  340\n",
      "Thalkirchen-Obersendling-Forstenried-Fürstenrie...  30  323\n",
      "Tudering-Riem                                       21  249\n",
      "Untergiesing-Harlaching                             19  313\n",
      "\n",
      "internet                                              0    1\n",
      "neighbourhood_cleansed                                      \n",
      "Allach-Untermenzing                                  48   11\n",
      "Altstadt-Lehel                                      239   88\n",
      "Au-Haidhausen                                       461  217\n",
      "Aubing-Lochhausen-Langwied                           64   17\n",
      "Berg am Laim                                        154   54\n",
      "Bogenhausen                                         337  128\n",
      "Feldmoching-Hasenbergl                               64   32\n",
      "Hadern                                               87   33\n",
      "Laim                                                236  104\n",
      "Ludwigsvorstadt-Isarvorstadt                        725  327\n",
      "Maxvorstadt                                         679  315\n",
      "Milbertshofen-Am Hart                               313  110\n",
      "Moosach                                             162   31\n",
      "Neuhausen-Nymphenburg                               510  183\n",
      "Obergiesing                                         242   98\n",
      "Pasing-Obermenzing                                  160   47\n",
      "Ramersdorf-Perlach                                  279   84\n",
      "Schwabing-Freimann                                  433  145\n",
      "Schwabing-West                                      509  217\n",
      "Schwanthalerhöhe                                    283  123\n",
      "Sendling                                            299  123\n",
      "Sendling-Westpark                                   245  112\n",
      "Thalkirchen-Obersendling-Forstenried-Fürstenrie...  260   93\n",
      "Tudering-Riem                                       201   69\n",
      "Untergiesing-Harlaching                             226  106\n",
      "\n",
      "tv                                                    0    1\n",
      "neighbourhood_cleansed                                      \n",
      "Allach-Untermenzing                                  21   38\n",
      "Altstadt-Lehel                                      107  220\n",
      "Au-Haidhausen                                       268  410\n",
      "Aubing-Lochhausen-Langwied                           22   59\n",
      "Berg am Laim                                         64  144\n",
      "Bogenhausen                                         136  329\n",
      "Feldmoching-Hasenbergl                               29   67\n",
      "Hadern                                               47   73\n",
      "Laim                                                148  192\n",
      "Ludwigsvorstadt-Isarvorstadt                        412  640\n",
      "Maxvorstadt                                         398  596\n",
      "Milbertshofen-Am Hart                               180  243\n",
      "Moosach                                              60  133\n",
      "Neuhausen-Nymphenburg                               253  440\n",
      "Obergiesing                                         119  221\n",
      "Pasing-Obermenzing                                   70  137\n",
      "Ramersdorf-Perlach                                  120  243\n",
      "Schwabing-Freimann                                  238  340\n",
      "Schwabing-West                                      275  451\n",
      "Schwanthalerhöhe                                    191  215\n",
      "Sendling                                            183  239\n",
      "Sendling-Westpark                                   129  228\n",
      "Thalkirchen-Obersendling-Forstenried-Fürstenrie...  126  227\n",
      "Tudering-Riem                                        91  179\n",
      "Untergiesing-Harlaching                             129  203\n",
      "\n",
      "kitchen                                              0    1\n",
      "neighbourhood_cleansed                                     \n",
      "Allach-Untermenzing                                 15   44\n",
      "Altstadt-Lehel                                      31  296\n",
      "Au-Haidhausen                                       48  630\n",
      "Aubing-Lochhausen-Langwied                           9   72\n",
      "Berg am Laim                                        22  186\n",
      "Bogenhausen                                         58  407\n",
      "Feldmoching-Hasenbergl                              14   82\n",
      "Hadern                                              13  107\n",
      "Laim                                                25  315\n",
      "Ludwigsvorstadt-Isarvorstadt                        79  973\n",
      "Maxvorstadt                                         61  933\n",
      "Milbertshofen-Am Hart                               41  382\n",
      "Moosach                                             10  183\n",
      "Neuhausen-Nymphenburg                               57  636\n",
      "Obergiesing                                         29  311\n",
      "Pasing-Obermenzing                                  18  189\n",
      "Ramersdorf-Perlach                                  30  333\n",
      "Schwabing-Freimann                                  42  536\n",
      "Schwabing-West                                      61  665\n",
      "Schwanthalerhöhe                                    20  386\n",
      "Sendling                                            43  379\n",
      "Sendling-Westpark                                   39  318\n",
      "Thalkirchen-Obersendling-Forstenried-Fürstenrie...  46  307\n",
      "Tudering-Riem                                       70  200\n",
      "Untergiesing-Harlaching                             24  308\n",
      "\n",
      "heating                                              0    1\n",
      "neighbourhood_cleansed                                     \n",
      "Allach-Untermenzing                                  8   51\n",
      "Altstadt-Lehel                                      17  310\n",
      "Au-Haidhausen                                       27  651\n",
      "Aubing-Lochhausen-Langwied                           3   78\n",
      "Berg am Laim                                         8  200\n",
      "Bogenhausen                                         23  442\n",
      "Feldmoching-Hasenbergl                               3   93\n",
      "Hadern                                               7  113\n",
      "Laim                                                25  315\n",
      "Ludwigsvorstadt-Isarvorstadt                        66  986\n",
      "Maxvorstadt                                         52  942\n",
      "Milbertshofen-Am Hart                               24  399\n",
      "Moosach                                              5  188\n",
      "Neuhausen-Nymphenburg                               40  653\n",
      "Obergiesing                                         13  327\n",
      "Pasing-Obermenzing                                   9  198\n",
      "Ramersdorf-Perlach                                  12  351\n",
      "Schwabing-Freimann                                  28  550\n",
      "Schwabing-West                                      40  686\n",
      "Schwanthalerhöhe                                    19  387\n",
      "Sendling                                            27  395\n",
      "Sendling-Westpark                                   16  341\n",
      "Thalkirchen-Obersendling-Forstenried-Fürstenrie...  21  332\n",
      "Tudering-Riem                                       11  259\n",
      "Untergiesing-Harlaching                             13  319\n",
      "\n",
      "washer                                                0    1\n",
      "neighbourhood_cleansed                                      \n",
      "Allach-Untermenzing                                  24   35\n",
      "Altstadt-Lehel                                       74  253\n",
      "Au-Haidhausen                                       138  540\n",
      "Aubing-Lochhausen-Langwied                           17   64\n",
      "Berg am Laim                                         47  161\n",
      "Bogenhausen                                         109  356\n",
      "Feldmoching-Hasenbergl                               25   71\n",
      "Hadern                                               31   89\n",
      "Laim                                                 74  266\n",
      "Ludwigsvorstadt-Isarvorstadt                        233  819\n",
      "Maxvorstadt                                         258  736\n",
      "Milbertshofen-Am Hart                                97  326\n",
      "Moosach                                              30  163\n",
      "Neuhausen-Nymphenburg                               166  527\n",
      "Obergiesing                                          61  279\n",
      "Pasing-Obermenzing                                   39  168\n",
      "Ramersdorf-Perlach                                   71  292\n",
      "Schwabing-Freimann                                  132  446\n",
      "Schwabing-West                                      170  556\n",
      "Schwanthalerhöhe                                    101  305\n",
      "Sendling                                             89  333\n",
      "Sendling-Westpark                                    61  296\n",
      "Thalkirchen-Obersendling-Forstenried-Fürstenrie...   80  273\n",
      "Tudering-Riem                                        88  182\n",
      "Untergiesing-Harlaching                              79  253\n",
      "\n",
      "patio or balcony                                      0    1\n",
      "neighbourhood_cleansed                                      \n",
      "Allach-Untermenzing                                  52    7\n",
      "Altstadt-Lehel                                      275   52\n",
      "Au-Haidhausen                                       571  107\n",
      "Aubing-Lochhausen-Langwied                           58   23\n",
      "Berg am Laim                                        173   35\n",
      "Bogenhausen                                         367   98\n",
      "Feldmoching-Hasenbergl                               78   18\n",
      "Hadern                                              100   20\n",
      "Laim                                                287   53\n",
      "Ludwigsvorstadt-Isarvorstadt                        891  161\n",
      "Maxvorstadt                                         853  141\n",
      "Milbertshofen-Am Hart                               364   59\n",
      "Moosach                                             159   34\n",
      "Neuhausen-Nymphenburg                               590  103\n",
      "Obergiesing                                         282   58\n",
      "Pasing-Obermenzing                                  167   40\n",
      "Ramersdorf-Perlach                                  280   83\n",
      "Schwabing-Freimann                                  480   98\n",
      "Schwabing-West                                      598  128\n",
      "Schwanthalerhöhe                                    356   50\n",
      "Sendling                                            347   75\n",
      "Sendling-Westpark                                   294   63\n",
      "Thalkirchen-Obersendling-Forstenried-Fürstenrie...  293   60\n",
      "Tudering-Riem                                       213   57\n",
      "Untergiesing-Harlaching                             283   49\n",
      "\n",
      "breakfast                                             0   1\n",
      "neighbourhood_cleansed                                     \n",
      "Allach-Untermenzing                                  48  11\n",
      "Altstadt-Lehel                                      301  26\n",
      "Au-Haidhausen                                       635  43\n",
      "Aubing-Lochhausen-Langwied                           71  10\n",
      "Berg am Laim                                        194  14\n",
      "Bogenhausen                                         425  40\n",
      "Feldmoching-Hasenbergl                               88   8\n",
      "Hadern                                              113   7\n",
      "Laim                                                309  31\n",
      "Ludwigsvorstadt-Isarvorstadt                        992  60\n",
      "Maxvorstadt                                         942  52\n",
      "Milbertshofen-Am Hart                               388  35\n",
      "Moosach                                             173  20\n",
      "Neuhausen-Nymphenburg                               634  59\n",
      "Obergiesing                                         315  25\n",
      "Pasing-Obermenzing                                  197  10\n",
      "Ramersdorf-Perlach                                  324  39\n",
      "Schwabing-Freimann                                  549  29\n",
      "Schwabing-West                                      665  61\n",
      "Schwanthalerhöhe                                    384  22\n",
      "Sendling                                            396  26\n",
      "Sendling-Westpark                                   325  32\n",
      "Thalkirchen-Obersendling-Forstenried-Fürstenrie...  318  35\n",
      "Tudering-Riem                                       242  28\n",
      "Untergiesing-Harlaching                             304  28\n",
      "\n",
      "elevator                                              0    1\n",
      "neighbourhood_cleansed                                      \n",
      "Allach-Untermenzing                                  53    6\n",
      "Altstadt-Lehel                                      152  175\n",
      "Au-Haidhausen                                       378  300\n",
      "Aubing-Lochhausen-Langwied                           53   28\n",
      "Berg am Laim                                        128   80\n",
      "Bogenhausen                                         249  216\n",
      "Feldmoching-Hasenbergl                               83   13\n",
      "Hadern                                               73   47\n",
      "Laim                                                225  115\n",
      "Ludwigsvorstadt-Isarvorstadt                        559  493\n",
      "Maxvorstadt                                         483  511\n",
      "Milbertshofen-Am Hart                               232  191\n",
      "Moosach                                              92  101\n",
      "Neuhausen-Nymphenburg                               363  330\n",
      "Obergiesing                                         192  148\n",
      "Pasing-Obermenzing                                  135   72\n",
      "Ramersdorf-Perlach                                  211  152\n",
      "Schwabing-Freimann                                  338  240\n",
      "Schwabing-West                                      326  400\n",
      "Schwanthalerhöhe                                    269  137\n",
      "Sendling                                            238  184\n",
      "Sendling-Westpark                                   188  169\n",
      "Thalkirchen-Obersendling-Forstenried-Fürstenrie...  202  151\n",
      "Tudering-Riem                                       191   79\n",
      "Untergiesing-Harlaching                             244   88\n",
      "\n",
      "24-hour check-in                                       0   1\n",
      "neighbourhood_cleansed                                      \n",
      "Allach-Untermenzing                                   56   3\n",
      "Altstadt-Lehel                                       314  13\n",
      "Au-Haidhausen                                        641  37\n",
      "Aubing-Lochhausen-Langwied                            79   2\n",
      "Berg am Laim                                         194  14\n",
      "Bogenhausen                                          438  27\n",
      "Feldmoching-Hasenbergl                                92   4\n",
      "Hadern                                               115   5\n",
      "Laim                                                 323  17\n",
      "Ludwigsvorstadt-Isarvorstadt                        1004  48\n",
      "Maxvorstadt                                          937  57\n",
      "Milbertshofen-Am Hart                                407  16\n",
      "Moosach                                              187   6\n",
      "Neuhausen-Nymphenburg                                675  18\n",
      "Obergiesing                                          330  10\n",
      "Pasing-Obermenzing                                   198   9\n",
      "Ramersdorf-Perlach                                   349  14\n",
      "Schwabing-Freimann                                   547  31\n",
      "Schwabing-West                                       700  26\n",
      "Schwanthalerhöhe                                     389  17\n",
      "Sendling                                             418   4\n",
      "Sendling-Westpark                                    341  16\n",
      "Thalkirchen-Obersendling-Forstenried-Fürstenrie...   340  13\n",
      "Tudering-Riem                                        260  10\n",
      "Untergiesing-Harlaching                              322  10\n",
      "\n",
      "pool                                                   0   1\n",
      "neighbourhood_cleansed                                      \n",
      "Allach-Untermenzing                                   57   2\n",
      "Altstadt-Lehel                                       327   0\n",
      "Au-Haidhausen                                        678   0\n",
      "Aubing-Lochhausen-Langwied                            81   0\n",
      "Berg am Laim                                         208   0\n",
      "Bogenhausen                                          461   4\n",
      "Feldmoching-Hasenbergl                                96   0\n",
      "Hadern                                               120   0\n",
      "Laim                                                 335   5\n",
      "Ludwigsvorstadt-Isarvorstadt                        1051   1\n",
      "Maxvorstadt                                          994   0\n",
      "Milbertshofen-Am Hart                                416   7\n",
      "Moosach                                              187   6\n",
      "Neuhausen-Nymphenburg                                692   1\n",
      "Obergiesing                                          339   1\n",
      "Pasing-Obermenzing                                   207   0\n",
      "Ramersdorf-Perlach                                   358   5\n",
      "Schwabing-Freimann                                   570   8\n",
      "Schwabing-West                                       717   9\n",
      "Schwanthalerhöhe                                     406   0\n",
      "Sendling                                             422   0\n",
      "Sendling-Westpark                                    350   7\n",
      "Thalkirchen-Obersendling-Forstenried-Fürstenrie...   349   4\n",
      "Tudering-Riem                                        258  12\n",
      "Untergiesing-Harlaching                              331   1\n",
      "\n",
      "private entrance                                      0    1\n",
      "neighbourhood_cleansed                                      \n",
      "Allach-Untermenzing                                  45   14\n",
      "Altstadt-Lehel                                      273   54\n",
      "Au-Haidhausen                                       571  107\n",
      "Aubing-Lochhausen-Langwied                           64   17\n",
      "Berg am Laim                                        174   34\n",
      "Bogenhausen                                         390   75\n",
      "Feldmoching-Hasenbergl                               82   14\n",
      "Hadern                                              102   18\n",
      "Laim                                                300   40\n",
      "Ludwigsvorstadt-Isarvorstadt                        890  162\n",
      "Maxvorstadt                                         852  142\n",
      "Milbertshofen-Am Hart                               338   85\n",
      "Moosach                                             165   28\n",
      "Neuhausen-Nymphenburg                               600   93\n",
      "Obergiesing                                         299   41\n",
      "Pasing-Obermenzing                                  177   30\n",
      "Ramersdorf-Perlach                                  291   72\n",
      "Schwabing-Freimann                                  490   88\n",
      "Schwabing-West                                      623  103\n",
      "Schwanthalerhöhe                                    348   58\n",
      "Sendling                                            371   51\n",
      "Sendling-Westpark                                   283   74\n",
      "Thalkirchen-Obersendling-Forstenried-Fürstenrie...  278   75\n",
      "Tudering-Riem                                       187   83\n",
      "Untergiesing-Harlaching                             273   59\n",
      "\n",
      "dishwasher                                            0    1\n",
      "neighbourhood_cleansed                                      \n",
      "Allach-Untermenzing                                  44   15\n",
      "Altstadt-Lehel                                      244   83\n",
      "Au-Haidhausen                                       537  141\n",
      "Aubing-Lochhausen-Langwied                           56   25\n",
      "Berg am Laim                                        169   39\n",
      "Bogenhausen                                         345  120\n",
      "Feldmoching-Hasenbergl                               78   18\n",
      "Hadern                                               99   21\n",
      "Laim                                                281   59\n",
      "Ludwigsvorstadt-Isarvorstadt                        853  199\n",
      "Maxvorstadt                                         808  186\n",
      "Milbertshofen-Am Hart                               365   58\n",
      "Moosach                                             156   37\n",
      "Neuhausen-Nymphenburg                               570  123\n",
      "Obergiesing                                         267   73\n",
      "Pasing-Obermenzing                                  165   42\n",
      "Ramersdorf-Perlach                                  290   73\n",
      "Schwabing-Freimann                                  470  108\n",
      "Schwabing-West                                      590  136\n",
      "Schwanthalerhöhe                                    329   77\n",
      "Sendling                                            339   83\n",
      "Sendling-Westpark                                   286   71\n",
      "Thalkirchen-Obersendling-Forstenried-Fürstenrie...  299   54\n",
      "Tudering-Riem                                       224   46\n",
      "Untergiesing-Harlaching                             276   56\n",
      "\n",
      "bed linens                                            0    1\n",
      "neighbourhood_cleansed                                      \n",
      "Allach-Untermenzing                                  40   19\n",
      "Altstadt-Lehel                                      229   98\n",
      "Au-Haidhausen                                       507  171\n",
      "Aubing-Lochhausen-Langwied                           52   29\n",
      "Berg am Laim                                        154   54\n",
      "Bogenhausen                                         312  153\n",
      "Feldmoching-Hasenbergl                               60   36\n",
      "Hadern                                               91   29\n",
      "Laim                                                271   69\n",
      "Ludwigsvorstadt-Isarvorstadt                        774  278\n",
      "Maxvorstadt                                         728  266\n",
      "Milbertshofen-Am Hart                               326   97\n",
      "Moosach                                             115   78\n",
      "Neuhausen-Nymphenburg                               523  170\n",
      "Obergiesing                                         237  103\n",
      "Pasing-Obermenzing                                  159   48\n",
      "Ramersdorf-Perlach                                  243  120\n",
      "Schwabing-Freimann                                  412  166\n",
      "Schwabing-West                                      566  160\n",
      "Schwanthalerhöhe                                    300  106\n",
      "Sendling                                            327   95\n",
      "Sendling-Westpark                                   267   90\n",
      "Thalkirchen-Obersendling-Forstenried-Fürstenrie...  262   91\n",
      "Tudering-Riem                                       181   89\n",
      "Untergiesing-Harlaching                             243   89\n",
      "\n",
      "smoking allowed                                       0    1\n",
      "neighbourhood_cleansed                                      \n",
      "Allach-Untermenzing                                  49   10\n",
      "Altstadt-Lehel                                      310   17\n",
      "Au-Haidhausen                                       606   72\n",
      "Aubing-Lochhausen-Langwied                           73    8\n",
      "Berg am Laim                                        180   28\n",
      "Bogenhausen                                         420   45\n",
      "Feldmoching-Hasenbergl                               82   14\n",
      "Hadern                                              107   13\n",
      "Laim                                                291   49\n",
      "Ludwigsvorstadt-Isarvorstadt                        915  137\n",
      "Maxvorstadt                                         897   97\n",
      "Milbertshofen-Am Hart                               368   55\n",
      "Moosach                                             173   20\n",
      "Neuhausen-Nymphenburg                               604   89\n",
      "Obergiesing                                         303   37\n",
      "Pasing-Obermenzing                                  177   30\n",
      "Ramersdorf-Perlach                                  322   41\n",
      "Schwabing-Freimann                                  523   55\n",
      "Schwabing-West                                      659   67\n",
      "Schwanthalerhöhe                                    343   63\n",
      "Sendling                                            366   56\n",
      "Sendling-Westpark                                   323   34\n",
      "Thalkirchen-Obersendling-Forstenried-Fürstenrie...  323   30\n",
      "Tudering-Riem                                       254   16\n",
      "Untergiesing-Harlaching                             297   35\n",
      "\n"
     ]
    }
   ],
   "source": [
    "for amenity in relevant_amenities: #analyse features with regard to districts\n",
    "    print(pd.crosstab(munich['neighbourhood_cleansed'], munich[amenity.lower()]))\n",
    "    print()"
   ]
  },
  {
   "cell_type": "markdown",
   "metadata": {},
   "source": [
    "The features 'internet' and 'wifi' appear to be redundant. Therefore, the latter can probably be discarded. Furthermore, there seems to be a relatively small number of 'pools' in the data which suggests that the variable should be filtered out as well.\n",
    "\n",
    "Apart from that, it should be discussed whether the infrequent occurence of features such as 'bed linens' is due to hosts not giving the respective information correctly. "
   ]
  },
  {
   "cell_type": "markdown",
   "metadata": {},
   "source": [
    "### Bathrooms"
   ]
  },
  {
   "cell_type": "code",
   "execution_count": 1,
   "metadata": {},
   "outputs": [
    {
     "ename": "NameError",
     "evalue": "name 'munich' is not defined",
     "output_type": "error",
     "traceback": [
      "\u001b[1;31m---------------------------------------------------------------------------\u001b[0m",
      "\u001b[1;31mNameError\u001b[0m                                 Traceback (most recent call last)",
      "\u001b[1;32m<ipython-input-1-9341cbe08672>\u001b[0m in \u001b[0;36m<module>\u001b[1;34m\u001b[0m\n\u001b[0;32m      1\u001b[0m \u001b[1;31m# Drop all tuples with blank entries\u001b[0m\u001b[1;33m\u001b[0m\u001b[1;33m\u001b[0m\u001b[1;33m\u001b[0m\u001b[0m\n\u001b[1;32m----> 2\u001b[1;33m \u001b[0mmunich\u001b[0m \u001b[1;33m=\u001b[0m \u001b[0mmunich\u001b[0m\u001b[1;33m[\u001b[0m\u001b[0mmunich\u001b[0m\u001b[1;33m.\u001b[0m\u001b[0mbathrooms\u001b[0m \u001b[1;33m!=\u001b[0m \u001b[1;32mNone\u001b[0m\u001b[1;33m]\u001b[0m\u001b[1;33m\u001b[0m\u001b[1;33m\u001b[0m\u001b[0m\n\u001b[0m\u001b[0;32m      3\u001b[0m \u001b[1;33m\u001b[0m\u001b[0m\n\u001b[0;32m      4\u001b[0m \u001b[1;31m# Drop all tuples with more than 3 bathrooms as they are suspected outliers\u001b[0m\u001b[1;33m\u001b[0m\u001b[1;33m\u001b[0m\u001b[1;33m\u001b[0m\u001b[0m\n\u001b[0;32m      5\u001b[0m \u001b[0mmunich\u001b[0m \u001b[1;33m=\u001b[0m \u001b[0mmunich\u001b[0m\u001b[1;33m[\u001b[0m\u001b[0mmunich\u001b[0m\u001b[1;33m.\u001b[0m\u001b[0mbathrooms\u001b[0m \u001b[1;33m<\u001b[0m \u001b[1;36m3.0\u001b[0m\u001b[1;33m]\u001b[0m\u001b[1;33m\u001b[0m\u001b[1;33m\u001b[0m\u001b[0m\n",
      "\u001b[1;31mNameError\u001b[0m: name 'munich' is not defined"
     ]
    }
   ],
   "source": [
    "# Drop all tuples with blank entries\n",
    "munich = munich[munich.bathrooms != None]\n",
    "\n",
    "# Drop all tuples with more than 3 bathrooms as they are suspected outliers\n",
    "munich = munich[munich.bathrooms < 3.0]\n",
    "\n",
    "# replace zero bathrooms with shared bathroom\n",
    "munich.loc[munich.bathrooms == 0.0, 'bathrooms'] = 0.5\n",
    "\n",
    "# analyze the effect of bathrooms on price\n",
    "bathroom_price = munich[['bathrooms', 'price']].groupby('bathrooms').mean()\n",
    "\n",
    "# print the mean values for bathrooms\n",
    "print(bathroom_price)\n",
    "\n",
    "# print the plot\n",
    "print(bathroom_price.plot())\n",
    "\n",
    "plt.scatter(munich['bathrooms'], munich['price'])\n",
    "\n",
    "# show the plot\n",
    "plt.show()\n",
    "\n"
   ]
  },
  {
   "cell_type": "markdown",
   "metadata": {},
   "source": [
    "### Accommodates"
   ]
  },
  {
   "cell_type": "code",
   "execution_count": 15,
   "metadata": {},
   "outputs": [
    {
     "name": "stdout",
     "output_type": "stream",
     "text": [
      "                   price\n",
      "accommodates            \n",
      "1              62.986907\n",
      "2              89.243422\n",
      "3             109.485807\n",
      "4             149.027414\n",
      "5             185.000000\n",
      "6             240.219858\n",
      "7             199.675000\n",
      "8             258.394737\n",
      "9             410.000000\n",
      "10            468.800000\n",
      "11            139.500000\n",
      "12            398.000000\n",
      "13            179.333333\n",
      "AxesSubplot(0.125,0.125;0.775x0.755)\n"
     ]
    },
    {
     "data": {
      "image/png": "[encoded data removed]",
      "text/plain": [
       "<Figure size 432x288 with 1 Axes>"
      ]
     },
     "metadata": {
      "needs_background": "light"
     },
     "output_type": "display_data"
    }
   ],
   "source": [
    "# Drop all tuples with more than 14 accomodates as they are suspected outliers\n",
    "munich = munich[munich.accommodates < 14]\n",
    "\n",
    "\n",
    "# analyze the effect of accommodates on price\n",
    "accommodates_price = munich[['accommodates', 'price']].groupby('accommodates').mean()\n",
    "\n",
    "# print the mean values for accommodates\n",
    "print(accommodates_price)\n",
    "\n",
    "# print the plot\n",
    "print(accommodates_price.plot())\n",
    "\n",
    "\n",
    "# Normalize the bathroom and accommodates featurewith values from 0 to 1\n",
    "# create the normaliser\n",
    "scaler = preprocessing.MinMaxScaler()\n",
    "\n",
    "# preprocess the features Bathrooms and Accommodates\n",
    "munich[['bathrooms', 'accommodates']] = scaler.fit_transform(munich[['bathrooms', 'accommodates']])\n",
    "\n",
    "plt.scatter(munich['accommodates'], munich['price'])\n",
    "\n",
    "plt.show()\n",
    "\n"
   ]
  },
  {
   "cell_type": "markdown",
   "metadata": {},
   "source": [
    "## Preprocess the data"
   ]
  },
  {
   "cell_type": "code",
   "execution_count": 11,
   "metadata": {},
   "outputs": [],
   "source": [
    "# one-hot encoding where necessary"
   ]
  },
  {
   "cell_type": "markdown",
   "metadata": {},
   "source": [
    "## Compare different months"
   ]
  },
  {
   "cell_type": "code",
   "execution_count": 12,
   "metadata": {},
   "outputs": [
    {
     "name": "stderr",
     "output_type": "stream",
     "text": [
      "C:\\Users\\fn8j\\Anaconda3\\lib\\site-packages\\IPython\\core\\interactiveshell.py:3057: DtypeWarning: Columns (43,61,62,94) have mixed types. Specify dtype option on import or set low_memory=False.\n",
      "  interactivity=interactivity, compiler=compiler, result=result)\n"
     ]
    }
   ],
   "source": [
    "munich_09 = pd.read_csv('Data/listings_19_09.csv')\n",
    "munich_09['price'] = munich_09['price'].replace( '[\\$,)]','', regex=True ).astype(float)\n",
    "munich_08 = pd.read_csv('Data/listings_19_08.csv')\n",
    "munich_06 = pd.read_csv('Data/listings_19_06.csv')\n",
    "munich_05 = pd.read_csv('Data/listings_19_05.csv')"
   ]
  },
  {
   "cell_type": "code",
   "execution_count": 13,
   "metadata": {},
   "outputs": [
    {
     "name": "stdout",
     "output_type": "stream",
     "text": [
      "May\n",
      "Median:  80.0\n",
      "Mean:  107.91782208278514\n",
      "\n",
      "June\n",
      "Median:  80.0\n",
      "Mean:  108.27851247887044\n",
      "\n",
      "July\n",
      "Median:  80.0\n",
      "Mean:  108.14261628483587\n",
      "\n",
      "August\n",
      "Median:  80.0\n",
      "Mean:  113.40779101741522\n",
      "\n",
      "September\n",
      "Median:  89.0\n",
      "Mean:  119.22780610180465\n"
     ]
    }
   ],
   "source": [
    "print('May')\n",
    "print('Median: ', munich_05['price'].median())\n",
    "print('Mean: ', munich_05['price'].mean())\n",
    "print()\n",
    "print('June')\n",
    "print('Median: ', munich_06['price'].median())\n",
    "print('Mean: ', munich_06['price'].mean())\n",
    "print()\n",
    "print('July')\n",
    "print('Median: ', munich['price'].median())\n",
    "print('Mean: ', munich['price'].mean())\n",
    "print()\n",
    "print('August')\n",
    "print('Median: ', munich_08['price'].median())\n",
    "print('Mean: ', munich_08['price'].mean())\n",
    "print()\n",
    "print('September')\n",
    "print('Median: ', munich_09['price'].median())\n",
    "print('Mean: ', munich_09['price'].mean())\n"
   ]
  },
  {
   "cell_type": "markdown",
   "metadata": {},
   "source": [
    "One can see that the average prices are quite stabile from May to August but increase a lot in September. This can be traced back to the Oktoberfest in Munich that takes place in September. We need to find a good solution for dealing with these variations. "
   ]
  }
 ],
 "metadata": {
  "kernelspec": {
   "display_name": "Python 3",
   "language": "python",
   "name": "python3"
  },
  "language_info": {
   "codemirror_mode": {
    "name": "ipython",
    "version": 3
   },
   "file_extension": ".py",
   "mimetype": "text/x-python",
   "name": "python",
   "nbconvert_exporter": "python",
   "pygments_lexer": "ipython3",
   "version": "3.7.3"
  }
 },
 "nbformat": 4,
 "nbformat_minor": 2
}
