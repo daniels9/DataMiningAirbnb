{
 "cells": [
  {
   "cell_type": "markdown",
   "metadata": {},
   "source": [
    "## Timeline\n",
    "**Start of Project:** 04.11.2019 \n",
    "**Submission of Project Results:** 27.11.2019\n",
    "\n",
    "**Phases:** \n",
    "1. Week (06.11 - 12.11): Preprocessing \n",
    "2. Week (13.11 - 19.11): Iterate & Evaluate the Models \n",
    "3. Week (20.11 - 26.11): Writing the Report"
   ]
  },
  {
   "cell_type": "markdown",
   "metadata": {},
   "source": [
    "## Responsibilities\n",
    "- Liste mit Begründungen für Auswahl der Feature (Feature | Begründung) - Jannik\n",
    "- Preprocessing: \n",
    "  - Neighbourhood_cleansed (One-hot) (& PLZ Gibt es genug Beispiele prüfen?)- Daniel \n",
    "  - Property_type (One-hot) - Jannik \n",
    "  - Room_type (One-hot) - Jannik\n",
    "  - Accomodates - Caro\n",
    "  - Bathrooms (Maybe) - Caro\n",
    "  - Bedrooms - Fritz\n",
    "  - Amenities - Jakob\n",
    "  - Beds - Fritz\n",
    "  - Bed_type (One-hot) - Fritz\n",
    "\n",
    "- Juli Datensatz fürs Preprocessing"
   ]
  },
  {
   "cell_type": "markdown",
   "metadata": {},
   "source": [
    "# Airbnb Price Prediction"
   ]
  },
  {
   "cell_type": "markdown",
   "metadata": {},
   "source": [
    "## Goal\n",
    "The goal of our data mining project is to predict prices for new Airbnb listings in Munich. To achieve this, we will train a regression model on existing Airbnb data from www.insideairbnb.com."
   ]
  },
  {
   "cell_type": "markdown",
   "metadata": {},
   "source": [
    "## Import libraries"
   ]
  },
  {
   "cell_type": "code",
   "execution_count": 27,
   "metadata": {},
   "outputs": [],
   "source": [
    "import pandas as pd\n",
    "import matplotlib.pyplot as plt\n",
    "from sklearn.model_selection import train_test_split\n",
    "from sklearn.linear_model import LinearRegression\n",
    "from sklearn.linear_model import LinearRegression\n",
    "from sklearn.preprocessing import PolynomialFeatures\n",
    "from sklearn.pipeline import Pipeline\n",
    "from sklearn.metrics import mean_squared_error, r2_score\n",
    "from sklearn import preprocessing\n",
    "from math import sqrt\n",
    "from sklearn.feature_selection import f_regression\n",
    "from sklearn.feature_selection import SelectKBest, SelectFwe\n",
    "from collections import Counter\n",
    "import seaborn as sns\n",
    "import numpy as np\n",
    "import geopandas as gpd #requires install via conda/pip\n",
    "import geoplot as glt #requires install via conda/pip\n",
    "from shapely.geometry import Point, polygon\n",
    "\n"
   ]
  },
  {
   "cell_type": "markdown",
   "metadata": {},
   "source": [
    "## Load the data"
   ]
  },
  {
   "cell_type": "code",
   "execution_count": 28,
   "metadata": {},
   "outputs": [],
   "source": [
    "#Load dataset\n",
    "munich = pd.read_csv('Data/listings_Munich_July.csv')\n",
    "#Create copy of dataset with original values\n",
    "munich_initialcopy = munich.copy()"
   ]
  },
  {
   "cell_type": "code",
   "execution_count": 29,
   "metadata": {},
   "outputs": [],
   "source": [
    "# drop all colums except the ones that we are using \n",
    "munich = munich.loc[:, munich.columns.intersection(['neighbourhood_cleansed', 'property_type', \n",
    "                                                    'room_type', 'accommodates', 'bathrooms', 'bedrooms',\n",
    "                                                    'beds', 'bed_type', 'price', 'amenities', \n",
    "                                                    'extra_people','guests_included', 'longitude', 'latitude'])]"
   ]
  },
  {
   "cell_type": "markdown",
   "metadata": {},
   "source": [
    "## Understand & Preprocess the data"
   ]
  },
  {
   "cell_type": "code",
   "execution_count": 30,
   "metadata": {
    "scrolled": true
   },
   "outputs": [
    {
     "data": {
      "text/plain": [
       "['id',\n",
       " 'listing_url',\n",
       " 'scrape_id',\n",
       " 'last_scraped',\n",
       " 'name',\n",
       " 'summary',\n",
       " 'space',\n",
       " 'description',\n",
       " 'experiences_offered',\n",
       " 'neighborhood_overview',\n",
       " 'notes',\n",
       " 'transit',\n",
       " 'access',\n",
       " 'interaction',\n",
       " 'house_rules',\n",
       " 'thumbnail_url',\n",
       " 'medium_url',\n",
       " 'picture_url',\n",
       " 'xl_picture_url',\n",
       " 'host_id',\n",
       " 'host_url',\n",
       " 'host_name',\n",
       " 'host_since',\n",
       " 'host_location',\n",
       " 'host_about',\n",
       " 'host_response_time',\n",
       " 'host_response_rate',\n",
       " 'host_acceptance_rate',\n",
       " 'host_is_superhost',\n",
       " 'host_thumbnail_url',\n",
       " 'host_picture_url',\n",
       " 'host_neighbourhood',\n",
       " 'host_listings_count',\n",
       " 'host_total_listings_count',\n",
       " 'host_verifications',\n",
       " 'host_has_profile_pic',\n",
       " 'host_identity_verified',\n",
       " 'street',\n",
       " 'neighbourhood',\n",
       " 'neighbourhood_cleansed',\n",
       " 'neighbourhood_group_cleansed',\n",
       " 'city',\n",
       " 'state',\n",
       " 'zipcode',\n",
       " 'market',\n",
       " 'smart_location',\n",
       " 'country_code',\n",
       " 'country',\n",
       " 'latitude',\n",
       " 'longitude',\n",
       " 'is_location_exact',\n",
       " 'property_type',\n",
       " 'room_type',\n",
       " 'accommodates',\n",
       " 'bathrooms',\n",
       " 'bedrooms',\n",
       " 'beds',\n",
       " 'bed_type',\n",
       " 'amenities',\n",
       " 'square_feet',\n",
       " 'price',\n",
       " 'weekly_price',\n",
       " 'monthly_price',\n",
       " 'security_deposit',\n",
       " 'cleaning_fee',\n",
       " 'guests_included',\n",
       " 'extra_people',\n",
       " 'minimum_nights',\n",
       " 'maximum_nights',\n",
       " 'minimum_minimum_nights',\n",
       " 'maximum_minimum_nights',\n",
       " 'minimum_maximum_nights',\n",
       " 'maximum_maximum_nights',\n",
       " 'minimum_nights_avg_ntm',\n",
       " 'maximum_nights_avg_ntm',\n",
       " 'calendar_updated',\n",
       " 'has_availability',\n",
       " 'availability_30',\n",
       " 'availability_60',\n",
       " 'availability_90',\n",
       " 'availability_365',\n",
       " 'calendar_last_scraped',\n",
       " 'number_of_reviews',\n",
       " 'number_of_reviews_ltm',\n",
       " 'first_review',\n",
       " 'last_review',\n",
       " 'review_scores_rating',\n",
       " 'review_scores_accuracy',\n",
       " 'review_scores_cleanliness',\n",
       " 'review_scores_checkin',\n",
       " 'review_scores_communication',\n",
       " 'review_scores_location',\n",
       " 'review_scores_value',\n",
       " 'requires_license',\n",
       " 'license',\n",
       " 'jurisdiction_names',\n",
       " 'instant_bookable',\n",
       " 'is_business_travel_ready',\n",
       " 'cancellation_policy',\n",
       " 'require_guest_profile_picture',\n",
       " 'require_guest_phone_verification',\n",
       " 'calculated_host_listings_count',\n",
       " 'calculated_host_listings_count_entire_homes',\n",
       " 'calculated_host_listings_count_private_rooms',\n",
       " 'calculated_host_listings_count_shared_rooms',\n",
       " 'reviews_per_month']"
      ]
     },
     "execution_count": 30,
     "metadata": {},
     "output_type": "execute_result"
    }
   ],
   "source": [
    "munich_initialcopy\n",
    "#get list of columnnames\n",
    "list(munich_initialcopy.columns.values)"
   ]
  },
  {
   "cell_type": "markdown",
   "metadata": {},
   "source": [
    "### Neighbourhoods "
   ]
  },
  {
   "cell_type": "code",
   "execution_count": 31,
   "metadata": {},
   "outputs": [
    {
     "name": "stdout",
     "output_type": "stream",
     "text": [
      "Ludwigsvorstadt-Isarvorstadt                              1077\n",
      "Maxvorstadt                                               1000\n",
      "Schwabing-West                                             735\n",
      "Neuhausen-Nymphenburg                                      702\n",
      "Au-Haidhausen                                              686\n",
      "Schwabing-Freimann                                         589\n",
      "Bogenhausen                                                471\n",
      "Milbertshofen-Am Hart                                      428\n",
      "Sendling                                                   427\n",
      "Schwanthalerhöhe                                           409\n",
      "Ramersdorf-Perlach                                         368\n",
      "Sendling-Westpark                                          361\n",
      "Thalkirchen-Obersendling-Forstenried-Fürstenried-Solln     359\n",
      "Laim                                                       353\n",
      "Obergiesing                                                346\n",
      "Untergiesing-Harlaching                                    339\n",
      "Altstadt-Lehel                                             330\n",
      "Tudering-Riem                                              278\n",
      "Pasing-Obermenzing                                         212\n",
      "Berg am Laim                                               211\n",
      "Moosach                                                    193\n",
      "Hadern                                                     124\n",
      "Feldmoching-Hasenbergl                                      97\n",
      "Aubing-Lochhausen-Langwied                                  82\n",
      "Allach-Untermenzing                                         61\n",
      "Name: neighbourhood_cleansed, dtype: int64\n"
     ]
    }
   ],
   "source": [
    "## show amount of entries per neighbourhood\n",
    "# understand feature neighbourhoods_cleansed\n",
    "print(munich['neighbourhood_cleansed'].value_counts())"
   ]
  },
  {
   "cell_type": "code",
   "execution_count": 32,
   "metadata": {},
   "outputs": [
    {
     "name": "stdout",
     "output_type": "stream",
     "text": [
      "80469       418\n",
      "80339       342\n",
      "80337       329\n",
      "81541       272\n",
      "80333       217\n",
      "           ... \n",
      "80369         1\n",
      "München       1\n",
      "81664         1\n",
      "85579.0       1\n",
      "812371.0      1\n",
      "Name: zipcode, Length: 167, dtype: int64\n"
     ]
    }
   ],
   "source": [
    "## show amount of entries per zipcode\n",
    "print(munich_initialcopy['zipcode'].value_counts())"
   ]
  },
  {
   "cell_type": "code",
   "execution_count": null,
   "metadata": {},
   "outputs": [],
   "source": [
    "## show zipcodes per neighbourhood\n",
    "tbd\n",
    "\n",
    "#one-hot encoding\n"
   ]
  },
  {
   "cell_type": "markdown",
   "metadata": {},
   "source": [
    "### Price"
   ]
  },
  {
   "cell_type": "code",
   "execution_count": 33,
   "metadata": {},
   "outputs": [
    {
     "data": {
      "image/png": "[encoded data removed]",
      "text/plain": [
       "<Figure size 432x288 with 1 Axes>"
      ]
     },
     "metadata": {
      "needs_background": "light"
     },
     "output_type": "display_data"
    },
    {
     "name": "stdout",
     "output_type": "stream",
     "text": [
      "Listings that qualify as outliers (using Standard Deviation):\n",
      "167\n"
     ]
    },
    {
     "data": {
      "image/png": "[encoded data removed]",
      "text/plain": [
       "<Figure size 432x288 with 1 Axes>"
      ]
     },
     "metadata": {
      "needs_background": "light"
     },
     "output_type": "display_data"
    },
    {
     "name": "stdout",
     "output_type": "stream",
     "text": [
      "count    10071.000000\n",
      "mean       119.716215\n",
      "std         99.014600\n",
      "min          8.000000\n",
      "25%         60.000000\n",
      "50%         90.000000\n",
      "75%        149.000000\n",
      "max       2753.000000\n",
      "Name: max_price, dtype: float64\n",
      "\n",
      "count    10071.000000\n",
      "mean        98.496177\n",
      "std         69.968492\n",
      "min          8.000000\n",
      "25%         50.000000\n",
      "50%         79.000000\n",
      "75%        120.000000\n",
      "max        470.000000\n",
      "Name: price, dtype: float64\n"
     ]
    }
   ],
   "source": [
    "# convert column price to float values without leading $ sign\n",
    "munich['price'] = munich['price'].replace( '[\\$,)]','', regex=True ).astype(float)\n",
    "\n",
    "#examine distribution\n",
    "sns.distplot(munich['price'])\n",
    "plt.show()\n",
    "\n",
    "#outlier detection\n",
    "price_std = np.std(munich['price'])\n",
    "price_mean = np.mean(munich['price'])\n",
    "print(\"Listings that qualify as outliers (using Standard Deviation):\")\n",
    "print(munich[munich['price'] > (price_mean + (3*price_std))]['price'].count())\n",
    "munich = munich[munich['price'] <= (price_mean + (3*price_std))]\n",
    "\n",
    "#examine distribution again\n",
    "sns.distplot(munich['price'])\n",
    "plt.show()"
   ]
  },
  {
   "cell_type": "markdown",
   "metadata": {},
   "source": [
    "Since the feature 'price' describes a standard price of the appartment and is determined by the host himself, it can include the fee for an arbitrary number of people. The number of people included in the 'price' feature is described in the feature 'guests_included'. For every additional guest that is going to stay in the appartment, an additional fee is raised. This fee is described in the feature 'extra_people'. Because the standard price can differ a lot depending on the guests included, we decided to compute a feature 'max_price' which describes the maximum price one has to pay if all possible accommodates would stay in the appartment."
   ]
  },
  {
   "cell_type": "code",
   "execution_count": null,
   "metadata": {},
   "outputs": [],
   "source": [
    "# convert column extra people to float values without leading $ sign\n",
    "munich['extra_people'] = munich['extra_people'].replace( '[\\$,)]','', regex=True ).astype(float)\n",
    "\n",
    "#create variable accounting for maximium price of each listing\n",
    "for i, row in munich.iterrows():\n",
    "    if row.guests_included < row.accommodates:\n",
    "        munich.loc[i, 'max_price'] = row.price + (row.accommodates - row.guests_included) * row.extra_people\n",
    "    else:\n",
    "        munich.loc[i, 'max_price'] = row.price\n",
    "            \n",
    "print(munich['max_price'].describe())\n",
    "print()\n",
    "print(munich['price'].describe())   \n",
    "\n",
    "munich = munich.drop(columns = ['guests_included', 'extra_people'])                                     "
   ]
  },
  {
   "cell_type": "markdown",
   "metadata": {},
   "source": [
    "The prices of 167 listings are more than 3 Standard Deviations above the mean. Therefore, these data points are excluded. Afterwards, the distribution more closely resembles a normal distribution. "
   ]
  },
  {
   "cell_type": "code",
   "execution_count": 8,
   "metadata": {},
   "outputs": [
    {
     "data": {
      "image/png": "[encoded data removed]",
      "text/plain": [
       "<Figure size 1080x1080 with 1 Axes>"
      ]
     },
     "metadata": {
      "needs_background": "light"
     },
     "output_type": "display_data"
    }
   ],
   "source": [
    "#Visualizing\n",
    "\n",
    "fig,ax = plt.subplots(figsize = (15, 15), )\n",
    "sns.boxplot(x = munich['neighbourhood_cleansed'], y = munich['price'], ax=ax)\n",
    "plt.xticks(rotation=90)\n",
    "plt.xlabel('Neighbourhoods')\n",
    "plt.ylabel('Price in $')\n",
    "plt.title('Listing Prices in different Neighbourhoods')\n",
    "plt.show()"
   ]
  },
  {
   "cell_type": "code",
   "execution_count": 9,
   "metadata": {},
   "outputs": [
    {
     "ename": "NameError",
     "evalue": "name 'gpd' is not defined",
     "output_type": "error",
     "traceback": [
      "\u001b[1;31m---------------------------------------------------------------------------\u001b[0m",
      "\u001b[1;31mNameError\u001b[0m                                 Traceback (most recent call last)",
      "\u001b[1;32m<ipython-input-9-cf18d30a902f>\u001b[0m in \u001b[0;36m<module>\u001b[1;34m\u001b[0m\n\u001b[0;32m      1\u001b[0m \u001b[1;31m#read shapefile of Bavaria\\n\",\u001b[0m\u001b[1;33m\u001b[0m\u001b[1;33m\u001b[0m\u001b[1;33m\u001b[0m\u001b[0m\n\u001b[0;32m      2\u001b[0m \u001b[0mmunich_sh\u001b[0m \u001b[1;33m=\u001b[0m \u001b[1;34m'Data//Geodata/gmd_ex.shp'\u001b[0m\u001b[1;33m\u001b[0m\u001b[1;33m\u001b[0m\u001b[0m\n\u001b[1;32m----> 3\u001b[1;33m \u001b[0mmap_df\u001b[0m \u001b[1;33m=\u001b[0m \u001b[0mgpd\u001b[0m\u001b[1;33m.\u001b[0m\u001b[0mread_file\u001b[0m\u001b[1;33m(\u001b[0m\u001b[0mmunich_sh\u001b[0m\u001b[1;33m)\u001b[0m\u001b[1;33m\u001b[0m\u001b[1;33m\u001b[0m\u001b[0m\n\u001b[0m\u001b[0;32m      4\u001b[0m \u001b[1;33m\u001b[0m\u001b[0m\n\u001b[0;32m      5\u001b[0m \u001b[1;31m#Create point for every listing\u001b[0m\u001b[1;33m\u001b[0m\u001b[1;33m\u001b[0m\u001b[1;33m\u001b[0m\u001b[0m\n",
      "\u001b[1;31mNameError\u001b[0m: name 'gpd' is not defined"
     ]
    }
   ],
   "source": [
    "#read shapefile of Bavaria\\n\",\n",
    "munich_sh = 'Data//Geodata/gmd_ex.shp'\n",
    "map_df = gpd.read_file(munich_sh)\n",
    "\n",
    "#Create point for every listing\n",
    "geometry = [Point(xy) for xy in zip (munich['longitude'], munich['latitude'])]\n",
    "munich = munich.drop(columns = ['longitude', 'latitude'])\n",
    "crs = {'init': 'epsg:4326'} # crs-data tells geopandas how the data relate to points in the real worlds (e.g. latitude and longitude)\n",
    "map_df = map_df.to_crs(epsg=4326) #convert given shapefile to latitude and longitude-crs\n",
    "\n",
    "#create Geo-DataFrame with Points and Prices for each listing\n",
    "geo_df = gpd.GeoDataFrame(munich['price'], crs = crs, geometry = geometry)\n",
    "\n",
    "#compute distance to Marienplatz as a proxy for the city centre\n",
    "geo_df['distance_centre'] = geo_df.distance(Point(11.576006, 48.137079))\n",
    "\n",
    "#add feature to DataFrame and create a Geopandas-object for plotting\n",
    "munich['distance_centre'] = geo_df['distance_centre']\n",
    "point_marienplatz = gpd.GeoSeries(Point(11.576006, 48.137079),crs=crs)\n",
    "\n",
    "#plot the data\n",
    "ax = map_df[(map_df['BEZ_GEM'] == 'MÃ¼nchen')].plot(figsize=(20, 10), alpha=0.7, color = 'grey')\n",
    "plt.title('Listing Prices (in $) in Munich', fontsize=30)\n",
    "glt.pointplot(geo_df, ax=ax, hue=munich['price'], legend=True, legend_kwargs={'orientation': 'horizontal'})\n",
    "#glt.pointplot(geo_df, ax=ax, hue=munich['distance_centre'], legend=True, legend_kwargs={'orientation': 'horizontal'})\n",
    "point_marienplatz.plot(ax=ax, markersize= 60,  color = 'red') #plot location of the Marienplatz\n",
    "\n",
    "\n"
   ]
  },
  {
   "cell_type": "code",
   "execution_count": null,
   "metadata": {},
   "outputs": [],
   "source": [
    " #discretise distance_centre\n",
    "discretiser = preprocessing.KBinsDiscretizer(n_bins=5, encode='ordinal')\n",
    "munich['distance_centre'] = discretiser.fit_transform(munich['distance_centre'].values.reshape(-1, 1))\n",
    "\n",
    "#plot relationship between price and distance to city centre\n",
    "distance_price = munich[['distance_centre', 'price']].groupby('distance_centre').mean()\n",
    "print(distance_price.plot())"
   ]
  },
  {
   "cell_type": "markdown",
   "metadata": {},
   "source": [
    "These visuals suggest that there is not only a significant difference in the median prices in the different neighbourhoods of Munich, but also that more expensive listings appear to be clustered in and around the centre of the city.\n",
    "\n",
    "The further away a listing is from the centre of the city (Marienplatz), the less expensive it is on average. This describtive analysis warrants further examination using inference methods."
   ]
  },
  {
   "cell_type": "markdown",
   "metadata": {},
   "source": [
    "### Bedrooms"
   ]
  },
  {
   "cell_type": "code",
   "execution_count": 10,
   "metadata": {},
   "outputs": [
    {
     "name": "stdout",
     "output_type": "stream",
     "text": [
      "0.0     1018\n",
      "1.0     7621\n",
      "2.0     1106\n",
      "3.0      249\n",
      "4.0       50\n",
      "5.0        3\n",
      "7.0        1\n",
      "8.0        6\n",
      "10.0       1\n",
      "20.0       1\n",
      "25.0       1\n",
      "Name: bedrooms, dtype: int64\n",
      "               price\n",
      "bedrooms            \n",
      "0.0        90.322200\n",
      "1.0        89.239076\n",
      "2.0       146.810127\n",
      "3.0       172.337349\n",
      "4.0       236.560000\n",
      "5.0       136.333333\n",
      "7.0       400.000000\n",
      "8.0        74.833333\n",
      "10.0       30.000000\n",
      "20.0       30.000000\n",
      "25.0      115.000000\n",
      "AxesSubplot(0.125,0.125;0.775x0.755)\n"
     ]
    },
    {
     "data": {
      "image/png": "[encoded data removed]",
      "text/plain": [
       "<Figure size 432x288 with 1 Axes>"
      ]
     },
     "metadata": {
      "needs_background": "light"
     },
     "output_type": "display_data"
    }
   ],
   "source": [
    "# Fritz: understand feature bedrooms \n",
    "# check the value count\n",
    "print(munich['bedrooms'].value_counts().sort_index())\n",
    "\n",
    "# analyze the effect of bedroom number on price\n",
    "bedrooms_price = munich[['bedrooms', 'price']].groupby('bedrooms').mean()\n",
    "\n",
    "# print the mean values for number of bedrooms\n",
    "print(bedrooms_price)\n",
    "\n",
    "# print the plot\n",
    "print(bedrooms_price.plot())\n",
    "\n",
    "# replace zero bedrooms with one bedroom\n",
    "munich.loc[munich.bedrooms == 0.0, 'bedrooms'] = 1.0"
   ]
  },
  {
   "cell_type": "markdown",
   "metadata": {},
   "source": [
    "One can see that most listings have one or two bedrooms. In 1023 cases there seems to be no bedroom. This value is set by Airbnb landlords if there is not seperated bedroom (e.g. a one room apartment or when accommodating in the living room). It needs to be evaluated how well several regression models can handle this encoding.\n",
    "\n",
    "The listings with 25, 20 and 10 bedrooms are hostels. As there only exist 16 listings with more than four bedrooms, it might make sense to drop those as these are extreme outliers. We can later on specify that our model is only able to predict price for new listings with less than five bedrooms.\n",
    "\n",
    "There is a clear linear dependency between number of bedrooms and price if one only looks at listings with one to four bedrooms. The difference in prices between zero and one bedroom is almost not present. Thus, it makes sense to combine those listings. Every listing with zero bedrooms will be changed to one bedroom. This also needs to be applied when inferring later on."
   ]
  },
  {
   "cell_type": "markdown",
   "metadata": {},
   "source": [
    "### Beds"
   ]
  },
  {
   "cell_type": "code",
   "execution_count": 11,
   "metadata": {},
   "outputs": [
    {
     "name": "stdout",
     "output_type": "stream",
     "text": [
      "0.0       48\n",
      "1.0     6560\n",
      "2.0     2422\n",
      "3.0      542\n",
      "4.0      260\n",
      "5.0       85\n",
      "6.0       71\n",
      "7.0       24\n",
      "8.0       28\n",
      "9.0        1\n",
      "10.0       3\n",
      "14.0       1\n",
      "16.0      10\n",
      "18.0       1\n",
      "20.0       1\n",
      "30.0       1\n",
      "50.0       1\n",
      "Name: beds, dtype: int64\n",
      "           price\n",
      "beds            \n",
      "1.0    83.732446\n",
      "2.0   114.466557\n",
      "3.0   145.047970\n",
      "4.0   157.084615\n",
      "5.0   166.517647\n",
      "6.0   205.169014\n",
      "7.0   191.541667\n",
      "8.0   138.857143\n",
      "9.0   149.000000\n",
      "10.0  316.666667\n",
      "14.0  399.000000\n",
      "16.0  107.800000\n",
      "18.0  199.000000\n",
      "20.0   30.000000\n",
      "30.0   30.000000\n",
      "50.0  115.000000\n",
      "AxesSubplot(0.125,0.125;0.775x0.755)\n"
     ]
    },
    {
     "data": {
      "image/png": "[encoded data removed]",
      "text/plain": [
       "<Figure size 432x288 with 1 Axes>"
      ]
     },
     "metadata": {
      "needs_background": "light"
     },
     "output_type": "display_data"
    }
   ],
   "source": [
    "# Fritz: understand feature beds\n",
    "# check the value count\n",
    "print(munich['beds'].value_counts().sort_index())\n",
    "\n",
    "# replace zero beds with one bed\n",
    "munich.loc[munich.beds == 0.0, 'beds'] = 1.0\n",
    "\n",
    "# analyze the effect of number of beds on price\n",
    "beds_price = munich[['beds', 'price']].groupby('beds').mean()\n",
    "\n",
    "# print the mean values for number of beds\n",
    "print(beds_price)\n",
    "\n",
    "# print the plot\n",
    "print(beds_price.plot())"
   ]
  },
  {
   "cell_type": "markdown",
   "metadata": {},
   "source": [
    "Here one can see a similar situation as with the number of bedrooms. Most listings have one or two beds. In 48 cases Airbnb landlords set the number of beds to zero. A manual check of some listings showed that beds are actually present and listings were not created correctly. Thus, listings with zero beds will not be considered in the training.\n",
    "\n",
    "Only 10 listings offer 9 or more beds. These might be dropped as well like examples with five ore more bedrooms.\n",
    "\n",
    "There is a close to linear dependecy between the number of beds and the price if one only looks at examples with less than six beds. The price seems to decrease if there are more than six beds. It might make sense to also drop listings with seven or eight beds."
   ]
  },
  {
   "cell_type": "markdown",
   "metadata": {},
   "source": [
    "### Bed_type"
   ]
  },
  {
   "cell_type": "code",
   "execution_count": 12,
   "metadata": {},
   "outputs": [
    {
     "name": "stdout",
     "output_type": "stream",
     "text": [
      "Real Bed         9565\n",
      "Pull-out Sofa     339\n",
      "Couch              79\n",
      "Futon              61\n",
      "Airbed             27\n",
      "Name: bed_type, dtype: int64\n",
      "                   price\n",
      "bed_type                \n",
      "Airbed         94.851852\n",
      "Couch          78.265823\n",
      "Futon          78.885246\n",
      "Pull-out Sofa  78.129794\n",
      "Real Bed       99.520439\n",
      "AxesSubplot(0.125,0.125;0.775x0.755)\n"
     ]
    },
    {
     "data": {
      "image/png": "[encoded data removed]",
      "text/plain": [
       "<Figure size 432x288 with 1 Axes>"
      ]
     },
     "metadata": {
      "needs_background": "light"
     },
     "output_type": "display_data"
    }
   ],
   "source": [
    "# Fritz: understand feature bed_type\n",
    "# check the value count\n",
    "print(munich['bed_type'].value_counts())\n",
    "\n",
    "# analyze the effect of bed_type on price\n",
    "bed_type_price = munich[['bed_type', 'price']].groupby('bed_type').mean()\n",
    "\n",
    "# print the mean values for bed_types\n",
    "print(bed_type_price)\n",
    "\n",
    "# print the plot\n",
    "print(bed_type_price.plot())\n",
    "\n",
    "# ordinal encoding\n",
    "# create replace map\n",
    "replace_map = {'bed_type': {'Couch': 1, 'Futon': 1, 'Pull-out Sofa': 1, 'Airbed': 2, 'Real Bed': 3}}\n",
    "\n",
    "# replace categorical values using replace map\n",
    "munich = munich.replace(replace_map)"
   ]
  },
  {
   "cell_type": "markdown",
   "metadata": {},
   "source": [
    "One can see that real beds are offered in the great majority (95%) of all listings. Pull-out sofas occur in about 3% while listings with bed types couch, futon and airbed are not really present in the dataset.\n",
    "\n",
    "It is interesting to see that prices of listings with airbeds are significantly higher compared to couch, futon or pull-out sofa. The prices for real bed listings are the highest which is not surprising. With respect to the dependencies, it makes sense to do an ordnial encoding of this categorical feature. Couch, futon and pull-out-sofa will be converted to value 1, airbed to value 2 and real bed to value 3."
   ]
  },
  {
   "cell_type": "markdown",
   "metadata": {},
   "source": [
    "### Amenities"
   ]
  },
  {
   "cell_type": "markdown",
   "metadata": {},
   "source": [
    "As they potentially provide significant value to the customers of Airbnb (e.g. kitchen, internet), amenities could easily affect the price of a given listing and are therefore included in the analysis.\n",
    "\n",
    "First, as the amenities in the data are given as a list of strings per listing, we have to split the data in order to analyse which specific amenities might be useful to the analysis."
   ]
  },
  {
   "cell_type": "code",
   "execution_count": null,
   "metadata": {},
   "outputs": [],
   "source": [
    "all_amenities = list()  #create list of all individual amenities\n",
    "for amenities in munich['amenities']:\n",
    "    for amenity in amenities.split(\"{\")[1].split(\"}\")[0].split(\",\"):\n",
    "        all_amenities.append(amenity.replace('\"', ''))\n",
    "#all_amenities_set = set(all_amenities)\n",
    "Counter(all_amenities).most_common(50)"
   ]
  },
  {
   "cell_type": "markdown",
   "metadata": {},
   "source": [
    "We now can filter out those amenities which conceivably affect the price and which are occuring often enough in order to be regarded as significant.\n",
    "\n",
    "We extract these features into a list and create new variables for each one to perfom One-Hot-Encoding."
   ]
  },
  {
   "cell_type": "code",
   "execution_count": null,
   "metadata": {},
   "outputs": [],
   "source": [
    "relevant_amenities = ['Wifi', 'Internet', 'TV', 'Kitchen', 'Heating', 'Washer', 'Patio or balcony', \n",
    "                      'Breakfast', 'Elevator','24-hour check-in', 'Pool', \n",
    "                      'Private entrance','Dishwasher', 'Bed linens','Smoking allowed'] \n",
    "\n",
    "for element in relevant_amenities: #create dummy variables\n",
    "    munich[element.lower()] = 0\n",
    "    \n",
    "for row in munich.itertuples(): #can take a moment\n",
    "    for element in relevant_amenities:\n",
    "        if element in row.amenities:\n",
    "            munich.loc[row.Index, element.lower()] = 1\n",
    "            \n",
    "munich = munich.drop(columns = 'amenities')"
   ]
  },
  {
   "cell_type": "code",
   "execution_count": null,
   "metadata": {},
   "outputs": [],
   "source": [
    "for amenity in relevant_amenities: #analyse features with regard to districts\n",
    "    print(pd.crosstab(munich['neighbourhood_cleansed'], munich[amenity.lower()]))\n",
    "    print() "
   ]
  },
  {
   "cell_type": "code",
   "execution_count": null,
   "metadata": {},
   "outputs": [],
   "source": [
    "#Visualize\n",
    "for amenity in relevant_amenities: #analyse features with regard to districts\n",
    "    sns.barplot(x= munich[amenity.lower()], y='price', data=munich)\n",
    "    plt.show()"
   ]
  },
  {
   "cell_type": "code",
   "execution_count": null,
   "metadata": {},
   "outputs": [],
   "source": [
    "#merge information from variables wifi and internet in the feature 'internet'\n",
    "for row in munich.itertuples():\n",
    "        if row.wifi == 1:\n",
    "            munich.loc[row.Index, 'internet'] = 1\n",
    "\n",
    "munich = munich.drop(columns = ['wifi', 'pool', 'bed linens'])\n",
    "munich['internet'].describe()"
   ]
  },
  {
   "cell_type": "markdown",
   "metadata": {},
   "source": [
    "The features 'internet' and 'wifi' appear to be redundant. Therefore, the latter can be discarded. Furthermore, there seems to be a relatively small number of 'pools' in the data which suggests that the variable should be filtered out as well. Apart from that, it appears very likely that the infrequent occurence of the feature 'bed linens' is due to hosts not giving the respective information correctly. Thus, the feature is excluded accordingly.\n",
    "\n",
    "The visualizations of the respective amenities versus the prices of listings indicate a positive effect of the features kitchen, tv and private entrance, among others. However, these indications require verification during the actual modeling process."
   ]
  },
  {
   "cell_type": "markdown",
   "metadata": {},
   "source": [
    "### Bathrooms"
   ]
  },
  {
   "cell_type": "markdown",
   "metadata": {},
   "source": [
    "The number of bathrooms, since it is considered a comfort zone for the customer, is regarded another important feature for the analysis. Here Airbnb not only differentiates the number of bathrooms, but also whether it is a shared or private bathroom, as Airbnb also allows the property to be shared with other Airbnb customers and the host. So it is possible that hosts can charge a higher price for private bathrooms, as this also increases the usable space of a guest."
   ]
  },
  {
   "cell_type": "code",
   "execution_count": null,
   "metadata": {},
   "outputs": [],
   "source": [
    "# Drop all tuples with blank entries\n",
    "munich = munich[munich.bathrooms != None]\n",
    "\n",
    "# replace zero bathrooms with shared bathroom\n",
    "munich.loc[munich.bathrooms == 0.0, 'bathrooms'] = 0.5"
   ]
  },
  {
   "cell_type": "markdown",
   "metadata": {},
   "source": [
    "Columns in which no input was made are removed directly from the data set because they do not provide useful information for analysis. The value \"0.5\" refers to a shared bathroom, while the values \"1.5\" and \"2.5\" refer to an additional guest toilet without shower. Since apartment types such as \"tent\" or \"campervan\" have already been deleted and prices are only to be predicted for real houses, it can be assumed that there is always a bathroom for guests and the host has made a wrong entry or merely indicated not to offer a bathtub. Therefore, all entries with the value \"0.0\" can be raised to \"0.5\"."
   ]
  },
  {
   "cell_type": "code",
   "execution_count": null,
   "metadata": {},
   "outputs": [],
   "source": [
    "# check the value count\n",
    "print(munich['bathrooms'].value_counts())\n",
    "\n",
    "# analyze the effect of bathrooms on price\n",
    "bathroom_price = munich[['bathrooms', 'max_price']].groupby('bathrooms').mean()\n",
    "\n",
    "# print the mean values for bathrooms\n",
    "print(bathroom_price)\n",
    "\n",
    "# plot the effect of bathrooms on price\n",
    "plt.plot(bathroom_price)\n",
    "\n",
    "# print the plot\n",
    "plt.show()\n",
    "\n",
    "#Create a scatterplot of Price on Bathrooms\n",
    "plt.scatter(munich['bathrooms'], munich['max_price'])\n",
    "\n",
    "plt.show()"
   ]
  },
  {
   "cell_type": "markdown",
   "metadata": {},
   "source": [
    "In considering the number of bathrooms in the offers as well as the ratio between the number of bathrooms and the price of the real estate, there are some things that attract attention. Firstly, most of the apartments offered on Airbnb have their own bathroom for the guests. Only with greater distance follow other types of apartments. Secondly, the effect of the number of bathrooms on the house price is almost linear, with the exception that the price increase between apartments with \"1.0\" and \"1.5\" bathrooms is lower than between \"1.5\" and \"2.0\" bathrooms."
   ]
  },
  {
   "cell_type": "markdown",
   "metadata": {},
   "source": [
    "### Accommodates"
   ]
  },
  {
   "cell_type": "markdown",
   "metadata": {},
   "source": [
    "Another feature to be included in the analysis is the number of people who can be accommodated in the home. Since the number of square metres is not included in the analysis because too few entries are offered for a prediction, both the number of accommodations and the number of beds can be used to estimate the size of the accommodation."
   ]
  },
  {
   "cell_type": "code",
   "execution_count": null,
   "metadata": {},
   "outputs": [],
   "source": [
    "# check the value count\n",
    "print(munich['accommodates'].value_counts())\n",
    "\n",
    "# analyze the effect of accommodates on price\n",
    "accommodates_price = munich[['accommodates', 'max_price']].groupby('accommodates').mean()\n",
    "\n",
    "# print the mean values for accommodates\n",
    "print(accommodates_price)\n",
    "\n",
    "# print the plot\n",
    "plt.plot(accommodates_price)\n",
    "\n",
    "plt.show()\n",
    "\n",
    "#Create a scatterplot of Price on Accommodates\n",
    "plt.scatter(munich['accommodates'], munich['max_price'])\n",
    "\n",
    "plt.show()\n"
   ]
  },
  {
   "cell_type": "code",
   "execution_count": null,
   "metadata": {},
   "outputs": [],
   "source": [
    "# one-hot encoding where necessary"
   ]
  },
  {
   "cell_type": "markdown",
   "metadata": {},
   "source": [
    "## Initial preprocessing of Property Type & Room Type"
   ]
  },
  {
   "cell_type": "code",
   "execution_count": null,
   "metadata": {},
   "outputs": [],
   "source": [
    "label_encoder = preprocessing.LabelEncoder()\n",
    "from sklearn.feature_selection import f_regression\n",
    "from sklearn.feature_selection import SelectKBest, SelectFwe\n",
    "from sklearn.svm import SVR\n",
    "from collections import Counter\n",
    "from sklearn.model_selection import train_test_split\n",
    "\n",
    "# Property Type\n",
    "property_types = munich['property_type'].unique()\n",
    "res = munich[munich.max_price < 0]\n",
    "for i in property_types:\n",
    "    tmp = munich[munich.property_type == i]\n",
    "    tmp_mean = np.mean(tmp['max_price'])\n",
    "    tmp_std = np.std(tmp['max_price'])\n",
    "    tmp = tmp[tmp['max_price'] <= (tmp_mean + (2 * tmp_std))]\n",
    "    tmp = tmp[tmp['max_price'] >= (tmp_mean - (2 * tmp_std))]\n",
    "    res = pd.concat([res, tmp])\n",
    "prop_pre = res\n",
    "\n",
    "# Room Type\n",
    "room_types = munich['room_type'].unique()\n",
    "res = munich[munich.max_price < 0]\n",
    "for i in room_types:\n",
    "    tmp = prop_pre[prop_pre.room_type == i]\n",
    "    tmp_mean = np.mean(tmp['max_price'])\n",
    "    tmp_std = np.std(tmp['max_price'])\n",
    "    tmp = tmp[tmp['max_price'] <= (tmp_mean + (2 * tmp_std))]\n",
    "    tmp = tmp[tmp['max_price'] >= (tmp_mean - (2 * tmp_std))]\n",
    "    res = pd.concat([res, tmp])\n",
    "  \n",
    "# Train and evaluate SVM\n",
    "# Separate features and labels\n",
    "y = res['max_price']\n",
    "x = res.loc[:, munich.columns.intersection(['property_type',\n",
    "                                            'room_type',\n",
    "                                            'accommodates'\n",
    "])]\n",
    "\n",
    "# Transform features\n",
    "x['property_type'] = label_encoder.fit_transform(x['property_type'])\n",
    "x['room_type'] = label_encoder.fit_transform(x['room_type'])\n",
    "\n",
    "# Split dataset into training and test data\n",
    "xTrain, xTest, yTrain, yTest = train_test_split(x, y, test_size = 0.25, random_state = 0)\n",
    "print(\"start training now\")\n",
    "\n",
    "# Train support vector regressor\n",
    "regressor = SVR(kernel='rbf')\n",
    "regressor.fit(xTrain, yTrain)\n",
    "print(\"done training\")\n",
    "\n",
    "# Predict price for training data\n",
    "price_train_mean = np.mean(yTrain)\n",
    "price_pred = [0] * len(xTrain)\n",
    "count = -1\n",
    "for index, row in xTrain.iterrows():\n",
    "    count += 1\n",
    "    price_pred[count] = regressor.predict([[row[0], row[1], row[2]]])[0]\n",
    "rss = 0\n",
    "ess = 0\n",
    "count = -1\n",
    "for item in yTrain.iteritems():\n",
    "    count += 1\n",
    "    rss = rss + pow((price_pred[count] - item[1]), 2)\n",
    "    ess = ess + pow((item[1] - price_train_mean), 2)\n",
    "RMSE_train = sqrt(rss/count)\n",
    "r2_train = ess/(rss+ess)\n",
    "\n",
    "print(\"Training RMSE: \" + str(RMSE_train))\n",
    "print(\"Training R2: \" + str(r2_train))\n",
    "\n",
    "# Predict price for test data\n",
    "price_test_mean = np.mean(yTest)\n",
    "price_pred = [0] * len(xTest)\n",
    "count = -1\n",
    "for index, row in xTest.iterrows():\n",
    "    count += 1\n",
    "    price_pred[count] = regressor.predict([[row[0], row[1] , row[2]]])[0]\n",
    "rss = 0\n",
    "ess = 0\n",
    "count = -1\n",
    "for item in yTest.iteritems():\n",
    "    count += 1\n",
    "    rss = rss + pow((price_pred[count] - item[1]), 2)\n",
    "    ess = ess + pow((item[1] - price_test_mean), 2)\n",
    "RMSE_test = sqrt(rss/count)\n",
    "r2_test = ess/(rss+ess)\n",
    "\n",
    "print(\"Test RMSE: \" + str(RMSE_test))\n",
    "print(\"Test R2: \" + str(r2_test))"
   ]
  },
  {
   "cell_type": "markdown",
   "metadata": {},
   "source": [
    "## Compare different months"
   ]
  },
  {
   "cell_type": "code",
   "execution_count": null,
   "metadata": {},
   "outputs": [],
   "source": [
    "munich_09 = pd.read_csv('Data/listings_19_09.csv')\n",
    "munich_09['price'] = munich_09['price'].replace( '[\\$,)]','', regex=True ).astype(float)\n",
    "munich_08 = pd.read_csv('Data/listings_19_08.csv')\n",
    "munich_06 = pd.read_csv('Data/listings_19_06.csv')\n",
    "munich_05 = pd.read_csv('Data/listings_19_05.csv')"
   ]
  },
  {
   "cell_type": "code",
   "execution_count": null,
   "metadata": {},
   "outputs": [],
   "source": [
    "print('May')\n",
    "print('Median: ', munich_05['price'].median())\n",
    "print('Mean: ', munich_05['price'].mean())\n",
    "print()\n",
    "print('June')\n",
    "print('Median: ', munich_06['price'].median())\n",
    "print('Mean: ', munich_06['price'].mean())\n",
    "print()\n",
    "print('July')\n",
    "print('Median: ', munich['price'].median())\n",
    "print('Mean: ', munich['price'].mean())\n",
    "print()\n",
    "print('August')\n",
    "print('Median: ', munich_08['price'].median())\n",
    "print('Mean: ', munich_08['price'].mean())\n",
    "print()\n",
    "print('September')\n",
    "print('Median: ', munich_09['price'].median())\n",
    "print('Mean: ', munich_09['price'].mean())\n"
   ]
  },
  {
   "cell_type": "markdown",
   "metadata": {},
   "source": [
    "One can see that the average prices are quite stabile from May to August but increase a lot in September. This can be traced back to the Oktoberfest in Munich that takes place in September. We need to find a good solution for dealing with these variations. "
   ]
  }
 ],
 "metadata": {
  "kernelspec": {
   "display_name": "Python 3",
   "language": "python",
   "name": "python3"
  },
  "language_info": {
   "codemirror_mode": {
    "name": "ipython",
    "version": 3
   },
   "file_extension": ".py",
   "mimetype": "text/x-python",
   "name": "python",
   "nbconvert_exporter": "python",
   "pygments_lexer": "ipython3",
   "version": "3.7.3"
  }
 },
 "nbformat": 4,
 "nbformat_minor": 2
}
