{
 "cells": [
  {
   "cell_type": "markdown",
   "metadata": {},
   "source": [
    "# Predicting Airbnb Prices for Munich"
   ]
  },
  {
   "cell_type": "markdown",
   "metadata": {},
   "source": [
    "The goal of our data mining project is to predict prices for new Airbnb listings in Munich. To achieve this, we will train a regression model on existing Airbnb data from www.insideairbnb.com."
   ]
  },
  {
   "cell_type": "markdown",
   "metadata": {},
   "source": [
    "## Table of Contents\n",
    "##### [1 Preprocessing](#preprocessing)\n",
    "##### [2 Data Mining](#data_mining)\n",
    "##### [3 Interpretation and Evaluation](#interpretation_evaluation)"
   ]
  },
  {
   "cell_type": "markdown",
   "metadata": {},
   "source": [
    "<a id='preprocessing'></a>\n",
    "## 1 Preprocessing"
   ]
  },
  {
   "cell_type": "code",
   "execution_count": null,
   "metadata": {
    "scrolled": true
   },
   "outputs": [],
   "source": [
    "%run modules/preprocessing.py\n",
    "df = load_and_preprocess_dataset()\n",
    " \n",
    "features = df.drop('max_price', 1)\n",
    "normalized_features = pd.DataFrame(preprocessing.MinMaxScaler().fit_transform(features), columns=features.columns)\n",
    "\n",
    "label = df['max_price']"
   ]
  },
  {
   "cell_type": "markdown",
   "metadata": {},
   "source": [
    "<a id='data_mining'></a>\n",
    "## 2 Data Mining"
   ]
  },
  {
   "cell_type": "markdown",
   "metadata": {},
   "source": [
    "### 2.1 Evaluation of different Regression Approaches"
   ]
  },
  {
   "cell_type": "code",
   "execution_count": null,
   "metadata": {},
   "outputs": [],
   "source": [
    "from sklearn.linear_model import Ridge\n",
    "from sklearn.neighbors import KNeighborsRegressor\n",
    "from sklearn.tree import DecisionTreeRegressor\n",
    "from sklearn.neural_network import MLPRegressor\n",
    "from sklearn.model_selection import GridSearchCV\n",
    "from sklearn.feature_selection import RFECV\n",
    "from sklearn.preprocessing import StandardScaler\n",
    "from sklearn.linear_model import LinearRegression\n",
    "from sklearn.feature_selection import f_regression\n",
    "from sklearn.svm import SVR\n",
    "\n",
    "x_train, x_test, y_train, y_test = train_test_split(x_select, y, test_size = 0.2, random_state = 0)\n",
    "\n",
    "# test different regression approaches\n",
    "estimators = [ LinearRegression(), Ridge(), KNeighborsRegressor(), DecisionTreeRegressor(), MLPRegressor(), SVR() ]\n",
    "pipeline = Pipeline( [ ('preprocessing', StandardScaler()), ('estimator', None) ])\n",
    "\n",
    "# define a parameter grid\n",
    "parameters = {\n",
    "    'estimator': estimators\n",
    "}\n",
    "\n",
    "# define and run a grid search using MSE as scoring metric\n",
    "search = GridSearchCV(pipeline, parameters, cv=10, scoring='neg_mean_squared_error')\n",
    "search.fit(x_train, y_train)\n",
    "\n",
    "# evaluate on test set\n",
    "predictions = search.predict(x_test)\n",
    "mse = mean_squared_error(y_test, predictions)\n",
    "r2 = r2_score(y_test, predictions)\n",
    "\n",
    "print(\"Best Model: {}\".format(search.best_params_))\n",
    "print(\"RMSE: {}\".format(sqrt(mse)))\n",
    "print(\"R^2: {}\".format(r2))"
   ]
  },
  {
   "cell_type": "markdown",
   "metadata": {},
   "source": [
    "### 2.2 Evaluation of the Support Vector Machine"
   ]
  },
  {
   "cell_type": "code",
   "execution_count": 2,
   "metadata": {},
   "outputs": [
    {
     "name": "stdout",
     "output_type": "stream",
     "text": [
      "MAE= 49.54 , RMSE= 74.42 , R2= 0.001  -  ['room_type']\n",
      "MAE= 41.04 , RMSE= 61.68 , R2= 0.314  -  ['accommodates']\n",
      "MAE= 49.38 , RMSE= 72.06 , R2= 0.063  -  ['bedrooms']\n",
      "MAE= 46.81 , RMSE= 68.37 , R2= 0.157  -  ['beds']\n",
      "MAE= 50.61 , RMSE= 73.32 , R2= 0.03  -  ['max_people']\n",
      "MAE= 51.75 , RMSE= 76.74 , R2= -0.062  -  ['distance_centre']\n",
      "MAE= 40.82 , RMSE= 61.31 , R2= 0.322  -  ['room_type', 'accommodates']\n",
      "MAE= 46.61 , RMSE= 69.5 , R2= 0.129  -  ['room_type', 'bedrooms']\n",
      "MAE= 45.43 , RMSE= 67.05 , R2= 0.189  -  ['room_type', 'beds']\n",
      "MAE= 48.39 , RMSE= 71.1 , R2= 0.088  -  ['room_type', 'max_people']\n",
      "MAE= 49.3 , RMSE= 73.88 , R2= 0.015  -  ['room_type', 'distance_centre']\n",
      "MAE= 40.96 , RMSE= 61.62 , R2= 0.315  -  ['accommodates', 'bedrooms']\n",
      "MAE= 41.02 , RMSE= 61.67 , R2= 0.314  -  ['accommodates', 'beds']\n",
      "MAE= 41.13 , RMSE= 61.73 , R2= 0.313  -  ['accommodates', 'max_people']\n",
      "MAE= 40.51 , RMSE= 61.11 , R2= 0.326  -  ['accommodates', 'distance_centre']\n",
      "MAE= 46.17 , RMSE= 67.78 , R2= 0.171  -  ['bedrooms', 'beds']\n",
      "MAE= 48.64 , RMSE= 70.59 , R2= 0.101  -  ['bedrooms', 'max_people']\n",
      "MAE= 48.77 , RMSE= 71.53 , R2= 0.077  -  ['bedrooms', 'distance_centre']\n",
      "MAE= 46.87 , RMSE= 68.06 , R2= 0.164  -  ['beds', 'max_people']\n",
      "MAE= 46.08 , RMSE= 67.57 , R2= 0.176  -  ['beds', 'distance_centre']\n",
      "MAE= 50.09 , RMSE= 72.84 , R2= 0.043  -  ['max_people', 'distance_centre']\n",
      "MAE= 40.63 , RMSE= 61.39 , R2= 0.32  -  ['room_type', 'accommodates', 'bedrooms']\n",
      "MAE= 40.79 , RMSE= 61.33 , R2= 0.321  -  ['room_type', 'accommodates', 'beds']\n",
      "MAE= 40.86 , RMSE= 61.54 , R2= 0.317  -  ['room_type', 'accommodates', 'max_people']\n",
      "MAE= 40.32 , RMSE= 61.0 , R2= 0.329  -  ['room_type', 'accommodates', 'distance_centre']\n",
      "MAE= 44.6 , RMSE= 66.07 , R2= 0.212  -  ['room_type', 'bedrooms', 'beds']\n",
      "MAE= 46.21 , RMSE= 68.43 , R2= 0.155  -  ['room_type', 'bedrooms', 'max_people']\n",
      "MAE= 46.28 , RMSE= 69.14 , R2= 0.138  -  ['room_type', 'bedrooms', 'distance_centre']\n",
      "MAE= 45.36 , RMSE= 66.74 , R2= 0.196  -  ['room_type', 'beds', 'max_people']\n",
      "MAE= 44.91 , RMSE= 66.66 , R2= 0.198  -  ['room_type', 'beds', 'distance_centre']\n",
      "MAE= 48.15 , RMSE= 70.98 , R2= 0.091  -  ['room_type', 'max_people', 'distance_centre']\n",
      "MAE= 40.94 , RMSE= 61.63 , R2= 0.315  -  ['accommodates', 'bedrooms', 'beds']\n",
      "MAE= 41.05 , RMSE= 61.72 , R2= 0.313  -  ['accommodates', 'bedrooms', 'max_people']\n",
      "MAE= 40.4 , RMSE= 61.01 , R2= 0.329  -  ['accommodates', 'bedrooms', 'distance_centre']\n",
      "MAE= 41.13 , RMSE= 61.69 , R2= 0.314  -  ['accommodates', 'beds', 'max_people']\n",
      "MAE= 40.48 , RMSE= 61.06 , R2= 0.327  -  ['accommodates', 'beds', 'distance_centre']\n",
      "MAE= 40.57 , RMSE= 61.18 , R2= 0.325  -  ['accommodates', 'max_people', 'distance_centre']\n",
      "MAE= 46.31 , RMSE= 67.48 , R2= 0.179  -  ['bedrooms', 'beds', 'max_people']\n",
      "MAE= 45.41 , RMSE= 67.02 , R2= 0.19  -  ['bedrooms', 'beds', 'distance_centre']\n",
      "MAE= 48.04 , RMSE= 69.96 , R2= 0.117  -  ['bedrooms', 'max_people', 'distance_centre']\n",
      "MAE= 46.03 , RMSE= 67.26 , R2= 0.184  -  ['beds', 'max_people', 'distance_centre']\n",
      "MAE= 40.62 , RMSE= 61.38 , R2= 0.32  -  ['room_type', 'accommodates', 'bedrooms', 'beds']\n",
      "MAE= 40.72 , RMSE= 61.47 , R2= 0.318  -  ['room_type', 'accommodates', 'bedrooms', 'max_people']\n",
      "MAE= 40.14 , RMSE= 60.92 , R2= 0.33  -  ['room_type', 'accommodates', 'bedrooms', 'distance_centre']\n",
      "MAE= 40.85 , RMSE= 61.5 , R2= 0.318  -  ['room_type', 'accommodates', 'beds', 'max_people']\n",
      "MAE= 40.26 , RMSE= 60.93 , R2= 0.33  -  ['room_type', 'accommodates', 'beds', 'distance_centre']\n",
      "MAE= 40.36 , RMSE= 61.16 , R2= 0.325  -  ['room_type', 'accommodates', 'max_people', 'distance_centre']\n",
      "MAE= 44.63 , RMSE= 66.11 , R2= 0.212  -  ['room_type', 'bedrooms', 'beds', 'max_people']\n",
      "MAE= 44.1 , RMSE= 65.79 , R2= 0.219  -  ['room_type', 'bedrooms', 'beds', 'distance_centre']\n",
      "MAE= 45.91 , RMSE= 68.22 , R2= 0.16  -  ['room_type', 'bedrooms', 'max_people', 'distance_centre']\n",
      "MAE= 44.89 , RMSE= 66.3 , R2= 0.207  -  ['room_type', 'beds', 'max_people', 'distance_centre']\n",
      "MAE= 41.05 , RMSE= 61.72 , R2= 0.313  -  ['accommodates', 'bedrooms', 'beds', 'max_people']\n",
      "MAE= 40.38 , RMSE= 61.04 , R2= 0.328  -  ['accommodates', 'bedrooms', 'beds', 'distance_centre']\n",
      "MAE= 40.46 , RMSE= 61.15 , R2= 0.325  -  ['accommodates', 'bedrooms', 'max_people', 'distance_centre']\n",
      "MAE= 40.56 , RMSE= 61.08 , R2= 0.327  -  ['accommodates', 'beds', 'max_people', 'distance_centre']\n",
      "MAE= 45.41 , RMSE= 66.78 , R2= 0.196  -  ['bedrooms', 'beds', 'max_people', 'distance_centre']\n",
      "MAE= 40.72 , RMSE= 61.47 , R2= 0.318  -  ['room_type', 'accommodates', 'bedrooms', 'beds', 'max_people']\n",
      "MAE= 40.15 , RMSE= 60.85 , R2= 0.332  -  ['room_type', 'accommodates', 'bedrooms', 'beds', 'distance_centre']\n",
      "MAE= 40.21 , RMSE= 61.07 , R2= 0.327  -  ['room_type', 'accommodates', 'bedrooms', 'max_people', 'distance_centre']\n",
      "MAE= 40.32 , RMSE= 61.08 , R2= 0.327  -  ['room_type', 'accommodates', 'beds', 'max_people', 'distance_centre']\n",
      "MAE= 44.11 , RMSE= 65.69 , R2= 0.222  -  ['room_type', 'bedrooms', 'beds', 'max_people', 'distance_centre']\n",
      "MAE= 40.46 , RMSE= 61.11 , R2= 0.326  -  ['accommodates', 'bedrooms', 'beds', 'max_people', 'distance_centre']\n",
      "MAE= 40.2 , RMSE= 61.01 , R2= 0.329  -  ['room_type', 'accommodates', 'bedrooms', 'beds', 'max_people', 'distance_centre']\n",
      "Best:  0.3319757087012821\n"
     ]
    }
   ],
   "source": [
    "%run modules/evaluation.py\n",
    "\n",
    "from sklearn.model_selection import KFold\n",
    "from sklearn.model_selection import train_test_split\n",
    "from sklearn.svm import SVR\n",
    "\n",
    "best_r2 = 0\n",
    "\n",
    "# Generate all feature combinations\n",
    "feature_combinations = generate_feature_combinations(x)\n",
    "\n",
    "for feature_combination in feature_combinations:\n",
    "    \n",
    "    # Filter the selected features\n",
    "    selected_features = x[feature_combination]\n",
    "    \n",
    "    # k-fold cross-validation (k = 10)\n",
    "    scores = []\n",
    "    k_fold_cross_validation = KFold(10, True, 1)\n",
    "    for train_index, test_index in k_fold_cross_validation.split(selected_features):\n",
    "    \n",
    "        # Split the dataset for training and testing\n",
    "        x_train, x_test, y_train, y_test = selected_features.loc[train_index, :], selected_features.loc[test_index, :], y[train_index], y[test_index]\n",
    "\n",
    "        # Support Vector Regressor (SVR) using training dataset\n",
    "        svr = SVR(kernel='linear', C = 0.7)\n",
    "        svr.fit(x_train, y_train)\n",
    "\n",
    "        # Evaluation using testing dataset\n",
    "        scores.append(svr.score(x_test, y_test))  \n",
    "\n",
    "    # Calculate performance measures\n",
    "    print(np.mean(scores), \" - \", feature_combination)\n",
    "\n",
    "    # Save best model\n",
    "    if(np.mean(scores) > best_r2):\n",
    "          best_r2 = np.mean(scores)\n",
    "\n",
    "        \n",
    "print(\"Best: \", best_r2)"
   ]
  },
  {
   "cell_type": "markdown",
   "metadata": {},
   "source": [
    "<a id='interpretation_evaluation'></a>\n",
    "## 3 Interpretation and Evaluation"
   ]
  }
 ],
 "metadata": {
  "kernelspec": {
   "display_name": "Python 3",
   "language": "python",
   "name": "python3"
  },
  "language_info": {
   "codemirror_mode": {
    "name": "ipython",
    "version": 3
   },
   "file_extension": ".py",
   "mimetype": "text/x-python",
   "name": "python",
   "nbconvert_exporter": "python",
   "pygments_lexer": "ipython3",
   "version": "3.7.3"
  }
 },
 "nbformat": 4,
 "nbformat_minor": 2
}
