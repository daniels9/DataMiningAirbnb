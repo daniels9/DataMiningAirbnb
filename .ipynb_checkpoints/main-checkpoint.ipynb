{
 "cells": [
  {
   "cell_type": "markdown",
   "metadata": {},
   "source": [
    "# Predicting Airbnb Prices for Munich"
   ]
  },
  {
   "cell_type": "markdown",
   "metadata": {},
   "source": [
    "The goal of our data mining project is to predict prices for new Airbnb listings in Munich. To achieve this, we will train a regression model on existing Airbnb data from www.insideairbnb.com."
   ]
  },
  {
   "cell_type": "markdown",
   "metadata": {},
   "source": [
    "## Table of Contents\n",
    "##### [1 Preprocessing](#preprocessing)\n",
    "##### [2 Data Mining (Support Vector Machine)](#data_mining)\n",
    "##### [3 Interpretation and Evaluation](#interpretation_evaluation)"
   ]
  },
  {
   "cell_type": "markdown",
   "metadata": {},
   "source": [
    "<a id='preprocessing'></a>\n",
    "## 1 Preprocessing"
   ]
  },
  {
   "cell_type": "code",
   "execution_count": 19,
   "metadata": {
    "scrolled": true
   },
   "outputs": [
    {
     "name": "stdout",
     "output_type": "stream",
     "text": [
      "   latitude  longitude  accommodates  bathrooms  bedrooms  beds  bed_type  \\\n",
      "0  48.13057   11.56929             2        1.0       1.0   1.0         1   \n",
      "1  48.11476   11.48782             2        1.0       1.0   1.0         3   \n",
      "2  48.11923   11.63726             5        1.0       1.0   3.0         3   \n",
      "3  48.15198   11.56486             4        1.0       1.0   1.0         3   \n",
      "4  48.13898   11.46612             4        1.0       1.0   1.0         3   \n",
      "\n",
      "                                           amenities  \\\n",
      "0  {TV,\"Cable TV\",Internet,Wifi,Kitchen,Heating,W...   \n",
      "1  {TV,\"Cable TV\",Wifi,Kitchen,\"Free street parki...   \n",
      "2  {TV,\"Cable TV\",Internet,Wifi,Kitchen,\"Buzzer/w...   \n",
      "3  {TV,\"Cable TV\",Wifi,Kitchen,\"Pets allowed\",Bre...   \n",
      "4  {TV,\"Cable TV\",Internet,Wifi,Kitchen,\"Smoking ...   \n",
      "\n",
      "   ludwigsvorstadt-isarvorstadt  hadern  ...  feldmoching-hasenbergl  \\\n",
      "0                             1       0  ...                       0   \n",
      "1                             0       1  ...                       0   \n",
      "2                             0       0  ...                       0   \n",
      "3                             0       0  ...                       0   \n",
      "4                             0       0  ...                       0   \n",
      "\n",
      "   thalkirchen-obersendling-forstenried-fürstenried-solln  \\\n",
      "0                                                  0        \n",
      "1                                                  0        \n",
      "2                                                  0        \n",
      "3                                                  0        \n",
      "4                                                  0        \n",
      "\n",
      "   milbertshofen-am hart  obergiesing  altstadt-lehel  laim  \\\n",
      "0                      0            0               0     0   \n",
      "1                      0            0               0     0   \n",
      "2                      0            0               0     1   \n",
      "3                      0            0               0     0   \n",
      "4                      0            0               0     0   \n",
      "\n",
      "   aubing-lochhausen-langwied  moosach  allach-untermenzing  max_price  \n",
      "0                           0        0                    0      125.0  \n",
      "1                           0        0                    0       90.0  \n",
      "2                           0        0                    0      235.0  \n",
      "3                           0        0                    0      120.0  \n",
      "4                           0        0                    0      205.0  \n",
      "\n",
      "[5 rows x 34 columns]\n"
     ]
    },
    {
     "ename": "NameError",
     "evalue": "name 'x' is not defined",
     "output_type": "error",
     "traceback": [
      "\u001b[1;31m---------------------------------------------------------------------------\u001b[0m",
      "\u001b[1;31mNameError\u001b[0m                                 Traceback (most recent call last)",
      "\u001b[1;32m<ipython-input-19-7ba7382c57b6>\u001b[0m in \u001b[0;36m<module>\u001b[1;34m\u001b[0m\n\u001b[0;32m     10\u001b[0m \u001b[1;33m\u001b[0m\u001b[0m\n\u001b[0;32m     11\u001b[0m \u001b[1;31m# Normalize the features\u001b[0m\u001b[1;33m\u001b[0m\u001b[1;33m\u001b[0m\u001b[1;33m\u001b[0m\u001b[0m\n\u001b[1;32m---> 12\u001b[1;33m \u001b[0mX_norm\u001b[0m \u001b[1;33m=\u001b[0m \u001b[0mpd\u001b[0m\u001b[1;33m.\u001b[0m\u001b[0mDataFrame\u001b[0m\u001b[1;33m(\u001b[0m\u001b[0mpreprocessing\u001b[0m\u001b[1;33m.\u001b[0m\u001b[0mMinMaxScaler\u001b[0m\u001b[1;33m(\u001b[0m\u001b[1;33m)\u001b[0m\u001b[1;33m.\u001b[0m\u001b[0mfit_transform\u001b[0m\u001b[1;33m(\u001b[0m\u001b[0mx\u001b[0m\u001b[1;33m)\u001b[0m\u001b[1;33m,\u001b[0m \u001b[0mcolumns\u001b[0m\u001b[1;33m=\u001b[0m\u001b[0mx\u001b[0m\u001b[1;33m.\u001b[0m\u001b[0mcolumns\u001b[0m\u001b[1;33m)\u001b[0m\u001b[1;33m\u001b[0m\u001b[1;33m\u001b[0m\u001b[0m\n\u001b[0m\u001b[0;32m     13\u001b[0m \u001b[1;33m\u001b[0m\u001b[0m\n\u001b[0;32m     14\u001b[0m \u001b[1;33m\u001b[0m\u001b[0m\n",
      "\u001b[1;31mNameError\u001b[0m: name 'x' is not defined"
     ]
    }
   ],
   "source": [
    "%run modules/preprocessing.py\n",
    "\n",
    "# Load the preprocessed data\n",
    "df = load_and_preprocess_dataset()\n",
    "print(df.head())\n",
    "\n",
    "# Split the label from the features\n",
    "X = df.drop('max_price', axis=1)\n",
    "Y = df['max_price']\n",
    "\n",
    "# Normalize the features\n",
    "X_norm = pd.DataFrame(preprocessing.MinMaxScaler().fit_transform(x), columns=X.columns)\n",
    "\n",
    "\n",
    "# Split the dataset into Training and Test data\n",
    "xTrain, xTest, yTrain, yTest = train_test_split(X_norm, Y, test_size = 0.2, random_state = 0)\n",
    "\n",
    "\n",
    "#outlier detection on xTrain and yTrain\n",
    "price_std = np.std(yTrain)\n",
    "price_mean = np.mean(yTrain)\n",
    "print(\"Listings that qualify as outliers (using Standard Deviation):\")\n",
    "print(yTrain[yTrain > (price_mean + (3*price_std))].count())\n",
    "print()\n",
    "\n",
    "\n",
    "#collect index of all listings that qualify as outliers\n",
    "index_list = []\n",
    "\n",
    "for index, value in yTrain.iteritems():\n",
    "    if value > (price_mean + (3*price_std)):  \n",
    "        index_list.append(index)\n",
    "          \n",
    "#delete outlier listings from xTrain and yTrain\n",
    "yTrain = yTrain.drop(index_list)\n",
    "xTrain = xTrain.drop(index_list)\n",
    "print(xTrain.info())\n",
    "print(yTrain.describe())"
   ]
  },
  {
   "cell_type": "markdown",
   "metadata": {},
   "source": [
    "<a id='data_mining'></a>\n",
    "## 2 Data Mining (Support Vector Machine)"
   ]
  },
  {
   "cell_type": "markdown",
   "metadata": {},
   "source": [
    "<a id='interpretation_evaluation'></a>\n",
    "## 3 Interpretation and Evaluation"
   ]
  }
 ],
 "metadata": {
  "kernelspec": {
   "display_name": "Python 3",
   "language": "python",
   "name": "python3"
  },
  "language_info": {
   "codemirror_mode": {
    "name": "ipython",
    "version": 3
   },
   "file_extension": ".py",
   "mimetype": "text/x-python",
   "name": "python",
   "nbconvert_exporter": "python",
   "pygments_lexer": "ipython3",
   "version": "3.7.3"
  }
 },
 "nbformat": 4,
 "nbformat_minor": 2
}
