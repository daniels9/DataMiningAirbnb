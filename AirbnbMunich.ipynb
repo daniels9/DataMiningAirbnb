{
 "cells": [
  {
   "cell_type": "markdown",
   "metadata": {},
   "source": [
    "## Timeline\n",
    "**Start of Project:** 04.11.2019 \n",
    "**Submission of Project Results:** 27.11.2019\n",
    "\n",
    "**Phases:** \n",
    "1. Week (06.11 - 12.11): Preprocessing \n",
    "2. Week (13.11 - 19.11): Iterate & Evaluate the Models \n",
    "3. Week (20.11 - 26.11): Writing the Report"
   ]
  },
  {
   "cell_type": "markdown",
   "metadata": {},
   "source": [
    "## Responsibilities\n",
    "- Liste mit Begründungen für Auswahl der Feature (Feature | Begründung) - Jannik\n",
    "- Preprocessing: \n",
    "  - Neighbourhood_cleansed (One-hot) (& PLZ Gibt es genug Beispiele prüfen?)- Daniel \n",
    "  - Property_type (One-hot) - Jannik \n",
    "  - Room_type (One-hot) - Jannik\n",
    "  - Accomodates - Caro\n",
    "  - Bathrooms (Maybe) - Caro\n",
    "  - Bedrooms - Fritz\n",
    "  - Amenities - Jakob\n",
    "  - Beds - Fritz\n",
    "  - Bed_type (One-hot) - Fritz\n",
    "\n",
    "- Juli Datensatz fürs Preprocessing"
   ]
  },
  {
   "cell_type": "markdown",
   "metadata": {},
   "source": [
    "# Airbnb Price Prediction"
   ]
  },
  {
   "cell_type": "markdown",
   "metadata": {},
   "source": [
    "## Goal\n",
    "The goal of our data mining project is to predict prices for new Airbnb listings in Munich. To achieve this, we will train a regression model on existing Airbnb data from www.insideairbnb.com."
   ]
  },
  {
   "cell_type": "markdown",
   "metadata": {},
   "source": [
    "## Import libraries"
   ]
  },
  {
   "cell_type": "code",
   "execution_count": 56,
   "metadata": {},
   "outputs": [],
   "source": [
    "import pandas as pd\n",
    "import matplotlib.pyplot as plt\n",
    "from sklearn.model_selection import train_test_split\n",
    "from sklearn.linear_model import LinearRegression\n",
    "from sklearn.linear_model import LinearRegression\n",
    "from sklearn.preprocessing import PolynomialFeatures\n",
    "from sklearn.pipeline import Pipeline\n",
    "from sklearn.metrics import mean_squared_error, r2_score\n",
    "from sklearn import preprocessing\n",
    "from math import sqrt\n",
    "from sklearn.feature_selection import f_regression\n",
    "from sklearn.feature_selection import SelectKBest, SelectFwe\n",
    "from collections import Counter\n",
    "import seaborn as sns\n",
    "import numpy as np\n",
    "#import geopandas as gpd #requires install via conda/pip\n",
    "#import geoplot as glt #requires install via conda/pip\n",
    "#from shapely.geometry import Point, polygon\n",
    "\n"
   ]
  },
  {
   "cell_type": "markdown",
   "metadata": {},
   "source": [
    "## Load the data"
   ]
  },
  {
   "cell_type": "code",
   "execution_count": 57,
   "metadata": {},
   "outputs": [
    {
     "name": "stderr",
     "output_type": "stream",
     "text": [
      "C:\\Users\\fn8j\\Anaconda3\\lib\\site-packages\\IPython\\core\\interactiveshell.py:3057: DtypeWarning: Columns (43,61,62,94) have mixed types. Specify dtype option on import or set low_memory=False.\n",
      "  interactivity=interactivity, compiler=compiler, result=result)\n"
     ]
    }
   ],
   "source": [
    "#Load dataset\n",
    "munich = pd.read_csv('Data/listings_Munich_July.csv')\n",
    "#Create copy of dataset with original values\n",
    "munich_initialcopy = munich.copy()"
   ]
  },
  {
   "cell_type": "code",
   "execution_count": 58,
   "metadata": {},
   "outputs": [],
   "source": [
    "# drop all colums except the ones that we are using \n",
    "munich = munich.loc[:, munich.columns.intersection(['neighbourhood_cleansed', 'property_type', \n",
    "                                                    'room_type', 'accommodates', 'bathrooms', 'bedrooms',\n",
    "                                                    'beds', 'bed_type', 'price', 'amenities', \n",
    "                                                    'extra_people','guests_included', 'longitude', 'latitude'])]"
   ]
  },
  {
   "cell_type": "markdown",
   "metadata": {},
   "source": [
    "## Understand & Preprocess the data"
   ]
  },
  {
   "cell_type": "code",
   "execution_count": 59,
   "metadata": {
    "scrolled": true
   },
   "outputs": [
    {
     "data": {
      "text/plain": [
       "['id',\n",
       " 'listing_url',\n",
       " 'scrape_id',\n",
       " 'last_scraped',\n",
       " 'name',\n",
       " 'summary',\n",
       " 'space',\n",
       " 'description',\n",
       " 'experiences_offered',\n",
       " 'neighborhood_overview',\n",
       " 'notes',\n",
       " 'transit',\n",
       " 'access',\n",
       " 'interaction',\n",
       " 'house_rules',\n",
       " 'thumbnail_url',\n",
       " 'medium_url',\n",
       " 'picture_url',\n",
       " 'xl_picture_url',\n",
       " 'host_id',\n",
       " 'host_url',\n",
       " 'host_name',\n",
       " 'host_since',\n",
       " 'host_location',\n",
       " 'host_about',\n",
       " 'host_response_time',\n",
       " 'host_response_rate',\n",
       " 'host_acceptance_rate',\n",
       " 'host_is_superhost',\n",
       " 'host_thumbnail_url',\n",
       " 'host_picture_url',\n",
       " 'host_neighbourhood',\n",
       " 'host_listings_count',\n",
       " 'host_total_listings_count',\n",
       " 'host_verifications',\n",
       " 'host_has_profile_pic',\n",
       " 'host_identity_verified',\n",
       " 'street',\n",
       " 'neighbourhood',\n",
       " 'neighbourhood_cleansed',\n",
       " 'neighbourhood_group_cleansed',\n",
       " 'city',\n",
       " 'state',\n",
       " 'zipcode',\n",
       " 'market',\n",
       " 'smart_location',\n",
       " 'country_code',\n",
       " 'country',\n",
       " 'latitude',\n",
       " 'longitude',\n",
       " 'is_location_exact',\n",
       " 'property_type',\n",
       " 'room_type',\n",
       " 'accommodates',\n",
       " 'bathrooms',\n",
       " 'bedrooms',\n",
       " 'beds',\n",
       " 'bed_type',\n",
       " 'amenities',\n",
       " 'square_feet',\n",
       " 'price',\n",
       " 'weekly_price',\n",
       " 'monthly_price',\n",
       " 'security_deposit',\n",
       " 'cleaning_fee',\n",
       " 'guests_included',\n",
       " 'extra_people',\n",
       " 'minimum_nights',\n",
       " 'maximum_nights',\n",
       " 'minimum_minimum_nights',\n",
       " 'maximum_minimum_nights',\n",
       " 'minimum_maximum_nights',\n",
       " 'maximum_maximum_nights',\n",
       " 'minimum_nights_avg_ntm',\n",
       " 'maximum_nights_avg_ntm',\n",
       " 'calendar_updated',\n",
       " 'has_availability',\n",
       " 'availability_30',\n",
       " 'availability_60',\n",
       " 'availability_90',\n",
       " 'availability_365',\n",
       " 'calendar_last_scraped',\n",
       " 'number_of_reviews',\n",
       " 'number_of_reviews_ltm',\n",
       " 'first_review',\n",
       " 'last_review',\n",
       " 'review_scores_rating',\n",
       " 'review_scores_accuracy',\n",
       " 'review_scores_cleanliness',\n",
       " 'review_scores_checkin',\n",
       " 'review_scores_communication',\n",
       " 'review_scores_location',\n",
       " 'review_scores_value',\n",
       " 'requires_license',\n",
       " 'license',\n",
       " 'jurisdiction_names',\n",
       " 'instant_bookable',\n",
       " 'is_business_travel_ready',\n",
       " 'cancellation_policy',\n",
       " 'require_guest_profile_picture',\n",
       " 'require_guest_phone_verification',\n",
       " 'calculated_host_listings_count',\n",
       " 'calculated_host_listings_count_entire_homes',\n",
       " 'calculated_host_listings_count_private_rooms',\n",
       " 'calculated_host_listings_count_shared_rooms',\n",
       " 'reviews_per_month']"
      ]
     },
     "execution_count": 59,
     "metadata": {},
     "output_type": "execute_result"
    }
   ],
   "source": [
    "munich_initialcopy\n",
    "#get list of columnnames\n",
    "list(munich_initialcopy.columns.values)"
   ]
  },
  {
   "cell_type": "markdown",
   "metadata": {},
   "source": [
    "### Neighbourhoods "
   ]
  },
  {
   "cell_type": "code",
   "execution_count": 60,
   "metadata": {},
   "outputs": [
    {
     "name": "stdout",
     "output_type": "stream",
     "text": [
      "Ludwigsvorstadt-Isarvorstadt                              1077\n",
      "Maxvorstadt                                               1000\n",
      "Schwabing-West                                             735\n",
      "Neuhausen-Nymphenburg                                      702\n",
      "Au-Haidhausen                                              686\n",
      "Schwabing-Freimann                                         589\n",
      "Bogenhausen                                                471\n",
      "Milbertshofen-Am Hart                                      428\n",
      "Sendling                                                   427\n",
      "Schwanthalerhöhe                                           409\n",
      "Ramersdorf-Perlach                                         368\n",
      "Sendling-Westpark                                          361\n",
      "Thalkirchen-Obersendling-Forstenried-Fürstenried-Solln     359\n",
      "Laim                                                       353\n",
      "Obergiesing                                                346\n",
      "Untergiesing-Harlaching                                    339\n",
      "Altstadt-Lehel                                             330\n",
      "Tudering-Riem                                              278\n",
      "Pasing-Obermenzing                                         212\n",
      "Berg am Laim                                               211\n",
      "Moosach                                                    193\n",
      "Hadern                                                     124\n",
      "Feldmoching-Hasenbergl                                      97\n",
      "Aubing-Lochhausen-Langwied                                  82\n",
      "Allach-Untermenzing                                         61\n",
      "Name: neighbourhood_cleansed, dtype: int64\n"
     ]
    }
   ],
   "source": [
    "## show amount of entries per neighbourhood\n",
    "# understand feature neighbourhoods_cleansed\n",
    "print(munich['neighbourhood_cleansed'].value_counts())"
   ]
  },
  {
   "cell_type": "code",
   "execution_count": 61,
   "metadata": {},
   "outputs": [
    {
     "name": "stdout",
     "output_type": "stream",
     "text": [
      "80469           418\n",
      "80339           342\n",
      "80337           329\n",
      "81541           272\n",
      "80333           217\n",
      "80636           205\n",
      "81373           199\n",
      "80799           196\n",
      "80798           192\n",
      "81371           192\n",
      "80336           181\n",
      "80796           179\n",
      "81667           174\n",
      "81543           173\n",
      "80687           173\n",
      "80809           166\n",
      "80335           163\n",
      "80797           162\n",
      "80807           155\n",
      "80634           152\n",
      "81369           152\n",
      "81539           151\n",
      "81379           149\n",
      "80804           142\n",
      "81669           118\n",
      "80637           114\n",
      "80538           113\n",
      "80802           112\n",
      "81677           106\n",
      "80803           100\n",
      "               ... \n",
      "80995.0          10\n",
      "80937.0          10\n",
      "80539.0           9\n",
      "80638.0           9\n",
      "81249.0           9\n",
      "81735.0           9\n",
      "81545.0           9\n",
      "81243.0           8\n",
      "80999.0           5\n",
      "81475.0           5\n",
      "85540             4\n",
      "80933.0           3\n",
      "82049.0           2\n",
      "85757             2\n",
      "80799\\n80799      1\n",
      "12459             1\n",
      "81823             1\n",
      "München           1\n",
      "80679.0           1\n",
      "80369             1\n",
      "84371             1\n",
      "97014             1\n",
      "80987             1\n",
      "82049             1\n",
      "82166.0           1\n",
      "85540.0           1\n",
      "812371.0          1\n",
      "85774             1\n",
      "81664             1\n",
      "85579.0           1\n",
      "Name: zipcode, Length: 167, dtype: int64\n"
     ]
    }
   ],
   "source": [
    "## show amount of entries per zipcode\n",
    "print(munich_initialcopy['zipcode'].value_counts())"
   ]
  },
  {
   "cell_type": "code",
   "execution_count": 62,
   "metadata": {},
   "outputs": [],
   "source": [
    "## show zipcodes per neighbourhood\n",
    "# tbd\n",
    "\n",
    "#one-hot encoding\n"
   ]
  },
  {
   "cell_type": "markdown",
   "metadata": {},
   "source": [
    "### Price"
   ]
  },
  {
   "cell_type": "code",
   "execution_count": 63,
   "metadata": {},
   "outputs": [
    {
     "data": {
      "image/png": "[encoded data removed]",
      "text/plain": [
       "<Figure size 432x288 with 1 Axes>"
      ]
     },
     "metadata": {
      "needs_background": "light"
     },
     "output_type": "display_data"
    }
   ],
   "source": [
    "# convert column price to float values without leading $ sign\n",
    "munich['price'] = munich['price'].replace( '[\\$,)]','', regex=True ).astype(float)\n",
    "\n",
    "#examine distribution\n",
    "sns.distplot(munich['price'])\n",
    "plt.show()\n",
    "\n"
   ]
  },
  {
   "cell_type": "markdown",
   "metadata": {},
   "source": [
    "Since the feature 'price' describes a standard price of the appartment and is determined by the host himself, it can include the fee for an arbitrary number of people. The number of people included in the 'price' feature is described in the feature 'guests_included'. For every additional guest that is going to stay in the appartment, an additional fee is raised. This fee is described in the feature 'extra_people'. Because the standard price can differ a lot depending on the guests included, we decided to compute a feature 'max_price' which describes the maximum price one has to pay if all possible accommodates would stay in the appartment."
   ]
  },
  {
   "cell_type": "code",
   "execution_count": 64,
   "metadata": {},
   "outputs": [
    {
     "name": "stdout",
     "output_type": "stream",
     "text": [
      "count    10238.000000\n",
      "mean       130.870189\n",
      "std        144.640601\n",
      "min          8.000000\n",
      "25%         60.000000\n",
      "50%         94.000000\n",
      "75%        150.000000\n",
      "max       5000.000000\n",
      "Name: max_price, dtype: float64\n",
      "\n",
      "count    10238.000000\n",
      "mean       109.059094\n",
      "std        123.248284\n",
      "min          8.000000\n",
      "25%         50.000000\n",
      "50%         80.000000\n",
      "75%        120.000000\n",
      "max       5000.000000\n",
      "Name: price, dtype: float64\n"
     ]
    }
   ],
   "source": [
    "# convert column extra people to float values without leading $ sign\n",
    "munich['extra_people'] = munich['extra_people'].replace( '[\\$,)]','', regex=True ).astype(float)\n",
    "\n",
    "#create variable accounting for maximium price of each listing\n",
    "for i, row in munich.iterrows():\n",
    "    if row.guests_included < row.accommodates:\n",
    "        munich.loc[i, 'max_price'] = row.price + (row.accommodates - row.guests_included) * row.extra_people\n",
    "    else:\n",
    "        munich.loc[i, 'max_price'] = row.price\n",
    "            \n",
    "print(munich['max_price'].describe())\n",
    "print()\n",
    "print(munich['price'].describe())   \n",
    "\n",
    "munich = munich.drop(columns = ['guests_included', 'extra_people'])                                     "
   ]
  },
  {
   "cell_type": "markdown",
   "metadata": {},
   "source": [
    "The prices of 167 listings are more than 3 Standard Deviations above the mean. Therefore, these data points are excluded. Afterwards, the distribution more closely resembles a normal distribution. "
   ]
  },
  {
   "cell_type": "code",
   "execution_count": 65,
   "metadata": {},
   "outputs": [
    {
     "data": {
      "image/png": "[encoded data removed]",
      "text/plain": [
       "<Figure size 1080x1080 with 1 Axes>"
      ]
     },
     "metadata": {
      "needs_background": "light"
     },
     "output_type": "display_data"
    }
   ],
   "source": [
    "#Visualizing\n",
    "\n",
    "fig,ax = plt.subplots(figsize = (15, 15), )\n",
    "sns.boxplot(x = munich['neighbourhood_cleansed'], y = munich['price'], ax=ax)\n",
    "plt.xticks(rotation=90)\n",
    "plt.xlabel('Neighbourhoods')\n",
    "plt.ylabel('Price in $')\n",
    "plt.title('Listing Prices in different Neighbourhoods')\n",
    "plt.show()"
   ]
  },
  {
   "cell_type": "code",
   "execution_count": 11,
   "metadata": {},
   "outputs": [
    {
     "ename": "NameError",
     "evalue": "name 'gpd' is not defined",
     "output_type": "error",
     "traceback": [
      "\u001b[1;31m---------------------------------------------------------------------------\u001b[0m",
      "\u001b[1;31mNameError\u001b[0m                                 Traceback (most recent call last)",
      "\u001b[1;32m<ipython-input-11-cf18d30a902f>\u001b[0m in \u001b[0;36m<module>\u001b[1;34m\u001b[0m\n\u001b[0;32m      1\u001b[0m \u001b[1;31m#read shapefile of Bavaria\\n\",\u001b[0m\u001b[1;33m\u001b[0m\u001b[1;33m\u001b[0m\u001b[1;33m\u001b[0m\u001b[0m\n\u001b[0;32m      2\u001b[0m \u001b[0mmunich_sh\u001b[0m \u001b[1;33m=\u001b[0m \u001b[1;34m'Data//Geodata/gmd_ex.shp'\u001b[0m\u001b[1;33m\u001b[0m\u001b[1;33m\u001b[0m\u001b[0m\n\u001b[1;32m----> 3\u001b[1;33m \u001b[0mmap_df\u001b[0m \u001b[1;33m=\u001b[0m \u001b[0mgpd\u001b[0m\u001b[1;33m.\u001b[0m\u001b[0mread_file\u001b[0m\u001b[1;33m(\u001b[0m\u001b[0mmunich_sh\u001b[0m\u001b[1;33m)\u001b[0m\u001b[1;33m\u001b[0m\u001b[1;33m\u001b[0m\u001b[0m\n\u001b[0m\u001b[0;32m      4\u001b[0m \u001b[1;33m\u001b[0m\u001b[0m\n\u001b[0;32m      5\u001b[0m \u001b[1;31m#Create point for every listing\u001b[0m\u001b[1;33m\u001b[0m\u001b[1;33m\u001b[0m\u001b[1;33m\u001b[0m\u001b[0m\n",
      "\u001b[1;31mNameError\u001b[0m: name 'gpd' is not defined"
     ]
    }
   ],
   "source": [
    "#read shapefile of Bavaria\\n\",\n",
    "munich_sh = 'Data//Geodata/gmd_ex.shp'\n",
    "map_df = gpd.read_file(munich_sh)\n",
    "\n",
    "#Create point for every listing\n",
    "geometry = [Point(xy) for xy in zip (munich['longitude'], munich['latitude'])]\n",
    "munich = munich.drop(columns = ['longitude', 'latitude'])\n",
    "crs = {'init': 'epsg:4326'} # crs-data tells geopandas how the data relate to points in the real worlds (e.g. latitude and longitude)\n",
    "map_df = map_df.to_crs(epsg=4326) #convert given shapefile to latitude and longitude-crs\n",
    "\n",
    "#create Geo-DataFrame with Points and Prices for each listing\n",
    "geo_df = gpd.GeoDataFrame(munich['price'], crs = crs, geometry = geometry)\n",
    "\n",
    "#compute distance to Marienplatz as a proxy for the city centre\n",
    "geo_df['distance_centre'] = geo_df.distance(Point(11.576006, 48.137079))\n",
    "\n",
    "#add feature to DataFrame and create a Geopandas-object for plotting\n",
    "munich['distance_centre'] = geo_df['distance_centre']\n",
    "point_marienplatz = gpd.GeoSeries(Point(11.576006, 48.137079),crs=crs)\n",
    "\n",
    "#plot the data\n",
    "ax = map_df[(map_df['BEZ_GEM'] == 'MÃ¼nchen')].plot(figsize=(20, 10), alpha=0.7, color = 'grey')\n",
    "plt.title('Listing Prices (in $) in Munich', fontsize=30)\n",
    "glt.pointplot(geo_df, ax=ax, hue=munich['price'], legend=True, legend_kwargs={'orientation': 'horizontal'})\n",
    "#glt.pointplot(geo_df, ax=ax, hue=munich['distance_centre'], legend=True, legend_kwargs={'orientation': 'horizontal'})\n",
    "point_marienplatz.plot(ax=ax, markersize= 60,  color = 'red') #plot location of the Marienplatz\n",
    "\n",
    "\n"
   ]
  },
  {
   "cell_type": "code",
   "execution_count": 12,
   "metadata": {},
   "outputs": [
    {
     "ename": "KeyError",
     "evalue": "'distance_centre'",
     "output_type": "error",
     "traceback": [
      "\u001b[1;31m---------------------------------------------------------------------------\u001b[0m",
      "\u001b[1;31mKeyError\u001b[0m                                  Traceback (most recent call last)",
      "\u001b[1;32m~\\Anaconda3\\lib\\site-packages\\pandas\\core\\indexes\\base.py\u001b[0m in \u001b[0;36mget_loc\u001b[1;34m(self, key, method, tolerance)\u001b[0m\n\u001b[0;32m   2656\u001b[0m             \u001b[1;32mtry\u001b[0m\u001b[1;33m:\u001b[0m\u001b[1;33m\u001b[0m\u001b[1;33m\u001b[0m\u001b[0m\n\u001b[1;32m-> 2657\u001b[1;33m                 \u001b[1;32mreturn\u001b[0m \u001b[0mself\u001b[0m\u001b[1;33m.\u001b[0m\u001b[0m_engine\u001b[0m\u001b[1;33m.\u001b[0m\u001b[0mget_loc\u001b[0m\u001b[1;33m(\u001b[0m\u001b[0mkey\u001b[0m\u001b[1;33m)\u001b[0m\u001b[1;33m\u001b[0m\u001b[1;33m\u001b[0m\u001b[0m\n\u001b[0m\u001b[0;32m   2658\u001b[0m             \u001b[1;32mexcept\u001b[0m \u001b[0mKeyError\u001b[0m\u001b[1;33m:\u001b[0m\u001b[1;33m\u001b[0m\u001b[1;33m\u001b[0m\u001b[0m\n",
      "\u001b[1;32mpandas/_libs/index.pyx\u001b[0m in \u001b[0;36mpandas._libs.index.IndexEngine.get_loc\u001b[1;34m()\u001b[0m\n",
      "\u001b[1;32mpandas/_libs/index.pyx\u001b[0m in \u001b[0;36mpandas._libs.index.IndexEngine.get_loc\u001b[1;34m()\u001b[0m\n",
      "\u001b[1;32mpandas/_libs/hashtable_class_helper.pxi\u001b[0m in \u001b[0;36mpandas._libs.hashtable.PyObjectHashTable.get_item\u001b[1;34m()\u001b[0m\n",
      "\u001b[1;32mpandas/_libs/hashtable_class_helper.pxi\u001b[0m in \u001b[0;36mpandas._libs.hashtable.PyObjectHashTable.get_item\u001b[1;34m()\u001b[0m\n",
      "\u001b[1;31mKeyError\u001b[0m: 'distance_centre'",
      "\nDuring handling of the above exception, another exception occurred:\n",
      "\u001b[1;31mKeyError\u001b[0m                                  Traceback (most recent call last)",
      "\u001b[1;32m<ipython-input-12-d637885c9e29>\u001b[0m in \u001b[0;36m<module>\u001b[1;34m\u001b[0m\n\u001b[0;32m      1\u001b[0m \u001b[1;31m#discretise distance_centre\u001b[0m\u001b[1;33m\u001b[0m\u001b[1;33m\u001b[0m\u001b[1;33m\u001b[0m\u001b[0m\n\u001b[0;32m      2\u001b[0m \u001b[0mdiscretiser\u001b[0m \u001b[1;33m=\u001b[0m \u001b[0mpreprocessing\u001b[0m\u001b[1;33m.\u001b[0m\u001b[0mKBinsDiscretizer\u001b[0m\u001b[1;33m(\u001b[0m\u001b[0mn_bins\u001b[0m\u001b[1;33m=\u001b[0m\u001b[1;36m5\u001b[0m\u001b[1;33m,\u001b[0m \u001b[0mencode\u001b[0m\u001b[1;33m=\u001b[0m\u001b[1;34m'ordinal'\u001b[0m\u001b[1;33m)\u001b[0m\u001b[1;33m\u001b[0m\u001b[1;33m\u001b[0m\u001b[0m\n\u001b[1;32m----> 3\u001b[1;33m \u001b[0mmunich\u001b[0m\u001b[1;33m[\u001b[0m\u001b[1;34m'distance_centre'\u001b[0m\u001b[1;33m]\u001b[0m \u001b[1;33m=\u001b[0m \u001b[0mdiscretiser\u001b[0m\u001b[1;33m.\u001b[0m\u001b[0mfit_transform\u001b[0m\u001b[1;33m(\u001b[0m\u001b[0mmunich\u001b[0m\u001b[1;33m[\u001b[0m\u001b[1;34m'distance_centre'\u001b[0m\u001b[1;33m]\u001b[0m\u001b[1;33m.\u001b[0m\u001b[0mvalues\u001b[0m\u001b[1;33m.\u001b[0m\u001b[0mreshape\u001b[0m\u001b[1;33m(\u001b[0m\u001b[1;33m-\u001b[0m\u001b[1;36m1\u001b[0m\u001b[1;33m,\u001b[0m \u001b[1;36m1\u001b[0m\u001b[1;33m)\u001b[0m\u001b[1;33m)\u001b[0m\u001b[1;33m\u001b[0m\u001b[1;33m\u001b[0m\u001b[0m\n\u001b[0m\u001b[0;32m      4\u001b[0m \u001b[1;33m\u001b[0m\u001b[0m\n\u001b[0;32m      5\u001b[0m \u001b[1;31m#plot relationship between price and distance to city centre\u001b[0m\u001b[1;33m\u001b[0m\u001b[1;33m\u001b[0m\u001b[1;33m\u001b[0m\u001b[0m\n",
      "\u001b[1;32m~\\Anaconda3\\lib\\site-packages\\pandas\\core\\frame.py\u001b[0m in \u001b[0;36m__getitem__\u001b[1;34m(self, key)\u001b[0m\n\u001b[0;32m   2925\u001b[0m             \u001b[1;32mif\u001b[0m \u001b[0mself\u001b[0m\u001b[1;33m.\u001b[0m\u001b[0mcolumns\u001b[0m\u001b[1;33m.\u001b[0m\u001b[0mnlevels\u001b[0m \u001b[1;33m>\u001b[0m \u001b[1;36m1\u001b[0m\u001b[1;33m:\u001b[0m\u001b[1;33m\u001b[0m\u001b[1;33m\u001b[0m\u001b[0m\n\u001b[0;32m   2926\u001b[0m                 \u001b[1;32mreturn\u001b[0m \u001b[0mself\u001b[0m\u001b[1;33m.\u001b[0m\u001b[0m_getitem_multilevel\u001b[0m\u001b[1;33m(\u001b[0m\u001b[0mkey\u001b[0m\u001b[1;33m)\u001b[0m\u001b[1;33m\u001b[0m\u001b[1;33m\u001b[0m\u001b[0m\n\u001b[1;32m-> 2927\u001b[1;33m             \u001b[0mindexer\u001b[0m \u001b[1;33m=\u001b[0m \u001b[0mself\u001b[0m\u001b[1;33m.\u001b[0m\u001b[0mcolumns\u001b[0m\u001b[1;33m.\u001b[0m\u001b[0mget_loc\u001b[0m\u001b[1;33m(\u001b[0m\u001b[0mkey\u001b[0m\u001b[1;33m)\u001b[0m\u001b[1;33m\u001b[0m\u001b[1;33m\u001b[0m\u001b[0m\n\u001b[0m\u001b[0;32m   2928\u001b[0m             \u001b[1;32mif\u001b[0m \u001b[0mis_integer\u001b[0m\u001b[1;33m(\u001b[0m\u001b[0mindexer\u001b[0m\u001b[1;33m)\u001b[0m\u001b[1;33m:\u001b[0m\u001b[1;33m\u001b[0m\u001b[1;33m\u001b[0m\u001b[0m\n\u001b[0;32m   2929\u001b[0m                 \u001b[0mindexer\u001b[0m \u001b[1;33m=\u001b[0m \u001b[1;33m[\u001b[0m\u001b[0mindexer\u001b[0m\u001b[1;33m]\u001b[0m\u001b[1;33m\u001b[0m\u001b[1;33m\u001b[0m\u001b[0m\n",
      "\u001b[1;32m~\\Anaconda3\\lib\\site-packages\\pandas\\core\\indexes\\base.py\u001b[0m in \u001b[0;36mget_loc\u001b[1;34m(self, key, method, tolerance)\u001b[0m\n\u001b[0;32m   2657\u001b[0m                 \u001b[1;32mreturn\u001b[0m \u001b[0mself\u001b[0m\u001b[1;33m.\u001b[0m\u001b[0m_engine\u001b[0m\u001b[1;33m.\u001b[0m\u001b[0mget_loc\u001b[0m\u001b[1;33m(\u001b[0m\u001b[0mkey\u001b[0m\u001b[1;33m)\u001b[0m\u001b[1;33m\u001b[0m\u001b[1;33m\u001b[0m\u001b[0m\n\u001b[0;32m   2658\u001b[0m             \u001b[1;32mexcept\u001b[0m \u001b[0mKeyError\u001b[0m\u001b[1;33m:\u001b[0m\u001b[1;33m\u001b[0m\u001b[1;33m\u001b[0m\u001b[0m\n\u001b[1;32m-> 2659\u001b[1;33m                 \u001b[1;32mreturn\u001b[0m \u001b[0mself\u001b[0m\u001b[1;33m.\u001b[0m\u001b[0m_engine\u001b[0m\u001b[1;33m.\u001b[0m\u001b[0mget_loc\u001b[0m\u001b[1;33m(\u001b[0m\u001b[0mself\u001b[0m\u001b[1;33m.\u001b[0m\u001b[0m_maybe_cast_indexer\u001b[0m\u001b[1;33m(\u001b[0m\u001b[0mkey\u001b[0m\u001b[1;33m)\u001b[0m\u001b[1;33m)\u001b[0m\u001b[1;33m\u001b[0m\u001b[1;33m\u001b[0m\u001b[0m\n\u001b[0m\u001b[0;32m   2660\u001b[0m         \u001b[0mindexer\u001b[0m \u001b[1;33m=\u001b[0m \u001b[0mself\u001b[0m\u001b[1;33m.\u001b[0m\u001b[0mget_indexer\u001b[0m\u001b[1;33m(\u001b[0m\u001b[1;33m[\u001b[0m\u001b[0mkey\u001b[0m\u001b[1;33m]\u001b[0m\u001b[1;33m,\u001b[0m \u001b[0mmethod\u001b[0m\u001b[1;33m=\u001b[0m\u001b[0mmethod\u001b[0m\u001b[1;33m,\u001b[0m \u001b[0mtolerance\u001b[0m\u001b[1;33m=\u001b[0m\u001b[0mtolerance\u001b[0m\u001b[1;33m)\u001b[0m\u001b[1;33m\u001b[0m\u001b[1;33m\u001b[0m\u001b[0m\n\u001b[0;32m   2661\u001b[0m         \u001b[1;32mif\u001b[0m \u001b[0mindexer\u001b[0m\u001b[1;33m.\u001b[0m\u001b[0mndim\u001b[0m \u001b[1;33m>\u001b[0m \u001b[1;36m1\u001b[0m \u001b[1;32mor\u001b[0m \u001b[0mindexer\u001b[0m\u001b[1;33m.\u001b[0m\u001b[0msize\u001b[0m \u001b[1;33m>\u001b[0m \u001b[1;36m1\u001b[0m\u001b[1;33m:\u001b[0m\u001b[1;33m\u001b[0m\u001b[1;33m\u001b[0m\u001b[0m\n",
      "\u001b[1;32mpandas/_libs/index.pyx\u001b[0m in \u001b[0;36mpandas._libs.index.IndexEngine.get_loc\u001b[1;34m()\u001b[0m\n",
      "\u001b[1;32mpandas/_libs/index.pyx\u001b[0m in \u001b[0;36mpandas._libs.index.IndexEngine.get_loc\u001b[1;34m()\u001b[0m\n",
      "\u001b[1;32mpandas/_libs/hashtable_class_helper.pxi\u001b[0m in \u001b[0;36mpandas._libs.hashtable.PyObjectHashTable.get_item\u001b[1;34m()\u001b[0m\n",
      "\u001b[1;32mpandas/_libs/hashtable_class_helper.pxi\u001b[0m in \u001b[0;36mpandas._libs.hashtable.PyObjectHashTable.get_item\u001b[1;34m()\u001b[0m\n",
      "\u001b[1;31mKeyError\u001b[0m: 'distance_centre'"
     ]
    }
   ],
   "source": [
    " #discretise distance_centre\n",
    "discretiser = preprocessing.KBinsDiscretizer(n_bins=5, encode='ordinal')\n",
    "munich['distance_centre'] = discretiser.fit_transform(munich['distance_centre'].values.reshape(-1, 1))\n",
    "\n",
    "#plot relationship between price and distance to city centre\n",
    "distance_price = munich[['distance_centre', 'price']].groupby('distance_centre').mean()\n",
    "print(distance_price.plot())"
   ]
  },
  {
   "cell_type": "markdown",
   "metadata": {},
   "source": [
    "These visuals suggest that there is not only a significant difference in the median prices in the different neighbourhoods of Munich, but also that more expensive listings appear to be clustered in and around the centre of the city.\n",
    "\n",
    "The further away a listing is from the centre of the city (Marienplatz), the less expensive it is on average. This describtive analysis warrants further examination using inference methods."
   ]
  },
  {
   "cell_type": "markdown",
   "metadata": {},
   "source": [
    "### Bedrooms"
   ]
  },
  {
   "cell_type": "code",
   "execution_count": 66,
   "metadata": {},
   "outputs": [
    {
     "name": "stdout",
     "output_type": "stream",
     "text": [
      "0.0     1023\n",
      "1.0     7683\n",
      "2.0     1157\n",
      "3.0      288\n",
      "4.0       57\n",
      "5.0        4\n",
      "6.0        2\n",
      "7.0        1\n",
      "8.0        6\n",
      "10.0       1\n",
      "20.0       1\n",
      "25.0       1\n",
      "Name: bedrooms, dtype: int64\n",
      "                price\n",
      "bedrooms             \n",
      "0.0         92.608016\n",
      "1.0         94.791618\n",
      "2.0        171.490925\n",
      "3.0        243.763889\n",
      "4.0        325.473684\n",
      "5.0        264.750000\n",
      "6.0       1450.000000\n",
      "7.0        400.000000\n",
      "8.0         74.833333\n",
      "10.0        30.000000\n",
      "20.0        30.000000\n",
      "25.0       115.000000\n",
      "AxesSubplot(0.125,0.125;0.775x0.755)\n"
     ]
    },
    {
     "data": {
      "image/png": "[encoded data removed]",
      "text/plain": [
       "<Figure size 432x288 with 1 Axes>"
      ]
     },
     "metadata": {
      "needs_background": "light"
     },
     "output_type": "display_data"
    }
   ],
   "source": [
    "# Fritz: understand feature bedrooms \n",
    "# check the value count\n",
    "print(munich['bedrooms'].value_counts().sort_index())\n",
    "\n",
    "# analyze the effect of bedroom number on price\n",
    "bedrooms_price = munich[['bedrooms', 'price']].groupby('bedrooms').mean()\n",
    "\n",
    "# print the mean values for number of bedrooms\n",
    "print(bedrooms_price)\n",
    "\n",
    "# print the plot\n",
    "print(bedrooms_price.plot())\n",
    "\n",
    "# replace zero bedrooms with one bedroom\n",
    "munich.loc[munich.bedrooms == 0.0, 'bedrooms'] = 1.0"
   ]
  },
  {
   "cell_type": "markdown",
   "metadata": {},
   "source": [
    "One can see that most listings have one or two bedrooms. In 1023 cases there seems to be no bedroom. This value is set by Airbnb landlords if there is not seperated bedroom (e.g. a one room apartment or when accommodating in the living room). It needs to be evaluated how well several regression models can handle this encoding.\n",
    "\n",
    "The listings with 25, 20 and 10 bedrooms are hostels. As there only exist 16 listings with more than four bedrooms, it might make sense to drop those as these are extreme outliers. We can later on specify that our model is only able to predict price for new listings with less than five bedrooms.\n",
    "\n",
    "There is a clear linear dependency between number of bedrooms and price if one only looks at listings with one to four bedrooms. The difference in prices between zero and one bedroom is almost not present. Thus, it makes sense to combine those listings. Every listing with zero bedrooms will be changed to one bedroom. This also needs to be applied when inferring later on."
   ]
  },
  {
   "cell_type": "markdown",
   "metadata": {},
   "source": [
    "### Beds"
   ]
  },
  {
   "cell_type": "code",
   "execution_count": 67,
   "metadata": {},
   "outputs": [
    {
     "name": "stdout",
     "output_type": "stream",
     "text": [
      "0.0       48\n",
      "1.0     6608\n",
      "2.0     2455\n",
      "3.0      575\n",
      "4.0      279\n",
      "5.0       98\n",
      "6.0       83\n",
      "7.0       28\n",
      "8.0       31\n",
      "9.0        1\n",
      "10.0       3\n",
      "12.0       1\n",
      "14.0       1\n",
      "15.0       1\n",
      "16.0      10\n",
      "18.0       1\n",
      "20.0       1\n",
      "30.0       1\n",
      "50.0       1\n",
      "Name: beds, dtype: int64\n",
      "           price\n",
      "beds            \n",
      "1.0    88.584135\n",
      "2.0   123.750713\n",
      "3.0   173.624348\n",
      "4.0   195.706093\n",
      "5.0   234.469388\n",
      "6.0   295.493976\n",
      "7.0   303.464286\n",
      "8.0   201.193548\n",
      "9.0   149.000000\n",
      "10.0  316.666667\n",
      "12.0  800.000000\n",
      "14.0  399.000000\n",
      "15.0  900.000000\n",
      "16.0  107.800000\n",
      "18.0  199.000000\n",
      "20.0   30.000000\n",
      "30.0   30.000000\n",
      "50.0  115.000000\n",
      "AxesSubplot(0.125,0.125;0.775x0.755)\n"
     ]
    },
    {
     "data": {
      "image/png": "[encoded data removed]",
      "text/plain": [
       "<Figure size 432x288 with 1 Axes>"
      ]
     },
     "metadata": {
      "needs_background": "light"
     },
     "output_type": "display_data"
    }
   ],
   "source": [
    "# Fritz: understand feature beds\n",
    "# check the value count\n",
    "print(munich['beds'].value_counts().sort_index())\n",
    "\n",
    "# replace zero beds with one bed\n",
    "munich.loc[munich.beds == 0.0, 'beds'] = 1.0\n",
    "\n",
    "# analyze the effect of number of beds on price\n",
    "beds_price = munich[['beds', 'price']].groupby('beds').mean()\n",
    "\n",
    "# print the mean values for number of beds\n",
    "print(beds_price)\n",
    "\n",
    "# print the plot\n",
    "print(beds_price.plot())"
   ]
  },
  {
   "cell_type": "markdown",
   "metadata": {},
   "source": [
    "Here one can see a similar situation as with the number of bedrooms. Most listings have one or two beds. In 48 cases Airbnb landlords set the number of beds to zero. A manual check of some listings showed that beds are actually present and listings were not created correctly. Thus, listings with zero beds will not be considered in the training.\n",
    "\n",
    "Only 10 listings offer 9 or more beds. These might be dropped as well like examples with five ore more bedrooms.\n",
    "\n",
    "There is a close to linear dependecy between the number of beds and the price if one only looks at examples with less than six beds. The price seems to decrease if there are more than six beds. It might make sense to also drop listings with seven or eight beds."
   ]
  },
  {
   "cell_type": "markdown",
   "metadata": {},
   "source": [
    "### Bed_type"
   ]
  },
  {
   "cell_type": "code",
   "execution_count": 68,
   "metadata": {},
   "outputs": [
    {
     "name": "stdout",
     "output_type": "stream",
     "text": [
      "Real Bed         9728\n",
      "Pull-out Sofa     343\n",
      "Couch              79\n",
      "Futon              61\n",
      "Airbed             27\n",
      "Name: bed_type, dtype: int64\n",
      "                    price\n",
      "bed_type                 \n",
      "Airbed          94.851852\n",
      "Couch           78.265823\n",
      "Futon           78.885246\n",
      "Pull-out Sofa   83.367347\n",
      "Real Bed       110.443668\n",
      "AxesSubplot(0.125,0.125;0.775x0.755)\n"
     ]
    },
    {
     "data": {
      "image/png": "[encoded data removed]",
      "text/plain": [
       "<Figure size 432x288 with 1 Axes>"
      ]
     },
     "metadata": {
      "needs_background": "light"
     },
     "output_type": "display_data"
    }
   ],
   "source": [
    "# Fritz: understand feature bed_type\n",
    "# check the value count\n",
    "print(munich['bed_type'].value_counts())\n",
    "\n",
    "# analyze the effect of bed_type on price\n",
    "bed_type_price = munich[['bed_type', 'price']].groupby('bed_type').mean()\n",
    "\n",
    "# print the mean values for bed_types\n",
    "print(bed_type_price)\n",
    "\n",
    "# print the plot\n",
    "print(bed_type_price.plot())\n",
    "\n",
    "# ordinal encoding\n",
    "# create replace map\n",
    "replace_map = {'bed_type': {'Couch': 1, 'Futon': 1, 'Pull-out Sofa': 1, 'Airbed': 2, 'Real Bed': 3}}\n",
    "\n",
    "# replace categorical values using replace map\n",
    "munich = munich.replace(replace_map)"
   ]
  },
  {
   "cell_type": "markdown",
   "metadata": {},
   "source": [
    "One can see that real beds are offered in the great majority (95%) of all listings. Pull-out sofas occur in about 3% while listings with bed types couch, futon and airbed are not really present in the dataset.\n",
    "\n",
    "It is interesting to see that prices of listings with airbeds are significantly higher compared to couch, futon or pull-out sofa. The prices for real bed listings are the highest which is not surprising. With respect to the dependencies, it makes sense to do an ordnial encoding of this categorical feature. Couch, futon and pull-out-sofa will be converted to value 1, airbed to value 2 and real bed to value 3."
   ]
  },
  {
   "cell_type": "markdown",
   "metadata": {},
   "source": [
    "### Amenities"
   ]
  },
  {
   "cell_type": "markdown",
   "metadata": {},
   "source": [
    "As they potentially provide significant value to the customers of Airbnb (e.g. kitchen, internet), amenities could easily affect the price of a given listing and are therefore included in the analysis.\n",
    "\n",
    "First, as the amenities in the data are given as a list of strings per listing, we have to split the data in order to analyse which specific amenities might be useful to the analysis."
   ]
  },
  {
   "cell_type": "code",
   "execution_count": 69,
   "metadata": {},
   "outputs": [
    {
     "data": {
      "text/plain": [
       "[('Heating', 9709),\n",
       " ('Wifi', 9581),\n",
       " ('Essentials', 9314),\n",
       " ('Kitchen', 9306),\n",
       " ('Washer', 7907),\n",
       " ('Smoke detector', 7127),\n",
       " ('Hair dryer', 6978),\n",
       " ('Hangers', 6748),\n",
       " ('Laptop friendly workspace', 6408),\n",
       " ('TV', 6300),\n",
       " ('Iron', 5990),\n",
       " ('Shampoo', 5617),\n",
       " ('Hot water', 4657),\n",
       " ('Elevator', 4490),\n",
       " ('Dryer', 3517),\n",
       " ('Lock on bedroom door', 3460),\n",
       " ('Refrigerator', 2983),\n",
       " ('Dishes and silverware', 2909),\n",
       " ('Internet', 2905),\n",
       " ('Host greets you', 2797),\n",
       " ('Bed linens', 2765),\n",
       " ('Stove', 2742),\n",
       " ('Cooking basics', 2718),\n",
       " ('Family/kid friendly', 2500),\n",
       " ('Cable TV', 2458),\n",
       " ('Oven', 2358),\n",
       " ('Buzzer/wireless intercom', 2217),\n",
       " ('First aid kit', 2200),\n",
       " ('Coffee maker', 2127),\n",
       " ('Dishwasher', 1988),\n",
       " ('Free parking on premises', 1933),\n",
       " ('Free street parking', 1864),\n",
       " ('Patio or balcony', 1706),\n",
       " ('Private entrance', 1649),\n",
       " ('Fire extinguisher', 1619),\n",
       " ('No stairs or steps to enter', 1529),\n",
       " ('Carbon monoxide detector', 1496),\n",
       " ('Extra pillows and blankets', 1467),\n",
       " ('Luggage dropoff allowed', 1435),\n",
       " ('translation missing: en.hosting_amenity_50', 1432),\n",
       " ('Microwave', 1387),\n",
       " ('Paid parking off premises', 1367),\n",
       " ('Long term stays allowed', 1255),\n",
       " ('Smoking allowed', 1141),\n",
       " ('translation missing: en.hosting_amenity_49', 1091),\n",
       " ('Safety card', 988),\n",
       " ('Private living room', 973),\n",
       " ('Pets allowed', 963),\n",
       " ('Breakfast', 767),\n",
       " ('Well-lit path to entrance', 743)]"
      ]
     },
     "execution_count": 69,
     "metadata": {},
     "output_type": "execute_result"
    }
   ],
   "source": [
    "all_amenities = list()  #create list of all individual amenities\n",
    "for amenities in munich['amenities']:\n",
    "    for amenity in amenities.split(\"{\")[1].split(\"}\")[0].split(\",\"):\n",
    "        all_amenities.append(amenity.replace('\"', ''))\n",
    "#all_amenities_set = set(all_amenities)\n",
    "Counter(all_amenities).most_common(50)"
   ]
  },
  {
   "cell_type": "markdown",
   "metadata": {},
   "source": [
    "We now can filter out those amenities which conceivably affect the price and which are occuring often enough in order to be regarded as significant.\n",
    "\n",
    "We extract these features into a list and create new variables for each one to perfom One-Hot-Encoding."
   ]
  },
  {
   "cell_type": "code",
   "execution_count": 70,
   "metadata": {},
   "outputs": [],
   "source": [
    "relevant_amenities = ['Wifi', 'Internet', 'TV', 'Kitchen', 'Heating', 'Washer', 'Patio or balcony', \n",
    "                      'Breakfast', 'Elevator','24-hour check-in', 'Pool', \n",
    "                      'Private entrance','Dishwasher', 'Bed linens','Smoking allowed'] \n",
    "\n",
    "for element in relevant_amenities: #create dummy variables\n",
    "    munich[element.lower()] = 0\n",
    "    \n",
    "for row in munich.itertuples(): #can take a moment\n",
    "    for element in relevant_amenities:\n",
    "        if element in row.amenities:\n",
    "            munich.loc[row.Index, element.lower()] = 1\n",
    "            \n",
    "munich = munich.drop(columns = 'amenities')"
   ]
  },
  {
   "cell_type": "code",
   "execution_count": 71,
   "metadata": {},
   "outputs": [
    {
     "name": "stdout",
     "output_type": "stream",
     "text": [
      "wifi                                                 0     1\n",
      "neighbourhood_cleansed                                      \n",
      "Allach-Untermenzing                                  1    60\n",
      "Altstadt-Lehel                                      19   311\n",
      "Au-Haidhausen                                       37   649\n",
      "Aubing-Lochhausen-Langwied                           4    78\n",
      "Berg am Laim                                        17   194\n",
      "Bogenhausen                                         36   435\n",
      "Feldmoching-Hasenbergl                               3    94\n",
      "Hadern                                               8   116\n",
      "Laim                                                27   326\n",
      "Ludwigsvorstadt-Isarvorstadt                        71  1006\n",
      "Maxvorstadt                                         59   941\n",
      "Milbertshofen-Am Hart                               33   395\n",
      "Moosach                                             10   183\n",
      "Neuhausen-Nymphenburg                               46   656\n",
      "Obergiesing                                         22   324\n",
      "Pasing-Obermenzing                                  13   199\n",
      "Ramersdorf-Perlach                                  28   340\n",
      "Schwabing-Freimann                                  34   555\n",
      "Schwabing-West                                      50   685\n",
      "Schwanthalerhöhe                                    23   386\n",
      "Sendling                                            27   400\n",
      "Sendling-Westpark                                   17   344\n",
      "Thalkirchen-Obersendling-Forstenried-Fürstenrie...  32   327\n",
      "Tudering-Riem                                       21   257\n",
      "Untergiesing-Harlaching                             19   320\n",
      "\n",
      "internet                                              0    1\n",
      "neighbourhood_cleansed                                      \n",
      "Allach-Untermenzing                                  50   11\n",
      "Altstadt-Lehel                                      241   89\n",
      "Au-Haidhausen                                       468  218\n",
      "Aubing-Lochhausen-Langwied                           65   17\n",
      "Berg am Laim                                        156   55\n",
      "Bogenhausen                                         340  131\n",
      "Feldmoching-Hasenbergl                               65   32\n",
      "Hadern                                               90   34\n",
      "Laim                                                243  110\n",
      "Ludwigsvorstadt-Isarvorstadt                        744  333\n",
      "Maxvorstadt                                         683  317\n",
      "Milbertshofen-Am Hart                               318  110\n",
      "Moosach                                             162   31\n",
      "Neuhausen-Nymphenburg                               517  185\n",
      "Obergiesing                                         247   99\n",
      "Pasing-Obermenzing                                  165   47\n",
      "Ramersdorf-Perlach                                  283   85\n",
      "Schwabing-Freimann                                  444  145\n",
      "Schwabing-West                                      517  218\n",
      "Schwanthalerhöhe                                    286  123\n",
      "Sendling                                            302  125\n",
      "Sendling-Westpark                                   246  115\n",
      "Thalkirchen-Obersendling-Forstenried-Fürstenrie...  264   95\n",
      "Tudering-Riem                                       205   73\n",
      "Untergiesing-Harlaching                             232  107\n",
      "\n",
      "tv                                                    0    1\n",
      "neighbourhood_cleansed                                      \n",
      "Allach-Untermenzing                                  23   38\n",
      "Altstadt-Lehel                                      108  222\n",
      "Au-Haidhausen                                       273  413\n",
      "Aubing-Lochhausen-Langwied                           23   59\n",
      "Berg am Laim                                         64  147\n",
      "Bogenhausen                                         138  333\n",
      "Feldmoching-Hasenbergl                               30   67\n",
      "Hadern                                               50   74\n",
      "Laim                                                151  202\n",
      "Ludwigsvorstadt-Isarvorstadt                        426  651\n",
      "Maxvorstadt                                         402  598\n",
      "Milbertshofen-Am Hart                               182  246\n",
      "Moosach                                              60  133\n",
      "Neuhausen-Nymphenburg                               254  448\n",
      "Obergiesing                                         120  226\n",
      "Pasing-Obermenzing                                   71  141\n",
      "Ramersdorf-Perlach                                  121  247\n",
      "Schwabing-Freimann                                  240  349\n",
      "Schwabing-West                                      278  457\n",
      "Schwanthalerhöhe                                    193  216\n",
      "Sendling                                            183  244\n",
      "Sendling-Westpark                                   130  231\n",
      "Thalkirchen-Obersendling-Forstenried-Fürstenrie...  128  231\n",
      "Tudering-Riem                                        93  185\n",
      "Untergiesing-Harlaching                             133  206\n",
      "\n",
      "kitchen                                              0    1\n",
      "neighbourhood_cleansed                                     \n",
      "Allach-Untermenzing                                 17   44\n",
      "Altstadt-Lehel                                      32  298\n",
      "Au-Haidhausen                                       48  638\n",
      "Aubing-Lochhausen-Langwied                           9   73\n",
      "Berg am Laim                                        22  189\n",
      "Bogenhausen                                         58  413\n",
      "Feldmoching-Hasenbergl                              14   83\n",
      "Hadern                                              15  109\n",
      "Laim                                                26  327\n",
      "Ludwigsvorstadt-Isarvorstadt                        91  986\n",
      "Maxvorstadt                                         61  939\n",
      "Milbertshofen-Am Hart                               41  387\n",
      "Moosach                                             10  183\n",
      "Neuhausen-Nymphenburg                               58  644\n",
      "Obergiesing                                         29  317\n",
      "Pasing-Obermenzing                                  18  194\n",
      "Ramersdorf-Perlach                                  31  337\n",
      "Schwabing-Freimann                                  44  545\n",
      "Schwabing-West                                      62  673\n",
      "Schwanthalerhöhe                                    22  387\n",
      "Sendling                                            43  384\n",
      "Sendling-Westpark                                   39  322\n",
      "Thalkirchen-Obersendling-Forstenried-Fürstenrie...  46  313\n",
      "Tudering-Riem                                       72  206\n",
      "Untergiesing-Harlaching                             24  315\n",
      "\n",
      "heating                                              0     1\n",
      "neighbourhood_cleansed                                      \n",
      "Allach-Untermenzing                                 10    51\n",
      "Altstadt-Lehel                                      17   313\n",
      "Au-Haidhausen                                       28   658\n",
      "Aubing-Lochhausen-Langwied                           3    79\n",
      "Berg am Laim                                         9   202\n",
      "Bogenhausen                                         23   448\n",
      "Feldmoching-Hasenbergl                               3    94\n",
      "Hadern                                               8   116\n",
      "Laim                                                26   327\n",
      "Ludwigsvorstadt-Isarvorstadt                        70  1007\n",
      "Maxvorstadt                                         52   948\n",
      "Milbertshofen-Am Hart                               24   404\n",
      "Moosach                                              5   188\n",
      "Neuhausen-Nymphenburg                               40   662\n",
      "Obergiesing                                         13   333\n",
      "Pasing-Obermenzing                                   9   203\n",
      "Ramersdorf-Perlach                                  12   356\n",
      "Schwabing-Freimann                                  29   560\n",
      "Schwabing-West                                      40   695\n",
      "Schwanthalerhöhe                                    20   389\n",
      "Sendling                                            27   400\n",
      "Sendling-Westpark                                   16   345\n",
      "Thalkirchen-Obersendling-Forstenried-Fürstenrie...  21   338\n",
      "Tudering-Riem                                       11   267\n",
      "Untergiesing-Harlaching                             13   326\n",
      "\n",
      "washer                                                0    1\n",
      "neighbourhood_cleansed                                      \n",
      "Allach-Untermenzing                                  25   36\n",
      "Altstadt-Lehel                                       75  255\n",
      "Au-Haidhausen                                       138  548\n",
      "Aubing-Lochhausen-Langwied                           17   65\n",
      "Berg am Laim                                         48  163\n",
      "Bogenhausen                                         109  362\n",
      "Feldmoching-Hasenbergl                               25   72\n",
      "Hadern                                               33   91\n",
      "Laim                                                 75  278\n",
      "Ludwigsvorstadt-Isarvorstadt                        247  830\n",
      "Maxvorstadt                                         258  742\n",
      "Milbertshofen-Am Hart                                98  330\n",
      "Moosach                                              30  163\n",
      "Neuhausen-Nymphenburg                               167  535\n",
      "Obergiesing                                          61  285\n",
      "Pasing-Obermenzing                                   39  173\n",
      "Ramersdorf-Perlach                                   73  295\n",
      "Schwabing-Freimann                                  134  455\n",
      "Schwabing-West                                      171  564\n",
      "Schwanthalerhöhe                                    103  306\n",
      "Sendling                                             90  337\n",
      "Sendling-Westpark                                    61  300\n",
      "Thalkirchen-Obersendling-Forstenried-Fürstenrie...   80  279\n",
      "Tudering-Riem                                        91  187\n",
      "Untergiesing-Harlaching                              82  257\n",
      "\n",
      "patio or balcony                                      0    1\n",
      "neighbourhood_cleansed                                      \n",
      "Allach-Untermenzing                                  54    7\n",
      "Altstadt-Lehel                                      278   52\n",
      "Au-Haidhausen                                       576  110\n",
      "Aubing-Lochhausen-Langwied                           59   23\n",
      "Berg am Laim                                        175   36\n",
      "Bogenhausen                                         372   99\n",
      "Feldmoching-Hasenbergl                               79   18\n",
      "Hadern                                              104   20\n",
      "Laim                                                299   54\n",
      "Ludwigsvorstadt-Isarvorstadt                        910  167\n",
      "Maxvorstadt                                         859  141\n",
      "Milbertshofen-Am Hart                               367   61\n",
      "Moosach                                             159   34\n",
      "Neuhausen-Nymphenburg                               596  106\n",
      "Obergiesing                                         285   61\n",
      "Pasing-Obermenzing                                  170   42\n",
      "Ramersdorf-Perlach                                  285   83\n",
      "Schwabing-Freimann                                  491   98\n",
      "Schwabing-West                                      604  131\n",
      "Schwanthalerhöhe                                    359   50\n",
      "Sendling                                            349   78\n",
      "Sendling-Westpark                                   297   64\n",
      "Thalkirchen-Obersendling-Forstenried-Fürstenrie...  299   60\n",
      "Tudering-Riem                                       219   59\n",
      "Untergiesing-Harlaching                             287   52\n",
      "\n",
      "breakfast                                              0   1\n",
      "neighbourhood_cleansed                                      \n",
      "Allach-Untermenzing                                   48  13\n",
      "Altstadt-Lehel                                       304  26\n",
      "Au-Haidhausen                                        643  43\n",
      "Aubing-Lochhausen-Langwied                            72  10\n",
      "Berg am Laim                                         197  14\n",
      "Bogenhausen                                          431  40\n",
      "Feldmoching-Hasenbergl                                89   8\n",
      "Hadern                                               117   7\n",
      "Laim                                                 320  33\n",
      "Ludwigsvorstadt-Isarvorstadt                        1015  62\n",
      "Maxvorstadt                                          947  53\n",
      "Milbertshofen-Am Hart                                393  35\n",
      "Moosach                                              173  20\n",
      "Neuhausen-Nymphenburg                                643  59\n",
      "Obergiesing                                          321  25\n",
      "Pasing-Obermenzing                                   202  10\n",
      "Ramersdorf-Perlach                                   328  40\n",
      "Schwabing-Freimann                                   559  30\n",
      "Schwabing-West                                       671  64\n",
      "Schwanthalerhöhe                                     387  22\n",
      "Sendling                                             400  27\n",
      "Sendling-Westpark                                    328  33\n",
      "Thalkirchen-Obersendling-Forstenried-Fürstenrie...   323  36\n",
      "Tudering-Riem                                        249  29\n",
      "Untergiesing-Harlaching                              311  28\n",
      "\n",
      "elevator                                              0    1\n",
      "neighbourhood_cleansed                                      \n",
      "Allach-Untermenzing                                  55    6\n",
      "Altstadt-Lehel                                      154  176\n",
      "Au-Haidhausen                                       384  302\n",
      "Aubing-Lochhausen-Langwied                           54   28\n",
      "Berg am Laim                                        131   80\n",
      "Bogenhausen                                         252  219\n",
      "Feldmoching-Hasenbergl                               84   13\n",
      "Hadern                                               76   48\n",
      "Laim                                                231  122\n",
      "Ludwigsvorstadt-Isarvorstadt                        567  510\n",
      "Maxvorstadt                                         486  514\n",
      "Milbertshofen-Am Hart                               236  192\n",
      "Moosach                                              92  101\n",
      "Neuhausen-Nymphenburg                               367  335\n",
      "Obergiesing                                         196  150\n",
      "Pasing-Obermenzing                                  139   73\n",
      "Ramersdorf-Perlach                                  216  152\n",
      "Schwabing-Freimann                                  341  248\n",
      "Schwabing-West                                      329  406\n",
      "Schwanthalerhöhe                                    272  137\n",
      "Sendling                                            239  188\n",
      "Sendling-Westpark                                   192  169\n",
      "Thalkirchen-Obersendling-Forstenried-Fürstenrie...  205  154\n",
      "Tudering-Riem                                       199   79\n",
      "Untergiesing-Harlaching                             251   88\n",
      "\n",
      "24-hour check-in                                       0   1\n",
      "neighbourhood_cleansed                                      \n",
      "Allach-Untermenzing                                   58   3\n",
      "Altstadt-Lehel                                       317  13\n",
      "Au-Haidhausen                                        649  37\n",
      "Aubing-Lochhausen-Langwied                            80   2\n",
      "Berg am Laim                                         197  14\n",
      "Bogenhausen                                          443  28\n",
      "Feldmoching-Hasenbergl                                93   4\n",
      "Hadern                                               119   5\n",
      "Laim                                                 336  17\n",
      "Ludwigsvorstadt-Isarvorstadt                        1029  48\n",
      "Maxvorstadt                                          943  57\n",
      "Milbertshofen-Am Hart                                412  16\n",
      "Moosach                                              187   6\n",
      "Neuhausen-Nymphenburg                                684  18\n",
      "Obergiesing                                          336  10\n",
      "Pasing-Obermenzing                                   203   9\n",
      "Ramersdorf-Perlach                                   354  14\n",
      "Schwabing-Freimann                                   558  31\n",
      "Schwabing-West                                       709  26\n",
      "Schwanthalerhöhe                                     392  17\n",
      "Sendling                                             422   5\n",
      "Sendling-Westpark                                    345  16\n",
      "Thalkirchen-Obersendling-Forstenried-Fürstenrie...   346  13\n",
      "Tudering-Riem                                        267  11\n",
      "Untergiesing-Harlaching                              329  10\n",
      "\n",
      "pool                                                   0   1\n",
      "neighbourhood_cleansed                                      \n",
      "Allach-Untermenzing                                   59   2\n",
      "Altstadt-Lehel                                       330   0\n",
      "Au-Haidhausen                                        686   0\n",
      "Aubing-Lochhausen-Langwied                            82   0\n",
      "Berg am Laim                                         211   0\n",
      "Bogenhausen                                          467   4\n",
      "Feldmoching-Hasenbergl                                97   0\n",
      "Hadern                                               124   0\n",
      "Laim                                                 348   5\n",
      "Ludwigsvorstadt-Isarvorstadt                        1075   2\n",
      "Maxvorstadt                                         1000   0\n",
      "Milbertshofen-Am Hart                                421   7\n",
      "Moosach                                              187   6\n",
      "Neuhausen-Nymphenburg                                701   1\n",
      "Obergiesing                                          345   1\n",
      "Pasing-Obermenzing                                   212   0\n",
      "Ramersdorf-Perlach                                   363   5\n",
      "Schwabing-Freimann                                   580   9\n",
      "Schwabing-West                                       726   9\n",
      "Schwanthalerhöhe                                     409   0\n",
      "Sendling                                             427   0\n",
      "Sendling-Westpark                                    354   7\n",
      "Thalkirchen-Obersendling-Forstenried-Fürstenrie...   355   4\n",
      "Tudering-Riem                                        265  13\n",
      "Untergiesing-Harlaching                              338   1\n",
      "\n",
      "private entrance                                      0    1\n",
      "neighbourhood_cleansed                                      \n",
      "Allach-Untermenzing                                  47   14\n",
      "Altstadt-Lehel                                      275   55\n",
      "Au-Haidhausen                                       578  108\n",
      "Aubing-Lochhausen-Langwied                           65   17\n",
      "Berg am Laim                                        176   35\n",
      "Bogenhausen                                         394   77\n",
      "Feldmoching-Hasenbergl                               83   14\n",
      "Hadern                                              106   18\n",
      "Laim                                                310   43\n",
      "Ludwigsvorstadt-Isarvorstadt                        910  167\n",
      "Maxvorstadt                                         858  142\n",
      "Milbertshofen-Am Hart                               342   86\n",
      "Moosach                                             165   28\n",
      "Neuhausen-Nymphenburg                               607   95\n",
      "Obergiesing                                         304   42\n",
      "Pasing-Obermenzing                                  179   33\n",
      "Ramersdorf-Perlach                                  296   72\n",
      "Schwabing-Freimann                                  501   88\n",
      "Schwabing-West                                      630  105\n",
      "Schwanthalerhöhe                                    351   58\n",
      "Sendling                                            374   53\n",
      "Sendling-Westpark                                   286   75\n",
      "Thalkirchen-Obersendling-Forstenried-Fürstenrie...  281   78\n",
      "Tudering-Riem                                       195   83\n",
      "Untergiesing-Harlaching                             276   63\n",
      "\n"
     ]
    },
    {
     "name": "stdout",
     "output_type": "stream",
     "text": [
      "dishwasher                                            0    1\n",
      "neighbourhood_cleansed                                      \n",
      "Allach-Untermenzing                                  46   15\n",
      "Altstadt-Lehel                                      247   83\n",
      "Au-Haidhausen                                       542  144\n",
      "Aubing-Lochhausen-Langwied                           57   25\n",
      "Berg am Laim                                        171   40\n",
      "Bogenhausen                                         349  122\n",
      "Feldmoching-Hasenbergl                               79   18\n",
      "Hadern                                              102   22\n",
      "Laim                                                293   60\n",
      "Ludwigsvorstadt-Isarvorstadt                        873  204\n",
      "Maxvorstadt                                         814  186\n",
      "Milbertshofen-Am Hart                               368   60\n",
      "Moosach                                             156   37\n",
      "Neuhausen-Nymphenburg                               574  128\n",
      "Obergiesing                                         270   76\n",
      "Pasing-Obermenzing                                  168   44\n",
      "Ramersdorf-Perlach                                  292   76\n",
      "Schwabing-Freimann                                  475  114\n",
      "Schwabing-West                                      598  137\n",
      "Schwanthalerhöhe                                    332   77\n",
      "Sendling                                            341   86\n",
      "Sendling-Westpark                                   289   72\n",
      "Thalkirchen-Obersendling-Forstenried-Fürstenrie...  304   55\n",
      "Tudering-Riem                                       230   48\n",
      "Untergiesing-Harlaching                             280   59\n",
      "\n",
      "bed linens                                            0    1\n",
      "neighbourhood_cleansed                                      \n",
      "Allach-Untermenzing                                  42   19\n",
      "Altstadt-Lehel                                      232   98\n",
      "Au-Haidhausen                                       511  175\n",
      "Aubing-Lochhausen-Langwied                           53   29\n",
      "Berg am Laim                                        156   55\n",
      "Bogenhausen                                         316  155\n",
      "Feldmoching-Hasenbergl                               60   37\n",
      "Hadern                                               93   31\n",
      "Laim                                                282   71\n",
      "Ludwigsvorstadt-Isarvorstadt                        785  292\n",
      "Maxvorstadt                                         733  267\n",
      "Milbertshofen-Am Hart                               330   98\n",
      "Moosach                                             115   78\n",
      "Neuhausen-Nymphenburg                               530  172\n",
      "Obergiesing                                         239  107\n",
      "Pasing-Obermenzing                                  163   49\n",
      "Ramersdorf-Perlach                                  245  123\n",
      "Schwabing-Freimann                                  416  173\n",
      "Schwabing-West                                      570  165\n",
      "Schwanthalerhöhe                                    303  106\n",
      "Sendling                                            329   98\n",
      "Sendling-Westpark                                   270   91\n",
      "Thalkirchen-Obersendling-Forstenried-Fürstenrie...  266   93\n",
      "Tudering-Riem                                       187   91\n",
      "Untergiesing-Harlaching                             247   92\n",
      "\n",
      "smoking allowed                                       0    1\n",
      "neighbourhood_cleansed                                      \n",
      "Allach-Untermenzing                                  49   12\n",
      "Altstadt-Lehel                                      313   17\n",
      "Au-Haidhausen                                       612   74\n",
      "Aubing-Lochhausen-Langwied                           74    8\n",
      "Berg am Laim                                        183   28\n",
      "Bogenhausen                                         426   45\n",
      "Feldmoching-Hasenbergl                               83   14\n",
      "Hadern                                              109   15\n",
      "Laim                                                302   51\n",
      "Ludwigsvorstadt-Isarvorstadt                        938  139\n",
      "Maxvorstadt                                         902   98\n",
      "Milbertshofen-Am Hart                               373   55\n",
      "Moosach                                             173   20\n",
      "Neuhausen-Nymphenburg                               611   91\n",
      "Obergiesing                                         308   38\n",
      "Pasing-Obermenzing                                  181   31\n",
      "Ramersdorf-Perlach                                  327   41\n",
      "Schwabing-Freimann                                  533   56\n",
      "Schwabing-West                                      665   70\n",
      "Schwanthalerhöhe                                    346   63\n",
      "Sendling                                            370   57\n",
      "Sendling-Westpark                                   327   34\n",
      "Thalkirchen-Obersendling-Forstenried-Fürstenrie...  328   31\n",
      "Tudering-Riem                                       260   18\n",
      "Untergiesing-Harlaching                             304   35\n",
      "\n"
     ]
    }
   ],
   "source": [
    "for amenity in relevant_amenities: #analyse features with regard to districts\n",
    "    print(pd.crosstab(munich['neighbourhood_cleansed'], munich[amenity.lower()]))\n",
    "    print() "
   ]
  },
  {
   "cell_type": "code",
   "execution_count": 73,
   "metadata": {},
   "outputs": [
    {
     "data": {
      "image/png": "[encoded data removed]",
      "text/plain": [
       "<Figure size 432x288 with 1 Axes>"
      ]
     },
     "metadata": {
      "needs_background": "light"
     },
     "output_type": "display_data"
    },
    {
     "data": {
      "image/png": "[encoded data removed]",
      "text/plain": [
       "<Figure size 432x288 with 1 Axes>"
      ]
     },
     "metadata": {
      "needs_background": "light"
     },
     "output_type": "display_data"
    },
    {
     "data": {
      "image/png": "[encoded data removed]",
      "text/plain": [
       "<Figure size 432x288 with 1 Axes>"
      ]
     },
     "metadata": {
      "needs_background": "light"
     },
     "output_type": "display_data"
    },
    {
     "data": {
      "image/png": "[encoded data removed]",
      "text/plain": [
       "<Figure size 432x288 with 1 Axes>"
      ]
     },
     "metadata": {
      "needs_background": "light"
     },
     "output_type": "display_data"
    },
    {
     "data": {
      "image/png": "[encoded data removed]",
      "text/plain": [
       "<Figure size 432x288 with 1 Axes>"
      ]
     },
     "metadata": {
      "needs_background": "light"
     },
     "output_type": "display_data"
    },
    {
     "data": {
      "image/png": "[encoded data removed]",
      "text/plain": [
       "<Figure size 432x288 with 1 Axes>"
      ]
     },
     "metadata": {
      "needs_background": "light"
     },
     "output_type": "display_data"
    },
    {
     "data": {
      "image/png": "[encoded data removed]",
      "text/plain": [
       "<Figure size 432x288 with 1 Axes>"
      ]
     },
     "metadata": {
      "needs_background": "light"
     },
     "output_type": "display_data"
    },
    {
     "data": {
      "image/png": "[encoded data removed]",
      "text/plain": [
       "<Figure size 432x288 with 1 Axes>"
      ]
     },
     "metadata": {
      "needs_background": "light"
     },
     "output_type": "display_data"
    },
    {
     "data": {
      "image/png": "[encoded data removed]",
      "text/plain": [
       "<Figure size 432x288 with 1 Axes>"
      ]
     },
     "metadata": {
      "needs_background": "light"
     },
     "output_type": "display_data"
    },
    {
     "data": {
      "image/png": "[encoded data removed]",
      "text/plain": [
       "<Figure size 432x288 with 1 Axes>"
      ]
     },
     "metadata": {
      "needs_background": "light"
     },
     "output_type": "display_data"
    },
    {
     "data": {
      "image/png": "[encoded data removed]",
      "text/plain": [
       "<Figure size 432x288 with 1 Axes>"
      ]
     },
     "metadata": {
      "needs_background": "light"
     },
     "output_type": "display_data"
    },
    {
     "data": {
      "image/png": "[encoded data removed]",
      "text/plain": [
       "<Figure size 432x288 with 1 Axes>"
      ]
     },
     "metadata": {
      "needs_background": "light"
     },
     "output_type": "display_data"
    },
    {
     "data": {
      "image/png": "[encoded data removed]",
      "text/plain": [
       "<Figure size 432x288 with 1 Axes>"
      ]
     },
     "metadata": {
      "needs_background": "light"
     },
     "output_type": "display_data"
    },
    {
     "data": {
      "image/png": "[encoded data removed]",
      "text/plain": [
       "<Figure size 432x288 with 1 Axes>"
      ]
     },
     "metadata": {
      "needs_background": "light"
     },
     "output_type": "display_data"
    },
    {
     "data": {
      "image/png": "[encoded data removed]",
      "text/plain": [
       "<Figure size 432x288 with 1 Axes>"
      ]
     },
     "metadata": {
      "needs_background": "light"
     },
     "output_type": "display_data"
    }
   ],
   "source": [
    "#Visualize\n",
    "for amenity in relevant_amenities: #analyse features with regard to districts\n",
    "    sns.barplot(x= munich[amenity.lower()], y='price', data=munich)\n",
    "    plt.show()"
   ]
  },
  {
   "cell_type": "code",
   "execution_count": 74,
   "metadata": {},
   "outputs": [
    {
     "data": {
      "text/plain": [
       "count    10238.000000\n",
       "mean         0.941883\n",
       "std          0.233976\n",
       "min          0.000000\n",
       "25%          1.000000\n",
       "50%          1.000000\n",
       "75%          1.000000\n",
       "max          1.000000\n",
       "Name: internet, dtype: float64"
      ]
     },
     "execution_count": 74,
     "metadata": {},
     "output_type": "execute_result"
    }
   ],
   "source": [
    "#merge information from variables wifi and internet in the feature 'internet'\n",
    "for row in munich.itertuples():\n",
    "        if row.wifi == 1:\n",
    "            munich.loc[row.Index, 'internet'] = 1\n",
    "\n",
    "munich = munich.drop(columns = ['wifi', 'pool', 'bed linens'])\n",
    "munich['internet'].describe()"
   ]
  },
  {
   "cell_type": "markdown",
   "metadata": {},
   "source": [
    "The features 'internet' and 'wifi' appear to be redundant. Therefore, the latter can be discarded. Furthermore, there seems to be a relatively small number of 'pools' in the data which suggests that the variable should be filtered out as well. Apart from that, it appears very likely that the infrequent occurence of the feature 'bed linens' is due to hosts not giving the respective information correctly. Thus, the feature is excluded accordingly.\n",
    "\n",
    "The visualizations of the respective amenities versus the prices of listings indicate a positive effect of the features kitchen, tv and private entrance, among others. However, these indications require verification during the actual modeling process."
   ]
  },
  {
   "cell_type": "markdown",
   "metadata": {},
   "source": [
    "### Bathrooms"
   ]
  },
  {
   "cell_type": "markdown",
   "metadata": {},
   "source": [
    "The number of bathrooms, since it is considered a comfort zone for the customer, is regarded another important feature for the analysis. Here Airbnb not only differentiates the number of bathrooms, but also whether it is a shared or private bathroom, as Airbnb also allows the property to be shared with other Airbnb customers and the host. So it is possible that hosts can charge a higher price for private bathrooms, as this also increases the usable space of a guest."
   ]
  },
  {
   "cell_type": "code",
   "execution_count": 75,
   "metadata": {},
   "outputs": [],
   "source": [
    "# Drop all tuples with blank entries\n",
    "#munich = munich[munich.bathrooms != None]\n",
    "\n",
    "# replace blank entries with shared bathroom\n",
    "munich.loc[munich.bathrooms == None, 'bathrooms'] = 0.5\n",
    "\n",
    "# replace zero bathrooms with shared bathroom\n",
    "munich.loc[munich.bathrooms == 0.0, 'bathrooms'] = 0.5"
   ]
  },
  {
   "cell_type": "markdown",
   "metadata": {},
   "source": [
    "Columns in which no input was made are removed directly from the data set because they do not provide useful information for analysis. The value \"0.5\" refers to a shared bathroom, while the values \"1.5\" and \"2.5\" refer to an additional guest toilet without shower. Since apartment types such as \"tent\" or \"campervan\" have already been deleted and prices are only to be predicted for real houses, it can be assumed that there is always a bathroom for guests and the host has made a wrong entry or merely indicated not to offer a bathtub. Therefore, all entries with the value \"0.0\" can be raised to \"0.5\"."
   ]
  },
  {
   "cell_type": "code",
   "execution_count": 76,
   "metadata": {},
   "outputs": [
    {
     "name": "stdout",
     "output_type": "stream",
     "text": [
      "1.0     8751\n",
      "1.5      844\n",
      "2.0      424\n",
      "0.5      113\n",
      "2.5       64\n",
      "3.0       17\n",
      "4.0        3\n",
      "3.5        3\n",
      "4.5        1\n",
      "7.5        1\n",
      "5.5        1\n",
      "38.5       1\n",
      "24.0       1\n",
      "Name: bathrooms, dtype: int64\n",
      "             max_price\n",
      "bathrooms             \n",
      "0.5         104.902655\n",
      "1.0         123.633756\n",
      "1.5         147.395735\n",
      "2.0         216.705189\n",
      "2.5         268.250000\n",
      "3.0         448.764706\n",
      "3.5         132.666667\n",
      "4.0         151.666667\n",
      "4.5         480.000000\n",
      "5.5          29.000000\n",
      "7.5          60.000000\n",
      "24.0       1840.000000\n",
      "38.5         70.000000\n"
     ]
    },
    {
     "data": {
      "image/png": "[encoded data removed]",
      "text/plain": [
       "<Figure size 432x288 with 1 Axes>"
      ]
     },
     "metadata": {
      "needs_background": "light"
     },
     "output_type": "display_data"
    },
    {
     "data": {
      "image/png": "[encoded data removed]",
      "text/plain": [
       "<Figure size 432x288 with 1 Axes>"
      ]
     },
     "metadata": {
      "needs_background": "light"
     },
     "output_type": "display_data"
    }
   ],
   "source": [
    "# check the value count\n",
    "print(munich['bathrooms'].value_counts())\n",
    "\n",
    "# analyze the effect of bathrooms on price\n",
    "bathroom_price = munich[['bathrooms', 'max_price']].groupby('bathrooms').mean()\n",
    "\n",
    "# print the mean values for bathrooms\n",
    "print(bathroom_price)\n",
    "\n",
    "# plot the effect of bathrooms on price\n",
    "plt.plot(bathroom_price)\n",
    "\n",
    "# print the plot\n",
    "plt.show()\n",
    "\n",
    "#Create a scatterplot of Price on Bathrooms\n",
    "plt.scatter(munich['bathrooms'], munich['max_price'])\n",
    "\n",
    "plt.show()"
   ]
  },
  {
   "cell_type": "markdown",
   "metadata": {},
   "source": [
    "In considering the number of bathrooms in the offers as well as the ratio between the number of bathrooms and the price of the real estate, there are some things that attract attention. Firstly, most of the apartments offered on Airbnb have their own bathroom for the guests. Only with greater distance follow other types of apartments. Secondly, the effect of the number of bathrooms on the house price is almost linear, with the exception that the price increase between apartments with \"1.0\" and \"1.5\" bathrooms is lower than between \"1.5\" and \"2.0\" bathrooms."
   ]
  },
  {
   "cell_type": "markdown",
   "metadata": {},
   "source": [
    "### Accommodates"
   ]
  },
  {
   "cell_type": "markdown",
   "metadata": {},
   "source": [
    "Another feature to be included in the analysis is the number of people who can be accommodated in the home. Since the number of square metres is not included in the analysis because too few entries are offered for a prediction, both the number of accommodations and the number of beds can be used to estimate the size of the accommodation."
   ]
  },
  {
   "cell_type": "code",
   "execution_count": 77,
   "metadata": {},
   "outputs": [
    {
     "name": "stdout",
     "output_type": "stream",
     "text": [
      "2     5344\n",
      "4     1615\n",
      "1     1243\n",
      "3     1242\n",
      "6      288\n",
      "5      270\n",
      "8      101\n",
      "7       54\n",
      "10      26\n",
      "16      18\n",
      "9       17\n",
      "12      10\n",
      "11       4\n",
      "13       3\n",
      "14       2\n",
      "15       1\n",
      "Name: accommodates, dtype: int64\n",
      "                max_price\n",
      "accommodates             \n",
      "1               62.902655\n",
      "2               96.630240\n",
      "3              133.893720\n",
      "4              189.108978\n",
      "5              239.151852\n",
      "6              329.326389\n",
      "7              377.518519\n",
      "8              399.099010\n",
      "9              443.470588\n",
      "10             597.115385\n",
      "11             542.250000\n",
      "12             780.400000\n",
      "13             743.333333\n",
      "14            1479.500000\n",
      "15             900.000000\n",
      "16             795.777778\n"
     ]
    },
    {
     "data": {
      "image/png": "[encoded data removed]",
      "text/plain": [
       "<Figure size 432x288 with 1 Axes>"
      ]
     },
     "metadata": {
      "needs_background": "light"
     },
     "output_type": "display_data"
    },
    {
     "data": {
      "image/png": "[encoded data removed]",
      "text/plain": [
       "<Figure size 432x288 with 1 Axes>"
      ]
     },
     "metadata": {
      "needs_background": "light"
     },
     "output_type": "display_data"
    }
   ],
   "source": [
    "# check the value count\n",
    "print(munich['accommodates'].value_counts())\n",
    "\n",
    "# analyze the effect of accommodates on price\n",
    "accommodates_price = munich[['accommodates', 'max_price']].groupby('accommodates').mean()\n",
    "\n",
    "# print the mean values for accommodates\n",
    "print(accommodates_price)\n",
    "\n",
    "# print the plot\n",
    "plt.plot(accommodates_price)\n",
    "\n",
    "plt.show()\n",
    "\n",
    "#Create a scatterplot of Price on Accommodates\n",
    "plt.scatter(munich['accommodates'], munich['max_price'])\n",
    "\n",
    "plt.show()\n"
   ]
  },
  {
   "cell_type": "markdown",
   "metadata": {},
   "source": [
    "### Property_type"
   ]
  },
  {
   "cell_type": "code",
   "execution_count": 78,
   "metadata": {},
   "outputs": [],
   "source": [
    "property_types = munich['property_type'].unique()\n",
    "res = munich[munich.max_price < 0]\n",
    "for i in property_types:\n",
    "    tmp = munich[munich.property_type == i]\n",
    "    tmp_mean = np.mean(tmp['max_price'])\n",
    "    tmp_std = np.std(tmp['max_price'])\n",
    "    tmp = tmp[tmp['max_price'] <= (tmp_mean + (2 * tmp_std))]\n",
    "    tmp = tmp[tmp['max_price'] >= (tmp_mean - (2 * tmp_std))]\n",
    "    res = pd.concat([res, tmp])\n",
    "prop_pre = res\n",
    "\n",
    "# todo: modify munich df and drop hostels"
   ]
  },
  {
   "cell_type": "markdown",
   "metadata": {},
   "source": [
    "### Room_type"
   ]
  },
  {
   "cell_type": "code",
   "execution_count": 79,
   "metadata": {},
   "outputs": [],
   "source": [
    "room_types = munich['room_type'].unique()\n",
    "res = munich[munich.max_price < 0]\n",
    "for i in room_types:\n",
    "    tmp = prop_pre[prop_pre.room_type == i]\n",
    "    tmp_mean = np.mean(tmp['max_price'])\n",
    "    tmp_std = np.std(tmp['max_price'])\n",
    "    tmp = tmp[tmp['max_price'] <= (tmp_mean + (2 * tmp_std))]\n",
    "    tmp = tmp[tmp['max_price'] >= (tmp_mean - (2 * tmp_std))]\n",
    "    res = pd.concat([res, tmp])\n",
    "    \n",
    "# todo: modify munich df"
   ]
  },
  {
   "cell_type": "markdown",
   "metadata": {},
   "source": [
    "## Train-Test-Split and final Preprocessing on Training Data"
   ]
  },
  {
   "cell_type": "code",
   "execution_count": 80,
   "metadata": {},
   "outputs": [
    {
     "data": {
      "text/html": [
       "<div>\n",
       "<style scoped>\n",
       "    .dataframe tbody tr th:only-of-type {\n",
       "        vertical-align: middle;\n",
       "    }\n",
       "\n",
       "    .dataframe tbody tr th {\n",
       "        vertical-align: top;\n",
       "    }\n",
       "\n",
       "    .dataframe thead th {\n",
       "        text-align: right;\n",
       "    }\n",
       "</style>\n",
       "<table border=\"1\" class=\"dataframe\">\n",
       "  <thead>\n",
       "    <tr style=\"text-align: right;\">\n",
       "      <th></th>\n",
       "      <th>neighbourhood_cleansed</th>\n",
       "      <th>latitude</th>\n",
       "      <th>longitude</th>\n",
       "      <th>property_type</th>\n",
       "      <th>room_type</th>\n",
       "      <th>accommodates</th>\n",
       "      <th>bathrooms</th>\n",
       "      <th>bedrooms</th>\n",
       "      <th>beds</th>\n",
       "      <th>bed_type</th>\n",
       "      <th>...</th>\n",
       "      <th>kitchen</th>\n",
       "      <th>heating</th>\n",
       "      <th>washer</th>\n",
       "      <th>patio or balcony</th>\n",
       "      <th>breakfast</th>\n",
       "      <th>elevator</th>\n",
       "      <th>24-hour check-in</th>\n",
       "      <th>private entrance</th>\n",
       "      <th>dishwasher</th>\n",
       "      <th>smoking allowed</th>\n",
       "    </tr>\n",
       "  </thead>\n",
       "  <tbody>\n",
       "    <tr>\n",
       "      <th>0</th>\n",
       "      <td>Ludwigsvorstadt-Isarvorstadt</td>\n",
       "      <td>48.13057</td>\n",
       "      <td>11.56929</td>\n",
       "      <td>Apartment</td>\n",
       "      <td>Entire home/apt</td>\n",
       "      <td>2</td>\n",
       "      <td>1.0</td>\n",
       "      <td>1.0</td>\n",
       "      <td>1.0</td>\n",
       "      <td>1</td>\n",
       "      <td>...</td>\n",
       "      <td>1</td>\n",
       "      <td>1</td>\n",
       "      <td>1</td>\n",
       "      <td>0</td>\n",
       "      <td>0</td>\n",
       "      <td>0</td>\n",
       "      <td>0</td>\n",
       "      <td>0</td>\n",
       "      <td>0</td>\n",
       "      <td>0</td>\n",
       "    </tr>\n",
       "    <tr>\n",
       "      <th>1</th>\n",
       "      <td>Hadern</td>\n",
       "      <td>48.11476</td>\n",
       "      <td>11.48782</td>\n",
       "      <td>Apartment</td>\n",
       "      <td>Entire home/apt</td>\n",
       "      <td>2</td>\n",
       "      <td>1.0</td>\n",
       "      <td>1.0</td>\n",
       "      <td>1.0</td>\n",
       "      <td>3</td>\n",
       "      <td>...</td>\n",
       "      <td>1</td>\n",
       "      <td>1</td>\n",
       "      <td>0</td>\n",
       "      <td>1</td>\n",
       "      <td>0</td>\n",
       "      <td>0</td>\n",
       "      <td>0</td>\n",
       "      <td>0</td>\n",
       "      <td>1</td>\n",
       "      <td>0</td>\n",
       "    </tr>\n",
       "    <tr>\n",
       "      <th>2</th>\n",
       "      <td>Berg am Laim</td>\n",
       "      <td>48.11923</td>\n",
       "      <td>11.63726</td>\n",
       "      <td>Apartment</td>\n",
       "      <td>Entire home/apt</td>\n",
       "      <td>5</td>\n",
       "      <td>1.0</td>\n",
       "      <td>1.0</td>\n",
       "      <td>3.0</td>\n",
       "      <td>3</td>\n",
       "      <td>...</td>\n",
       "      <td>1</td>\n",
       "      <td>1</td>\n",
       "      <td>1</td>\n",
       "      <td>1</td>\n",
       "      <td>0</td>\n",
       "      <td>0</td>\n",
       "      <td>1</td>\n",
       "      <td>0</td>\n",
       "      <td>0</td>\n",
       "      <td>0</td>\n",
       "    </tr>\n",
       "    <tr>\n",
       "      <th>3</th>\n",
       "      <td>Maxvorstadt</td>\n",
       "      <td>48.15198</td>\n",
       "      <td>11.56486</td>\n",
       "      <td>Apartment</td>\n",
       "      <td>Entire home/apt</td>\n",
       "      <td>4</td>\n",
       "      <td>1.0</td>\n",
       "      <td>1.0</td>\n",
       "      <td>1.0</td>\n",
       "      <td>3</td>\n",
       "      <td>...</td>\n",
       "      <td>1</td>\n",
       "      <td>1</td>\n",
       "      <td>1</td>\n",
       "      <td>1</td>\n",
       "      <td>1</td>\n",
       "      <td>1</td>\n",
       "      <td>0</td>\n",
       "      <td>0</td>\n",
       "      <td>0</td>\n",
       "      <td>0</td>\n",
       "    </tr>\n",
       "    <tr>\n",
       "      <th>4</th>\n",
       "      <td>Pasing-Obermenzing</td>\n",
       "      <td>48.13898</td>\n",
       "      <td>11.46612</td>\n",
       "      <td>Apartment</td>\n",
       "      <td>Entire home/apt</td>\n",
       "      <td>4</td>\n",
       "      <td>1.0</td>\n",
       "      <td>1.0</td>\n",
       "      <td>1.0</td>\n",
       "      <td>3</td>\n",
       "      <td>...</td>\n",
       "      <td>1</td>\n",
       "      <td>1</td>\n",
       "      <td>1</td>\n",
       "      <td>0</td>\n",
       "      <td>0</td>\n",
       "      <td>0</td>\n",
       "      <td>0</td>\n",
       "      <td>0</td>\n",
       "      <td>0</td>\n",
       "      <td>1</td>\n",
       "    </tr>\n",
       "  </tbody>\n",
       "</table>\n",
       "<p>5 rows × 24 columns</p>\n",
       "</div>"
      ],
      "text/plain": [
       "         neighbourhood_cleansed  latitude  longitude property_type  \\\n",
       "0  Ludwigsvorstadt-Isarvorstadt  48.13057   11.56929     Apartment   \n",
       "1                        Hadern  48.11476   11.48782     Apartment   \n",
       "2                  Berg am Laim  48.11923   11.63726     Apartment   \n",
       "3                   Maxvorstadt  48.15198   11.56486     Apartment   \n",
       "4            Pasing-Obermenzing  48.13898   11.46612     Apartment   \n",
       "\n",
       "         room_type  accommodates  bathrooms  bedrooms  beds  bed_type  ...  \\\n",
       "0  Entire home/apt             2        1.0       1.0   1.0         1  ...   \n",
       "1  Entire home/apt             2        1.0       1.0   1.0         3  ...   \n",
       "2  Entire home/apt             5        1.0       1.0   3.0         3  ...   \n",
       "3  Entire home/apt             4        1.0       1.0   1.0         3  ...   \n",
       "4  Entire home/apt             4        1.0       1.0   1.0         3  ...   \n",
       "\n",
       "   kitchen  heating  washer  patio or balcony  breakfast  elevator  \\\n",
       "0        1        1       1                 0          0         0   \n",
       "1        1        1       0                 1          0         0   \n",
       "2        1        1       1                 1          0         0   \n",
       "3        1        1       1                 1          1         1   \n",
       "4        1        1       1                 0          0         0   \n",
       "\n",
       "   24-hour check-in  private entrance  dishwasher  smoking allowed  \n",
       "0                 0                 0           0                0  \n",
       "1                 0                 0           1                0  \n",
       "2                 1                 0           0                0  \n",
       "3                 0                 0           0                0  \n",
       "4                 0                 0           0                1  \n",
       "\n",
       "[5 rows x 24 columns]"
      ]
     },
     "execution_count": 80,
     "metadata": {},
     "output_type": "execute_result"
    }
   ],
   "source": [
    "munich.head()"
   ]
  },
  {
   "cell_type": "code",
   "execution_count": 81,
   "metadata": {},
   "outputs": [],
   "source": [
    "# todo: delete 'neighbourhood_cleansed', 'property_type', 'room_type' once preprocessed\n",
    "# drop unused features\n",
    "munich = munich.drop(columns = ['neighbourhood_cleansed', 'property_type', 'room_type', 'price', 'latitude', 'longitude'])"
   ]
  },
  {
   "cell_type": "code",
   "execution_count": 82,
   "metadata": {},
   "outputs": [],
   "source": [
    "# divide label from features\n",
    "y = munich['max_price']\n",
    "x = munich.drop('max_price', axis=1)\n",
    "\n",
    "# normailze feature values\n",
    "x_normalized = pd.DataFrame(preprocessing.MinMaxScaler().fit_transform(x), columns=x.columns)\n",
    "\n",
    "# split dataset into training and test data\n",
    "xTrain, xTest, yTrain, yTest = train_test_split(x_normalized, y, test_size = 0.2, random_state = 0)\n",
    "\n",
    "# todo: outlier detection on xTrain and yTrain\n",
    "#price_std = np.std(munich['max_price'])\n",
    "#price_mean = np.mean(munich['max_price'])\n",
    "#print(\"Listings that qualify as outliers (using Standard Deviation):\")\n",
    "#print(munich[munich['max_price'] > (price_mean + (3*price_std))]['max_price'].count())\n",
    "#munich = munich[munich['max_price'] <= (price_mean + (3*price_std))]"
   ]
  },
  {
   "cell_type": "code",
   "execution_count": 83,
   "metadata": {},
   "outputs": [
    {
     "data": {
      "text/html": [
       "<div>\n",
       "<style scoped>\n",
       "    .dataframe tbody tr th:only-of-type {\n",
       "        vertical-align: middle;\n",
       "    }\n",
       "\n",
       "    .dataframe tbody tr th {\n",
       "        vertical-align: top;\n",
       "    }\n",
       "\n",
       "    .dataframe thead th {\n",
       "        text-align: right;\n",
       "    }\n",
       "</style>\n",
       "<table border=\"1\" class=\"dataframe\">\n",
       "  <thead>\n",
       "    <tr style=\"text-align: right;\">\n",
       "      <th></th>\n",
       "      <th>accommodates</th>\n",
       "      <th>bathrooms</th>\n",
       "      <th>bedrooms</th>\n",
       "      <th>beds</th>\n",
       "      <th>bed_type</th>\n",
       "      <th>internet</th>\n",
       "      <th>tv</th>\n",
       "      <th>kitchen</th>\n",
       "      <th>heating</th>\n",
       "      <th>washer</th>\n",
       "      <th>patio or balcony</th>\n",
       "      <th>breakfast</th>\n",
       "      <th>elevator</th>\n",
       "      <th>24-hour check-in</th>\n",
       "      <th>private entrance</th>\n",
       "      <th>dishwasher</th>\n",
       "      <th>smoking allowed</th>\n",
       "    </tr>\n",
       "  </thead>\n",
       "  <tbody>\n",
       "    <tr>\n",
       "      <th>3991</th>\n",
       "      <td>0.133333</td>\n",
       "      <td>0.013158</td>\n",
       "      <td>0.000000</td>\n",
       "      <td>0.000000</td>\n",
       "      <td>1.0</td>\n",
       "      <td>1.0</td>\n",
       "      <td>1.0</td>\n",
       "      <td>1.0</td>\n",
       "      <td>1.0</td>\n",
       "      <td>1.0</td>\n",
       "      <td>1.0</td>\n",
       "      <td>0.0</td>\n",
       "      <td>1.0</td>\n",
       "      <td>0.0</td>\n",
       "      <td>0.0</td>\n",
       "      <td>1.0</td>\n",
       "      <td>0.0</td>\n",
       "    </tr>\n",
       "    <tr>\n",
       "      <th>185</th>\n",
       "      <td>0.200000</td>\n",
       "      <td>0.013158</td>\n",
       "      <td>0.041667</td>\n",
       "      <td>0.000000</td>\n",
       "      <td>1.0</td>\n",
       "      <td>1.0</td>\n",
       "      <td>1.0</td>\n",
       "      <td>1.0</td>\n",
       "      <td>1.0</td>\n",
       "      <td>1.0</td>\n",
       "      <td>0.0</td>\n",
       "      <td>0.0</td>\n",
       "      <td>1.0</td>\n",
       "      <td>0.0</td>\n",
       "      <td>0.0</td>\n",
       "      <td>0.0</td>\n",
       "      <td>0.0</td>\n",
       "    </tr>\n",
       "    <tr>\n",
       "      <th>4794</th>\n",
       "      <td>0.200000</td>\n",
       "      <td>0.013158</td>\n",
       "      <td>0.000000</td>\n",
       "      <td>0.020408</td>\n",
       "      <td>1.0</td>\n",
       "      <td>1.0</td>\n",
       "      <td>0.0</td>\n",
       "      <td>1.0</td>\n",
       "      <td>1.0</td>\n",
       "      <td>1.0</td>\n",
       "      <td>0.0</td>\n",
       "      <td>0.0</td>\n",
       "      <td>0.0</td>\n",
       "      <td>0.0</td>\n",
       "      <td>1.0</td>\n",
       "      <td>0.0</td>\n",
       "      <td>0.0</td>\n",
       "    </tr>\n",
       "    <tr>\n",
       "      <th>5048</th>\n",
       "      <td>0.066667</td>\n",
       "      <td>0.013158</td>\n",
       "      <td>0.000000</td>\n",
       "      <td>0.000000</td>\n",
       "      <td>1.0</td>\n",
       "      <td>1.0</td>\n",
       "      <td>1.0</td>\n",
       "      <td>1.0</td>\n",
       "      <td>1.0</td>\n",
       "      <td>1.0</td>\n",
       "      <td>0.0</td>\n",
       "      <td>0.0</td>\n",
       "      <td>1.0</td>\n",
       "      <td>0.0</td>\n",
       "      <td>0.0</td>\n",
       "      <td>0.0</td>\n",
       "      <td>0.0</td>\n",
       "    </tr>\n",
       "    <tr>\n",
       "      <th>1733</th>\n",
       "      <td>0.000000</td>\n",
       "      <td>0.013158</td>\n",
       "      <td>0.000000</td>\n",
       "      <td>0.000000</td>\n",
       "      <td>1.0</td>\n",
       "      <td>1.0</td>\n",
       "      <td>1.0</td>\n",
       "      <td>1.0</td>\n",
       "      <td>1.0</td>\n",
       "      <td>1.0</td>\n",
       "      <td>0.0</td>\n",
       "      <td>0.0</td>\n",
       "      <td>0.0</td>\n",
       "      <td>0.0</td>\n",
       "      <td>0.0</td>\n",
       "      <td>0.0</td>\n",
       "      <td>1.0</td>\n",
       "    </tr>\n",
       "  </tbody>\n",
       "</table>\n",
       "</div>"
      ],
      "text/plain": [
       "      accommodates  bathrooms  bedrooms      beds  bed_type  internet   tv  \\\n",
       "3991      0.133333   0.013158  0.000000  0.000000       1.0       1.0  1.0   \n",
       "185       0.200000   0.013158  0.041667  0.000000       1.0       1.0  1.0   \n",
       "4794      0.200000   0.013158  0.000000  0.020408       1.0       1.0  0.0   \n",
       "5048      0.066667   0.013158  0.000000  0.000000       1.0       1.0  1.0   \n",
       "1733      0.000000   0.013158  0.000000  0.000000       1.0       1.0  1.0   \n",
       "\n",
       "      kitchen  heating  washer  patio or balcony  breakfast  elevator  \\\n",
       "3991      1.0      1.0     1.0               1.0        0.0       1.0   \n",
       "185       1.0      1.0     1.0               0.0        0.0       1.0   \n",
       "4794      1.0      1.0     1.0               0.0        0.0       0.0   \n",
       "5048      1.0      1.0     1.0               0.0        0.0       1.0   \n",
       "1733      1.0      1.0     1.0               0.0        0.0       0.0   \n",
       "\n",
       "      24-hour check-in  private entrance  dishwasher  smoking allowed  \n",
       "3991               0.0               0.0         1.0              0.0  \n",
       "185                0.0               0.0         0.0              0.0  \n",
       "4794               0.0               1.0         0.0              0.0  \n",
       "5048               0.0               0.0         0.0              0.0  \n",
       "1733               0.0               0.0         0.0              1.0  "
      ]
     },
     "execution_count": 83,
     "metadata": {},
     "output_type": "execute_result"
    }
   ],
   "source": [
    "xTrain.head()"
   ]
  },
  {
   "cell_type": "markdown",
   "metadata": {},
   "source": [
    "## Initial preprocessing of Property Type & Room Type"
   ]
  },
  {
   "cell_type": "code",
   "execution_count": 25,
   "metadata": {},
   "outputs": [
    {
     "name": "stdout",
     "output_type": "stream",
     "text": [
      "start training now\n"
     ]
    },
    {
     "name": "stderr",
     "output_type": "stream",
     "text": [
      "C:\\Users\\fn8j\\Anaconda3\\lib\\site-packages\\sklearn\\svm\\base.py:193: FutureWarning: The default value of gamma will change from 'auto' to 'scale' in version 0.22 to account better for unscaled features. Set gamma explicitly to 'auto' or 'scale' to avoid this warning.\n",
      "  \"avoid this warning.\", FutureWarning)\n"
     ]
    },
    {
     "name": "stdout",
     "output_type": "stream",
     "text": [
      "done training\n",
      "Training RMSE: 45.24595417336327\n",
      "Training R2: 0.5714482163939587\n",
      "Test RMSE: 46.18665838544324\n",
      "Test R2: 0.5553400001646789\n"
     ]
    }
   ],
   "source": [
    "label_encoder = preprocessing.LabelEncoder()\n",
    "from sklearn.feature_selection import f_regression\n",
    "from sklearn.feature_selection import SelectKBest, SelectFwe\n",
    "from sklearn.svm import SVR\n",
    "from collections import Counter\n",
    "from sklearn.model_selection import train_test_split\n",
    "\n",
    "# Property Type\n",
    "property_types = munich['property_type'].unique()\n",
    "res = munich[munich.max_price < 0]\n",
    "for i in property_types:\n",
    "    tmp = munich[munich.property_type == i]\n",
    "    tmp_mean = np.mean(tmp['max_price'])\n",
    "    tmp_std = np.std(tmp['max_price'])\n",
    "    tmp = tmp[tmp['max_price'] <= (tmp_mean + (2 * tmp_std))]\n",
    "    tmp = tmp[tmp['max_price'] >= (tmp_mean - (2 * tmp_std))]\n",
    "    res = pd.concat([res, tmp])\n",
    "prop_pre = res\n",
    "\n",
    "# Room Type\n",
    "room_types = munich['room_type'].unique()\n",
    "res = munich[munich.max_price < 0]\n",
    "for i in room_types:\n",
    "    tmp = prop_pre[prop_pre.room_type == i]\n",
    "    tmp_mean = np.mean(tmp['max_price'])\n",
    "    tmp_std = np.std(tmp['max_price'])\n",
    "    tmp = tmp[tmp['max_price'] <= (tmp_mean + (2 * tmp_std))]\n",
    "    tmp = tmp[tmp['max_price'] >= (tmp_mean - (2 * tmp_std))]\n",
    "    res = pd.concat([res, tmp])\n",
    "  \n",
    "# Train and evaluate SVM\n",
    "# Separate features and labels\n",
    "y = res['max_price']\n",
    "x = res.loc[:, munich.columns.intersection(['property_type',\n",
    "                                            'room_type',\n",
    "                                            'accommodates'\n",
    "])]\n",
    "\n",
    "# Transform features\n",
    "x['property_type'] = label_encoder.fit_transform(x['property_type'])\n",
    "x['room_type'] = label_encoder.fit_transform(x['room_type'])\n",
    "\n",
    "# Split dataset into training and test data\n",
    "xTrain, xTest, yTrain, yTest = train_test_split(x, y, test_size = 0.25, random_state = 0)\n",
    "print(\"start training now\")\n",
    "\n",
    "# Train support vector regressor\n",
    "regressor = SVR(kernel='rbf')\n",
    "regressor.fit(xTrain, yTrain)\n",
    "print(\"done training\")\n",
    "\n",
    "# Predict price for training data\n",
    "price_train_mean = np.mean(yTrain)\n",
    "price_pred = [0] * len(xTrain)\n",
    "count = -1\n",
    "for index, row in xTrain.iterrows():\n",
    "    count += 1\n",
    "    price_pred[count] = regressor.predict([[row[0], row[1], row[2]]])[0]\n",
    "rss = 0\n",
    "ess = 0\n",
    "count = -1\n",
    "for item in yTrain.iteritems():\n",
    "    count += 1\n",
    "    rss = rss + pow((price_pred[count] - item[1]), 2)\n",
    "    ess = ess + pow((item[1] - price_train_mean), 2)\n",
    "RMSE_train = sqrt(rss/count)\n",
    "r2_train = ess/(rss+ess)\n",
    "\n",
    "print(\"Training RMSE: \" + str(RMSE_train))\n",
    "print(\"Training R2: \" + str(r2_train))\n",
    "\n",
    "# Predict price for test data\n",
    "price_test_mean = np.mean(yTest)\n",
    "price_pred = [0] * len(xTest)\n",
    "count = -1\n",
    "for index, row in xTest.iterrows():\n",
    "    count += 1\n",
    "    price_pred[count] = regressor.predict([[row[0], row[1] , row[2]]])[0]\n",
    "rss = 0\n",
    "ess = 0\n",
    "count = -1\n",
    "for item in yTest.iteritems():\n",
    "    count += 1\n",
    "    rss = rss + pow((price_pred[count] - item[1]), 2)\n",
    "    ess = ess + pow((item[1] - price_test_mean), 2)\n",
    "RMSE_test = sqrt(rss/count)\n",
    "r2_test = ess/(rss+ess)\n",
    "\n",
    "print(\"Test RMSE: \" + str(RMSE_test))\n",
    "print(\"Test R2: \" + str(r2_test))"
   ]
  },
  {
   "cell_type": "markdown",
   "metadata": {},
   "source": [
    "## Compare different months"
   ]
  },
  {
   "cell_type": "code",
   "execution_count": null,
   "metadata": {},
   "outputs": [],
   "source": [
    "munich_09 = pd.read_csv('Data/listings_19_09.csv')\n",
    "munich_09['price'] = munich_09['price'].replace( '[\\$,)]','', regex=True ).astype(float)\n",
    "munich_08 = pd.read_csv('Data/listings_19_08.csv')\n",
    "munich_06 = pd.read_csv('Data/listings_19_06.csv')\n",
    "munich_05 = pd.read_csv('Data/listings_19_05.csv')"
   ]
  },
  {
   "cell_type": "code",
   "execution_count": null,
   "metadata": {},
   "outputs": [],
   "source": [
    "print('May')\n",
    "print('Median: ', munich_05['price'].median())\n",
    "print('Mean: ', munich_05['price'].mean())\n",
    "print()\n",
    "print('June')\n",
    "print('Median: ', munich_06['price'].median())\n",
    "print('Mean: ', munich_06['price'].mean())\n",
    "print()\n",
    "print('July')\n",
    "print('Median: ', munich['price'].median())\n",
    "print('Mean: ', munich['price'].mean())\n",
    "print()\n",
    "print('August')\n",
    "print('Median: ', munich_08['price'].median())\n",
    "print('Mean: ', munich_08['price'].mean())\n",
    "print()\n",
    "print('September')\n",
    "print('Median: ', munich_09['price'].median())\n",
    "print('Mean: ', munich_09['price'].mean())\n"
   ]
  },
  {
   "cell_type": "markdown",
   "metadata": {},
   "source": [
    "One can see that the average prices are quite stabile from May to August but increase a lot in September. This can be traced back to the Oktoberfest in Munich that takes place in September. We need to find a good solution for dealing with these variations. "
   ]
  }
 ],
 "metadata": {
  "kernelspec": {
   "display_name": "Python 3",
   "language": "python",
   "name": "python3"
  },
  "language_info": {
   "codemirror_mode": {
    "name": "ipython",
    "version": 3
   },
   "file_extension": ".py",
   "mimetype": "text/x-python",
   "name": "python",
   "nbconvert_exporter": "python",
   "pygments_lexer": "ipython3",
   "version": "3.7.3"
  }
 },
 "nbformat": 4,
 "nbformat_minor": 2
}
