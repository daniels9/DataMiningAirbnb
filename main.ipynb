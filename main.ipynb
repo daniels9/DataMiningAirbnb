{
 "cells": [
  {
   "cell_type": "markdown",
   "metadata": {},
   "source": [
    "# Predicting Airbnb Prices for Munich"
   ]
  },
  {
   "cell_type": "markdown",
   "metadata": {},
   "source": [
    "The goal of our data mining project is to predict prices for new Airbnb listings in Munich. To achieve this, we will train a regression model on existing Airbnb data from www.insideairbnb.com."
   ]
  },
  {
   "cell_type": "markdown",
   "metadata": {},
   "source": [
    "## Table of Contents\n",
    "##### [1 Preprocessing](#preprocessing)\n",
    "##### [2 Data Mining](#data_mining)\n",
    "##### [3 Interpretation and Evaluation](#interpretation_evaluation)"
   ]
  },
  {
   "cell_type": "markdown",
   "metadata": {},
   "source": [
    "<a id='preprocessing'></a>\n",
    "## 1 Preprocessing"
   ]
  },
  {
   "cell_type": "code",
   "execution_count": 2,
   "metadata": {},
   "outputs": [
    {
     "name": "stdout",
     "output_type": "stream",
     "text": [
      "2019-11-23 13:56:10 : Dataset loaded and preprocessed.\n"
     ]
    }
   ],
   "source": [
    "%run modules/preprocessing.py\n",
    "preprocessed_df = load_and_preprocess_dataset()"
   ]
  },
  {
   "cell_type": "code",
   "execution_count": 7,
   "metadata": {},
   "outputs": [
    {
     "name": "stdout",
     "output_type": "stream",
     "text": [
      "Selected Features:  15                                       maximum_nights\n",
      "12                                     security_deposit\n",
      "13                                         cleaning_fee\n",
      "1                             host_total_listings_count\n",
      "10                                                 beds\n",
      "7                                          accommodates\n",
      "9                                              bedrooms\n",
      "17                                  cancellation_policy\n",
      "6                                             room_type\n",
      "28                                     24-hour check-in\n",
      "68                                      distance_centre\n",
      "14                                       minimum_nights\n",
      "55                                        tudering-riem\n",
      "43                         ludwigsvorstadt-isarvorstadt\n",
      "63                                       altstadt-lehel\n",
      "19                     require_guest_phone_verification\n",
      "18                        require_guest_profile_picture\n",
      "48                                    sendling-westpark\n",
      "66                                              moosach\n",
      "49                              untergiesing-harlaching\n",
      "5                                         property_type\n",
      "29                                     private entrance\n",
      "30                                           dishwasher\n",
      "40                                  verification_selfie\n",
      "0                                     host_is_superhost\n",
      "67                                  allach-untermenzing\n",
      "8                                             bathrooms\n",
      "25                                     patio or balcony\n",
      "60    thalkirchen-obersendling-forstenried-fürstenri...\n",
      "41                              verification_work_email\n",
      "                            ...                        \n",
      "45                                         berg am laim\n",
      "52                                        au-haidhausen\n",
      "50                                       schwabing-west\n",
      "57                                   schwabing-freimann\n",
      "56                                             sendling\n",
      "62                                          obergiesing\n",
      "16                                     instant_bookable\n",
      "64                                                 laim\n",
      "53                                neuhausen-nymphenburg\n",
      "59                               feldmoching-hasenbergl\n",
      "3                                host_identity_verified\n",
      "51                                          bogenhausen\n",
      "39                                verification_facebook\n",
      "44                                               hadern\n",
      "21                                                   tv\n",
      "27                                             elevator\n",
      "37                                   verification_jumio\n",
      "36                           verification_government_id\n",
      "35                                 verification_reviews\n",
      "32                                 host_lives_in_munich\n",
      "4                                     is_location_exact\n",
      "24                                               washer\n",
      "22                                              kitchen\n",
      "69                           average_rent_neighbourhood\n",
      "33                                   verification_email\n",
      "23                                              heating\n",
      "11                                             bed_type\n",
      "20                                             internet\n",
      "34                                   verification_phone\n",
      "2                                  host_has_profile_pic\n",
      "Name: Specs, Length: 70, dtype: object\n"
     ]
    }
   ],
   "source": [
    "%run modules/preprocessing.py\n",
    "features = select_best_features(preprocessed_df, number_of_features = 70) # Total number of features: 50\n",
    "label = preprocessed_df['maximum_price']"
   ]
  },
  {
   "cell_type": "code",
   "execution_count": 12,
   "metadata": {},
   "outputs": [
    {
     "name": "stdout",
     "output_type": "stream",
     "text": [
      "count    10136.000000\n",
      "mean       129.881314\n",
      "std        141.040814\n",
      "min          8.000000\n",
      "25%         60.000000\n",
      "50%         94.000000\n",
      "75%        150.000000\n",
      "max       5000.000000\n",
      "Name: maximum_price, dtype: float64\n"
     ]
    }
   ],
   "source": [
    "#\n",
    "bins     = [0,100,200,300,400,500,600,700,800,900,1000,2000,5001]\n",
    "y_binned = np.digitize(label, bins)"
   ]
  },
  {
   "cell_type": "code",
   "execution_count": null,
   "metadata": {},
   "outputs": [],
   "source": [
    "# if you want to delete outliers, execute this after the train-test-split:\n",
    "\n",
    "# %run modules/preprocessing.py\n",
    "# x_train, y_train = delete_price_outliers(x_train, y_train)"
   ]
  },
  {
   "cell_type": "markdown",
   "metadata": {},
   "source": [
    "<a id='data_mining'></a>\n",
    "## 2 Data Mining"
   ]
  },
  {
   "cell_type": "markdown",
   "metadata": {},
   "source": [
    "### 2.1 Evaluation of a Dummy Regressor"
   ]
  },
  {
   "cell_type": "code",
   "execution_count": 3,
   "metadata": {},
   "outputs": [
    {
     "name": "stdout",
     "output_type": "stream",
     "text": [
      "Dummy Regressor:  -0.07154551044155429\n",
      "RMSE:  143.85943496805479\n"
     ]
    }
   ],
   "source": [
    "import numpy as np\n",
    "from sklearn.model_selection import KFold\n",
    "from sklearn.model_selection import train_test_split\n",
    "from sklearn.metrics import mean_squared_error\n",
    "from sklearn.dummy import DummyRegressor\n",
    "from math import sqrt\n",
    "\n",
    "# k-fold cross-validation (k = 10)\n",
    "scores = []\n",
    "rmse = []\n",
    "k_fold_cross_validation = KFold(10, True, 1)\n",
    "for train_index, test_index in k_fold_cross_validation.split(features):\n",
    "\n",
    "    # Split the dataset for training and testing\n",
    "    x_train, x_test, y_train, y_test = features.loc[train_index, :], features.loc[test_index, :], label[train_index], label[test_index]\n",
    "    \n",
    "    # Dummy Regressor\n",
    "    regressor = DummyRegressor(strategy='median')\n",
    "    regressor.fit(x_train, y_train)\n",
    "\n",
    "    # Evaluation using testing dataset\n",
    "    scores.append(regressor.score(x_test, y_test))  \n",
    "    predictions = regressor.predict(x_test)\n",
    "    rmse.append(sqrt(mean_squared_error(y_test, predictions)))\n",
    "\n",
    "# Calculate performance measures\n",
    "print(\"Dummy Regressor: \", str(np.mean(scores)))\n",
    "print(\"RMSE: \", str(np.mean(rmse)))"
   ]
  },
  {
   "cell_type": "markdown",
   "metadata": {},
   "source": [
    "### 2.2 Evaluation of different Regression Approaches"
   ]
  },
  {
   "cell_type": "code",
   "execution_count": 16,
   "metadata": {},
   "outputs": [
    {
     "name": "stdout",
     "output_type": "stream",
     "text": [
      "Best Model: {'estimator': MLPRegressor(activation='relu', alpha=0.0001, batch_size='auto', beta_1=0.9,\n",
      "             beta_2=0.999, early_stopping=False, epsilon=1e-08,\n",
      "             hidden_layer_sizes=(100,), learning_rate='constant',\n",
      "             learning_rate_init=0.001, max_iter=200, momentum=0.9,\n",
      "             n_iter_no_change=10, nesterovs_momentum=True, power_t=0.5,\n",
      "             random_state=None, shuffle=True, solver='adam', tol=0.0001,\n",
      "             validation_fraction=0.1, verbose=False, warm_start=False)}\n",
      "RMSE: 142.5537543342086\n",
      "R^2: 0.2519363931631057\n"
     ]
    }
   ],
   "source": [
    "from sklearn.linear_model import Ridge\n",
    "from sklearn.neighbors import KNeighborsRegressor\n",
    "from sklearn.tree import DecisionTreeRegressor\n",
    "from sklearn.neural_network import MLPRegressor\n",
    "from sklearn.model_selection import GridSearchCV\n",
    "from sklearn.feature_selection import RFECV\n",
    "from sklearn.preprocessing import StandardScaler\n",
    "from sklearn.linear_model import LinearRegression\n",
    "from sklearn.feature_selection import f_regression\n",
    "from sklearn.model_selection import train_test_split\n",
    "from sklearn.svm import SVR\n",
    "from sklearn.pipeline import Pipeline\n",
    "from sklearn.metrics import mean_squared_error\n",
    "from sklearn.metrics import mean_absolute_error\n",
    "from sklearn.metrics import mean_squared_error\n",
    "from sklearn.metrics import r2_score\n",
    "import itertools\n",
    "from math import sqrt\n",
    "\n",
    "x_train, x_test, y_train, y_test = train_test_split(features, label, test_size = 0.2, random_state = 0)\n",
    "\n",
    "x_train, y_train = delete_price_outliers(x_train, y_train)\n",
    "\n",
    "# test different regression approaches\n",
    "estimators = [ LinearRegression(), Ridge(), KNeighborsRegressor(), DecisionTreeRegressor(), MLPRegressor(), SVR() ]\n",
    "svr = [ SVR() ]\n",
    "pipeline = Pipeline( [ ('preprocessing', StandardScaler()), ('estimator', None) ])\n",
    "\n",
    "# define a parameter grid\n",
    "parameters = {\n",
    "    'estimator': estimators\n",
    "}\n",
    "\n",
    "# define and run a grid search using MSE as scoring metric\n",
    "search = GridSearchCV(pipeline, parameters, cv=10, scoring='neg_mean_squared_error')\n",
    "search.fit(x_train, y_train)\n",
    "\n",
    "# evaluate on test set\n",
    "predictions = search.predict(x_test)\n",
    "mse = mean_squared_error(y_test, predictions)\n",
    "r2 = r2_score(y_test, predictions)\n",
    "\n",
    "print(\"Best Model: {}\".format(search.best_params_))\n",
    "print(\"RMSE: {}\".format(sqrt(mse)))\n",
    "print(\"R^2: {}\".format(r2))"
   ]
  },
  {
   "cell_type": "markdown",
   "metadata": {},
   "source": [
    "### 2.3 Evaluation of the Support Vector Machine"
   ]
  },
  {
   "cell_type": "code",
   "execution_count": null,
   "metadata": {},
   "outputs": [],
   "source": [
    "%run modules/evaluation.py\n",
    "\n",
    "from sklearn.model_selection import KFold\n",
    "from sklearn.model_selection import train_test_split\n",
    "from sklearn.svm import SVR\n",
    "\n",
    "best_r2 = 0\n",
    "\n",
    "# k-fold cross-validation (k = 10)\n",
    "scores = []\n",
    "k_fold_cross_validation = KFold(10, True, 1)\n",
    "for train_index, test_index in k_fold_cross_validation.split(features):\n",
    "\n",
    "    # Split the dataset for training and testing\n",
    "    x_train, x_test, y_train, y_test = features.loc[train_index, :], features.loc[test_index, :], label[train_index], label[test_index]\n",
    "\n",
    "    # Support Vector Regressor (SVR) using training dataset\n",
    "    svr = SVR(kernel='linear', C = 0.7)\n",
    "    svr.fit(x_train, y_train)\n",
    "\n",
    "    # Evaluation using testing dataset\n",
    "    scores.append(svr.score(x_test, y_test))  \n",
    "\n",
    "# Calculate performance measures\n",
    "print(\"r2: \", str(np.mean(scores)))"
   ]
  },
  {
   "cell_type": "code",
   "execution_count": 33,
   "metadata": {},
   "outputs": [
    {
     "ename": "ValueError",
     "evalue": "Input contains NaN, infinity or a value too large for dtype('float64').",
     "output_type": "error",
     "traceback": [
      "\u001b[1;31m---------------------------------------------------------------------------\u001b[0m",
      "\u001b[1;31mValueError\u001b[0m                                Traceback (most recent call last)",
      "\u001b[1;32m<ipython-input-33-71bd6feefa3e>\u001b[0m in \u001b[0;36m<module>\u001b[1;34m\u001b[0m\n\u001b[0;32m     25\u001b[0m         \u001b[1;31m# Support Vector Regressor (SVR) using training dataset\u001b[0m\u001b[1;33m\u001b[0m\u001b[1;33m\u001b[0m\u001b[1;33m\u001b[0m\u001b[0m\n\u001b[0;32m     26\u001b[0m         \u001b[0msvr\u001b[0m \u001b[1;33m=\u001b[0m \u001b[0mSVR\u001b[0m\u001b[1;33m(\u001b[0m\u001b[0mkernel\u001b[0m\u001b[1;33m=\u001b[0m\u001b[1;34m'linear'\u001b[0m\u001b[1;33m,\u001b[0m \u001b[0mC\u001b[0m \u001b[1;33m=\u001b[0m \u001b[1;36m0.7\u001b[0m\u001b[1;33m)\u001b[0m\u001b[1;33m\u001b[0m\u001b[1;33m\u001b[0m\u001b[0m\n\u001b[1;32m---> 27\u001b[1;33m         \u001b[0msvr\u001b[0m\u001b[1;33m.\u001b[0m\u001b[0mfit\u001b[0m\u001b[1;33m(\u001b[0m\u001b[0mx_train\u001b[0m\u001b[1;33m,\u001b[0m \u001b[0my_train\u001b[0m\u001b[1;33m)\u001b[0m\u001b[1;33m\u001b[0m\u001b[1;33m\u001b[0m\u001b[0m\n\u001b[0m\u001b[0;32m     28\u001b[0m \u001b[1;33m\u001b[0m\u001b[0m\n\u001b[0;32m     29\u001b[0m         \u001b[1;31m# Evaluation using testing dataset\u001b[0m\u001b[1;33m\u001b[0m\u001b[1;33m\u001b[0m\u001b[1;33m\u001b[0m\u001b[0m\n",
      "\u001b[1;32m~\\Anaconda3\\lib\\site-packages\\sklearn\\svm\\base.py\u001b[0m in \u001b[0;36mfit\u001b[1;34m(self, X, y, sample_weight)\u001b[0m\n\u001b[0;32m    144\u001b[0m         X, y = check_X_y(X, y, dtype=np.float64,\n\u001b[0;32m    145\u001b[0m                          \u001b[0morder\u001b[0m\u001b[1;33m=\u001b[0m\u001b[1;34m'C'\u001b[0m\u001b[1;33m,\u001b[0m \u001b[0maccept_sparse\u001b[0m\u001b[1;33m=\u001b[0m\u001b[1;34m'csr'\u001b[0m\u001b[1;33m,\u001b[0m\u001b[1;33m\u001b[0m\u001b[1;33m\u001b[0m\u001b[0m\n\u001b[1;32m--> 146\u001b[1;33m                          accept_large_sparse=False)\n\u001b[0m\u001b[0;32m    147\u001b[0m         \u001b[0my\u001b[0m \u001b[1;33m=\u001b[0m \u001b[0mself\u001b[0m\u001b[1;33m.\u001b[0m\u001b[0m_validate_targets\u001b[0m\u001b[1;33m(\u001b[0m\u001b[0my\u001b[0m\u001b[1;33m)\u001b[0m\u001b[1;33m\u001b[0m\u001b[1;33m\u001b[0m\u001b[0m\n\u001b[0;32m    148\u001b[0m \u001b[1;33m\u001b[0m\u001b[0m\n",
      "\u001b[1;32m~\\Anaconda3\\lib\\site-packages\\sklearn\\utils\\validation.py\u001b[0m in \u001b[0;36mcheck_X_y\u001b[1;34m(X, y, accept_sparse, accept_large_sparse, dtype, order, copy, force_all_finite, ensure_2d, allow_nd, multi_output, ensure_min_samples, ensure_min_features, y_numeric, warn_on_dtype, estimator)\u001b[0m\n\u001b[0;32m    717\u001b[0m                     \u001b[0mensure_min_features\u001b[0m\u001b[1;33m=\u001b[0m\u001b[0mensure_min_features\u001b[0m\u001b[1;33m,\u001b[0m\u001b[1;33m\u001b[0m\u001b[1;33m\u001b[0m\u001b[0m\n\u001b[0;32m    718\u001b[0m                     \u001b[0mwarn_on_dtype\u001b[0m\u001b[1;33m=\u001b[0m\u001b[0mwarn_on_dtype\u001b[0m\u001b[1;33m,\u001b[0m\u001b[1;33m\u001b[0m\u001b[1;33m\u001b[0m\u001b[0m\n\u001b[1;32m--> 719\u001b[1;33m                     estimator=estimator)\n\u001b[0m\u001b[0;32m    720\u001b[0m     \u001b[1;32mif\u001b[0m \u001b[0mmulti_output\u001b[0m\u001b[1;33m:\u001b[0m\u001b[1;33m\u001b[0m\u001b[1;33m\u001b[0m\u001b[0m\n\u001b[0;32m    721\u001b[0m         y = check_array(y, 'csr', force_all_finite=True, ensure_2d=False,\n",
      "\u001b[1;32m~\\Anaconda3\\lib\\site-packages\\sklearn\\utils\\validation.py\u001b[0m in \u001b[0;36mcheck_array\u001b[1;34m(array, accept_sparse, accept_large_sparse, dtype, order, copy, force_all_finite, ensure_2d, allow_nd, ensure_min_samples, ensure_min_features, warn_on_dtype, estimator)\u001b[0m\n\u001b[0;32m    540\u001b[0m         \u001b[1;32mif\u001b[0m \u001b[0mforce_all_finite\u001b[0m\u001b[1;33m:\u001b[0m\u001b[1;33m\u001b[0m\u001b[1;33m\u001b[0m\u001b[0m\n\u001b[0;32m    541\u001b[0m             _assert_all_finite(array,\n\u001b[1;32m--> 542\u001b[1;33m                                allow_nan=force_all_finite == 'allow-nan')\n\u001b[0m\u001b[0;32m    543\u001b[0m \u001b[1;33m\u001b[0m\u001b[0m\n\u001b[0;32m    544\u001b[0m     \u001b[1;32mif\u001b[0m \u001b[0mensure_min_samples\u001b[0m \u001b[1;33m>\u001b[0m \u001b[1;36m0\u001b[0m\u001b[1;33m:\u001b[0m\u001b[1;33m\u001b[0m\u001b[1;33m\u001b[0m\u001b[0m\n",
      "\u001b[1;32m~\\Anaconda3\\lib\\site-packages\\sklearn\\utils\\validation.py\u001b[0m in \u001b[0;36m_assert_all_finite\u001b[1;34m(X, allow_nan)\u001b[0m\n\u001b[0;32m     54\u001b[0m                 not allow_nan and not np.isfinite(X).all()):\n\u001b[0;32m     55\u001b[0m             \u001b[0mtype_err\u001b[0m \u001b[1;33m=\u001b[0m \u001b[1;34m'infinity'\u001b[0m \u001b[1;32mif\u001b[0m \u001b[0mallow_nan\u001b[0m \u001b[1;32melse\u001b[0m \u001b[1;34m'NaN, infinity'\u001b[0m\u001b[1;33m\u001b[0m\u001b[1;33m\u001b[0m\u001b[0m\n\u001b[1;32m---> 56\u001b[1;33m             \u001b[1;32mraise\u001b[0m \u001b[0mValueError\u001b[0m\u001b[1;33m(\u001b[0m\u001b[0mmsg_err\u001b[0m\u001b[1;33m.\u001b[0m\u001b[0mformat\u001b[0m\u001b[1;33m(\u001b[0m\u001b[0mtype_err\u001b[0m\u001b[1;33m,\u001b[0m \u001b[0mX\u001b[0m\u001b[1;33m.\u001b[0m\u001b[0mdtype\u001b[0m\u001b[1;33m)\u001b[0m\u001b[1;33m)\u001b[0m\u001b[1;33m\u001b[0m\u001b[1;33m\u001b[0m\u001b[0m\n\u001b[0m\u001b[0;32m     57\u001b[0m     \u001b[1;31m# for object dtype data, we only check for NaNs (GH-13254)\u001b[0m\u001b[1;33m\u001b[0m\u001b[1;33m\u001b[0m\u001b[1;33m\u001b[0m\u001b[0m\n\u001b[0;32m     58\u001b[0m     \u001b[1;32melif\u001b[0m \u001b[0mX\u001b[0m\u001b[1;33m.\u001b[0m\u001b[0mdtype\u001b[0m \u001b[1;33m==\u001b[0m \u001b[0mnp\u001b[0m\u001b[1;33m.\u001b[0m\u001b[0mdtype\u001b[0m\u001b[1;33m(\u001b[0m\u001b[1;34m'object'\u001b[0m\u001b[1;33m)\u001b[0m \u001b[1;32mand\u001b[0m \u001b[1;32mnot\u001b[0m \u001b[0mallow_nan\u001b[0m\u001b[1;33m:\u001b[0m\u001b[1;33m\u001b[0m\u001b[1;33m\u001b[0m\u001b[0m\n",
      "\u001b[1;31mValueError\u001b[0m: Input contains NaN, infinity or a value too large for dtype('float64')."
     ]
    }
   ],
   "source": [
    "%run modules/evaluation.py\n",
    "\n",
    "from sklearn.model_selection import KFold\n",
    "from sklearn.model_selection import train_test_split\n",
    "from sklearn.svm import SVR\n",
    "\n",
    "best_r2 = 0\n",
    "\n",
    "# Generate all feature combinations\n",
    "feature_combinations = generate_feature_combinations(already_preprocessed)\n",
    "\n",
    "for feature_combination in feature_combinations:\n",
    "    \n",
    "    # Filter the selected features\n",
    "    selected_features = already_preprocessed[feature_combination]\n",
    "    \n",
    "    # k-fold cross-validation (k = 10)\n",
    "    scores = []\n",
    "    k_fold_cross_validation = KFold(10, True, 1)\n",
    "    for train_index, test_index in k_fold_cross_validation.split(selected_features):\n",
    "    \n",
    "        # Split the dataset for training and testing\n",
    "        x_train, x_test, y_train, y_test = selected_features.loc[train_index, :], selected_features.loc[test_index, :], label[train_index], label[test_index]\n",
    "\n",
    "        # Support Vector Regressor (SVR) using training dataset\n",
    "        svr = SVR(kernel='linear', C = 0.7)\n",
    "        svr.fit(x_train, y_train)\n",
    "\n",
    "        # Evaluation using testing dataset\n",
    "        scores.append(svr.score(x_test, y_test))  \n",
    "\n",
    "    # Calculate performance measures\n",
    "    print(np.mean(scores), \" - \", feature_combination)\n",
    "\n",
    "    # Save best model\n",
    "    if(np.mean(scores) > best_r2):\n",
    "          best_r2 = np.mean(scores)\n",
    "        \n",
    "print(\"Best: \", best_r2)"
   ]
  },
  {
   "cell_type": "markdown",
   "metadata": {},
   "source": [
    "### 2.4 Evaluation of Linear Regression"
   ]
  },
  {
   "cell_type": "code",
   "execution_count": 127,
   "metadata": {},
   "outputs": [
    {
     "name": "stdout",
     "output_type": "stream",
     "text": [
      "MSE: 11276.312930767506\n",
      "RMSE: 106.18998507753689\n",
      "R^2: 0.3832052657898344\n"
     ]
    }
   ],
   "source": [
    "from sklearn.linear_model import LinearRegression\n",
    "from sklearn.metrics import mean_squared_error, r2_score\n",
    "from math import sqrt\n",
    "from sklearn.model_selection import train_test_split\n",
    "\n",
    "x_train, x_test, y_train, y_test = train_test_split(features, label, test_size = 0.2, stratify=y_binned, random_state = 42)\n",
    "\n",
    "x_train, y_train = delete_price_outliers(x_train, y_train)\n",
    "\n",
    "reg = LinearRegression()\n",
    "reg.fit(x_train, y_train)\n",
    "prediction = reg.predict(x_test)\n",
    "mse = mean_squared_error(y_test, prediction)\n",
    "r2 = r2_score(y_test, prediction)\n",
    "print(\"MSE:\", mse)\n",
    "print(\"RMSE:\", sqrt(mse))\n",
    "print(\"R^2:\", r2)"
   ]
  },
  {
   "cell_type": "code",
   "execution_count": 53,
   "metadata": {},
   "outputs": [
    {
     "name": "stdout",
     "output_type": "stream",
     "text": [
      "MSE: 9026.717425519482\n",
      "RMSE: 95.00903865169609\n",
      "R^2: 0.42516874391327064\n"
     ]
    }
   ],
   "source": [
    "from sklearn.linear_model import LinearRegression\n",
    "from sklearn.metrics import mean_squared_error, r2_score\n",
    "from math import sqrt\n",
    "from sklearn.model_selection import train_test_split\n",
    "\n",
    "x_train, x_test, y_train, y_test = train_test_split(features, label, test_size = 0.2, random_state = 42)\n",
    "\n",
    "#x_train, y_train = delete_price_outliers(x_train, y_train)\n",
    "\n",
    "reg = LinearRegression()\n",
    "reg.fit(x_train, y_train)\n",
    "prediction = reg.predict(x_test)\n",
    "mse = mean_squared_error(y_test, prediction)\n",
    "r2 = r2_score(y_test, prediction)\n",
    "print(\"MSE:\", mse)\n",
    "print(\"RMSE:\", sqrt(mse))\n",
    "print(\"R^2:\", r2)"
   ]
  },
  {
   "cell_type": "markdown",
   "metadata": {},
   "source": [
    "2.5 Evaluation of Advanced Regression"
   ]
  },
  {
   "cell_type": "code",
   "execution_count": 128,
   "metadata": {},
   "outputs": [
    {
     "name": "stdout",
     "output_type": "stream",
     "text": [
      "{'alpha': 20}\n",
      "-4696.814613726855\n"
     ]
    }
   ],
   "source": [
    "#1. Ridge Regression\n",
    "from sklearn.linear_model import Ridge\n",
    "from sklearn.model_selection import GridSearchCV\n",
    "\n",
    "rr_est = Ridge()\n",
    "param = {\"alpha\": [1e-10, 1e-8, 1e-4,1e-3, 1e-2, 1, 5, 10, 20]}\n",
    "\n",
    "rr_est_opt = GridSearchCV(rr_est, param, scoring=\"neg_mean_squared_error\", cv=5)\n",
    "rr_est_opt.fit(x_train, y_train)\n",
    "\n",
    "# Get best param\n",
    "print(rr_est_opt.best_params_)\n",
    "print(rr_est_opt.best_score_)"
   ]
  },
  {
   "cell_type": "code",
   "execution_count": 129,
   "metadata": {},
   "outputs": [
    {
     "name": "stdout",
     "output_type": "stream",
     "text": [
      "MSE: 11276.885237588422\n",
      "RMSE: 106.19267977402407\n",
      "R^2: 0.3831739616006318\n"
     ]
    }
   ],
   "source": [
    "# Test with alpha 20\n",
    "from sklearn.linear_model import ridge\n",
    "rr = Ridge(alpha = 20)\n",
    "rr.fit(x_train, y_train)\n",
    "rr.coef_\n",
    "\n",
    "#Test and Evaluate\n",
    "rr_predictions = rr.predict(x_test)\n",
    "\n",
    "mse = mean_squared_error(y_test, rr_predictions)\n",
    "r2 = r2_score(y_test, rr_predictions)\n",
    "\n",
    "print(\"MSE:\", mse)\n",
    "print(\"RMSE:\", sqrt(mse))\n",
    "print(\"R^2:\", r2)"
   ]
  },
  {
   "cell_type": "code",
   "execution_count": null,
   "metadata": {},
   "outputs": [],
   "source": []
  },
  {
   "cell_type": "markdown",
   "metadata": {},
   "source": [
    "<a id='interpretation_evaluation'></a>\n",
    "## 3 Interpretation and Evaluation"
   ]
  }
 ],
 "metadata": {
  "kernelspec": {
   "display_name": "Python 3",
   "language": "python",
   "name": "python3"
  },
  "language_info": {
   "codemirror_mode": {
    "name": "ipython",
    "version": 3
   },
   "file_extension": ".py",
   "mimetype": "text/x-python",
   "name": "python",
   "nbconvert_exporter": "python",
   "pygments_lexer": "ipython3",
   "version": "3.7.3"
  }
 },
 "nbformat": 4,
 "nbformat_minor": 4
}
