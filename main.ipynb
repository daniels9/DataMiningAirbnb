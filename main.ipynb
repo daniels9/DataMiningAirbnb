{
 "cells": [
  {
   "cell_type": "markdown",
   "metadata": {},
   "source": [
    "# Predicting Airbnb Prices for Munich"
   ]
  },
  {
   "cell_type": "markdown",
   "metadata": {},
   "source": [
    "The goal of our data mining project is to predict prices for new Airbnb listings in Munich. To achieve this, we will train a regression model on existing Airbnb data from www.insideairbnb.com."
   ]
  },
  {
   "cell_type": "markdown",
   "metadata": {},
   "source": [
    "## Table of Contents\n",
    "##### [1 Preprocessing](#preprocessing)\n",
    "##### [2 Data Mining (Support Vector Machine)](#data_mining)\n",
    "##### [3 Interpretation and Evaluation](#interpretation_evaluation)"
   ]
  },
  {
   "cell_type": "markdown",
   "metadata": {},
   "source": [
    "<a id='preprocessing'></a>\n",
    "## 1 Preprocessing"
   ]
  },
  {
   "cell_type": "code",
   "execution_count": 23,
   "metadata": {
    "scrolled": true
   },
   "outputs": [
    {
     "name": "stdout",
     "output_type": "stream",
     "text": [
      "Dataset loaded successfully.\n",
      "153  outliers deleted.\n",
      "Dataset preprocessed successfully.\n",
      "   latitude  longitude  accommodates  bathrooms  bedrooms  beds  bed_type  \\\n",
      "0  48.13057   11.56929             2        1.0       1.0   1.0         1   \n",
      "1  48.11476   11.48782             2        1.0       1.0   1.0         3   \n",
      "2  48.11923   11.63726             5        1.0       1.0   3.0         3   \n",
      "3  48.15198   11.56486             4        1.0       1.0   1.0         3   \n",
      "4  48.13898   11.46612             4        1.0       1.0   1.0         3   \n",
      "\n",
      "   ludwigsvorstadt-isarvorstadt  hadern  berg am laim  ...  \\\n",
      "0                             1       0             0  ...   \n",
      "1                             0       1             0  ...   \n",
      "2                             0       0             1  ...   \n",
      "3                             0       0             0  ...   \n",
      "4                             0       0             0  ...   \n",
      "\n",
      "   feldmoching-hasenbergl  \\\n",
      "0                       0   \n",
      "1                       0   \n",
      "2                       0   \n",
      "3                       0   \n",
      "4                       0   \n",
      "\n",
      "   thalkirchen-obersendling-forstenried-fürstenried-solln  \\\n",
      "0                                                  0        \n",
      "1                                                  0        \n",
      "2                                                  0        \n",
      "3                                                  0        \n",
      "4                                                  0        \n",
      "\n",
      "   milbertshofen-am hart  obergiesing  altstadt-lehel  laim  \\\n",
      "0                      0            0               0     0   \n",
      "1                      0            0               0     0   \n",
      "2                      0            0               0     1   \n",
      "3                      0            0               0     0   \n",
      "4                      0            0               0     0   \n",
      "\n",
      "   aubing-lochhausen-langwied  moosach  allach-untermenzing  max_price  \n",
      "0                           0        0                    0      125.0  \n",
      "1                           0        0                    0       90.0  \n",
      "2                           0        0                    0      235.0  \n",
      "3                           0        0                    0      120.0  \n",
      "4                           0        0                    0      205.0  \n",
      "\n",
      "[5 rows x 33 columns]\n"
     ]
    }
   ],
   "source": [
    "%run modules/preprocessing.py\n",
    "\n",
    "# Load the preprocessed data\n",
    "df = load_and_preprocess_dataset()\n",
    "print(df.head())\n",
    "\n",
    "# Split and normalize the features\n",
    "X = df.drop('max_price', axis=1)\n",
    "X_norm = pd.DataFrame(preprocessing.MinMaxScaler().fit_transform(X), columns=X.columns)\n",
    "\n",
    "# Split the labels\n",
    "Y = df['max_price']\n",
    "\n",
    "# Split the features and labels into a training dataset and a test dataset\n",
    "xTrain, xTest, yTrain, yTest = train_test_split(X_norm, Y, test_size = 0.2, random_state = 0)"
   ]
  },
  {
   "cell_type": "markdown",
   "metadata": {},
   "source": [
    "<a id='data_mining'></a>\n",
    "## 2 Data Mining (Support Vector Machine)"
   ]
  },
  {
   "cell_type": "markdown",
   "metadata": {},
   "source": [
    "<a id='interpretation_evaluation'></a>\n",
    "## 3 Interpretation and Evaluation"
   ]
  }
 ],
 "metadata": {
  "kernelspec": {
   "display_name": "Python 3",
   "language": "python",
   "name": "python3"
  },
  "language_info": {
   "codemirror_mode": {
    "name": "ipython",
    "version": 3
   },
   "file_extension": ".py",
   "mimetype": "text/x-python",
   "name": "python",
   "nbconvert_exporter": "python",
   "pygments_lexer": "ipython3",
   "version": "3.7.3"
  }
 },
 "nbformat": 4,
 "nbformat_minor": 2
}
