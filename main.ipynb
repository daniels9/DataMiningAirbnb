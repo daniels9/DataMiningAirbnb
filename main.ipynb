{
 "cells": [
  {
   "cell_type": "markdown",
   "metadata": {},
   "source": [
    "# Predicting Airbnb Prices for Munich"
   ]
  },
  {
   "cell_type": "markdown",
   "metadata": {},
   "source": [
    "The goal of our data mining project is to predict prices for new Airbnb listings in Munich. To achieve this, we will train a regression model on existing Airbnb data from www.insideairbnb.com."
   ]
  },
  {
   "cell_type": "markdown",
   "metadata": {},
   "source": [
    "## Table of Contents\n",
    "##### [1 Preprocessing](#preprocessing)\n",
    "##### [2 Data Mining (Support Vector Machine)](#data_mining)\n",
    "##### [3 Interpretation and Evaluation](#interpretation_evaluation)"
   ]
  },
  {
   "cell_type": "markdown",
   "metadata": {},
   "source": [
    "<a id='preprocessing'></a>\n",
    "## 1 Preprocessing"
   ]
  },
  {
   "cell_type": "code",
   "execution_count": 2,
   "metadata": {
    "scrolled": true
   },
   "outputs": [
    {
     "name": "stdout",
     "output_type": "stream",
     "text": [
      "2019-11-15 23:42:12 : Dataset loaded successfully.\n",
      "2019-11-15 23:42:32 : Dataset preprocessed successfully.\n"
     ]
    }
   ],
   "source": [
    "%run modules/preprocessing.py\n",
    "\n",
    "df = load_and_preprocess_dataset()\n",
    "\n",
    "# Split the features and labels \n",
    "X = df.loc[:, df.columns.intersection(['property_type', 'room_type', 'accommodates', 'distance_centre'])]\n",
    "X_norm = pd.DataFrame(preprocessing.MinMaxScaler().fit_transform(X), columns=X.columns)\n",
    "Y = df['max_price']\n",
    "\n",
    "# Instance Selection: Randomly sample a training dataset\n",
    "from sklearn.model_selection import train_test_split\n",
    "xTrain, xTest, yTrain, yTest = train_test_split(X_norm, Y, test_size = 0.2, random_state = 0)"
   ]
  },
  {
   "cell_type": "markdown",
   "metadata": {},
   "source": [
    "<a id='data_mining'></a>\n",
    "## 2 Data Mining (Support Vector Machine)"
   ]
  },
  {
   "cell_type": "code",
   "execution_count": 4,
   "metadata": {},
   "outputs": [
    {
     "name": "stdout",
     "output_type": "stream",
     "text": [
      "Results for combination:  ['property_type']\n",
      "2019-11-15 23:43:23 : R_Squared =  -0.09915255159697134\n",
      "2019-11-15 23:43:23 : Root Mean Squared Error =  91.63297561096516\n",
      "Results for combination:  ['room_type']\n",
      "2019-11-15 23:43:29 : R_Squared =  -0.01715802395489341\n",
      "2019-11-15 23:43:29 : Root Mean Squared Error =  88.14892456830171\n",
      "Results for combination:  ['accommodates']\n",
      "2019-11-15 23:43:35 : R_Squared =  0.3100870902811871\n",
      "2019-11-15 23:43:35 : Root Mean Squared Error =  72.59721145975206\n",
      "Results for combination:  ['distance_centre']\n",
      "2019-11-15 23:43:40 : R_Squared =  -0.07049660426310678\n",
      "2019-11-15 23:43:40 : Root Mean Squared Error =  90.4306079396739\n",
      "Results for combination:  ['property_type', 'room_type']\n",
      "2019-11-15 23:43:46 : R_Squared =  -0.028255197011331612\n",
      "2019-11-15 23:43:46 : Root Mean Squared Error =  88.62847162852276\n",
      "Results for combination:  ['property_type', 'accommodates']\n",
      "2019-11-15 23:43:53 : R_Squared =  0.25520381110314816\n",
      "2019-11-15 23:43:53 : Root Mean Squared Error =  75.42955165821867\n",
      "Results for combination:  ['property_type', 'distance_centre']\n",
      "2019-11-15 23:43:58 : R_Squared =  -0.07438723480928888\n",
      "2019-11-15 23:43:58 : Root Mean Squared Error =  90.59479014617303\n",
      "Results for combination:  ['room_type', 'accommodates']\n",
      "2019-11-15 23:44:04 : R_Squared =  0.2984700406054973\n",
      "2019-11-15 23:44:04 : Root Mean Squared Error =  73.20587143851694\n",
      "Results for combination:  ['room_type', 'distance_centre']\n",
      "2019-11-15 23:44:10 : R_Squared =  -0.016116893696318302\n",
      "2019-11-15 23:44:10 : Root Mean Squared Error =  88.1037998153853\n",
      "Results for combination:  ['accommodates', 'distance_centre']\n",
      "2019-11-15 23:44:15 : R_Squared =  0.25034585369742834\n",
      "2019-11-15 23:44:15 : Root Mean Squared Error =  75.67514768610611\n",
      "Results for combination:  ['property_type', 'room_type', 'accommodates']\n",
      "2019-11-15 23:44:21 : R_Squared =  0.24910006629553816\n",
      "2019-11-15 23:44:21 : Root Mean Squared Error =  75.73800067745404\n",
      "Results for combination:  ['property_type', 'room_type', 'distance_centre']\n",
      "2019-11-15 23:44:28 : R_Squared =  -0.01825590200314009\n",
      "2019-11-15 23:44:28 : Root Mean Squared Error =  88.19648387907783\n",
      "Results for combination:  ['property_type', 'accommodates', 'distance_centre']\n",
      "2019-11-15 23:44:34 : R_Squared =  0.20383185716497365\n",
      "2019-11-15 23:44:34 : Root Mean Squared Error =  77.98753643772875\n",
      "Results for combination:  ['room_type', 'accommodates', 'distance_centre']\n",
      "2019-11-15 23:44:39 : R_Squared =  0.24772777310877092\n",
      "2019-11-15 23:44:39 : Root Mean Squared Error =  75.80717587310063\n",
      "Results for combination:  ['property_type', 'room_type', 'accommodates', 'distance_centre']\n",
      "2019-11-15 23:44:45 : R_Squared =  0.20084833283291847\n",
      "2019-11-15 23:44:45 : Root Mean Squared Error =  78.1335232752148\n"
     ]
    }
   ],
   "source": [
    "%run modules/evaluation.py\n",
    "\n",
    "import itertools\n",
    "\n",
    "# Generate all feature combinations\n",
    "feature_combinations = []\n",
    "for index, column in enumerate(X.columns, start = 1):\n",
    "    if index > 0:\n",
    "        combinations = itertools.combinations(X.columns, index)\n",
    "        for combination in combinations:\n",
    "            tmp = []\n",
    "            for i in range(0, index):\n",
    "                tmp.append(str(combination[i]))\n",
    "            feature_combinations.append(tmp)\n",
    "\n",
    "# Run SVM for each combination\n",
    "for feature_combination in feature_combinations:\n",
    "    x_combination = X[feature_combination]\n",
    "    xTrain, xTest, yTrain, yTest = train_test_split(x_combination, Y, test_size = 0.2, random_state = 0)\n",
    "    \n",
    "    # Train support vector regressor\n",
    "    from sklearn.svm import SVR\n",
    "    regressor = SVR(kernel='rbf')\n",
    "    regressor.fit(xTrain, yTrain)\n",
    "\n",
    "    # Predict price for the test dataset\n",
    "    count = -1\n",
    "    test_price_prediction = [0] * len(xTest)\n",
    "    for index, row in xTest.iterrows():\n",
    "        count += 1\n",
    "        tmp = []\n",
    "        for i in range(0, len(row)):\n",
    "            tmp.append(row[i])\n",
    "        test_price_prediction[count] = regressor.predict([tmp])[0]  \n",
    "\n",
    "    # Print results\n",
    "    print(\"Results for combination: \", feature_combination)\n",
    "    calculate_r_squared(yTest, test_price_prediction)\n",
    "    calculate_root_mean_squared_error(yTest, test_price_prediction)"
   ]
  },
  {
   "cell_type": "code",
   "execution_count": 3,
   "metadata": {},
   "outputs": [
    {
     "name": "stdout",
     "output_type": "stream",
     "text": [
      "Training dataset:\n",
      "2019-11-15 22:20:12 : R_Squared =  0.0877828443714822\n",
      "2019-11-15 22:20:12 : Root Mean Squared Error =  84.42029689385168\n",
      "Test dataset:\n",
      "2019-11-15 22:20:12 : R_Squared =  0.10027971262409352\n",
      "2019-11-15 22:20:12 : Root Mean Squared Error =  82.9042052091836\n"
     ]
    }
   ],
   "source": [
    "%run modules/evaluation.py\n",
    "\n",
    "# Train support vector regressor\n",
    "from sklearn.svm import SVR\n",
    "regressor = SVR(kernel='rbf')\n",
    "regressor.fit(xTrain, yTrain)\n",
    "\n",
    "# Predict price for the training dataset\n",
    "count = -1\n",
    "train_price_prediction = [0] * len(xTrain)\n",
    "for index, row in xTrain.iterrows():\n",
    "    count += 1\n",
    "    train_price_prediction[count] = regressor.predict([[row[0], row[1], row[2], row[3]]])[0]\n",
    "    \n",
    "# Predict price for the test dataset\n",
    "count = -1\n",
    "test_price_prediction = [0] * len(xTest)\n",
    "for index, row in xTest.iterrows():\n",
    "    count += 1\n",
    "    test_price_prediction[count] = regressor.predict([[row[0], row[1], row[2], row[3]]])[0]  \n",
    "\n",
    "# Evaluate predictions\n",
    "print(\"Training dataset:\")\n",
    "calculate_r_squared(yTrain, train_price_prediction)\n",
    "calculate_root_mean_squared_error(yTrain, train_price_prediction)\n",
    "\n",
    "print(\"Test dataset:\")\n",
    "calculate_r_squared(yTest, test_price_prediction)\n",
    "calculate_root_mean_squared_error(yTest, test_price_prediction)"
   ]
  },
  {
   "cell_type": "markdown",
   "metadata": {},
   "source": [
    "<a id='interpretation_evaluation'></a>\n",
    "## 3 Interpretation and Evaluation"
   ]
  }
 ],
 "metadata": {
  "kernelspec": {
   "display_name": "Python 3",
   "language": "python",
   "name": "python3"
  },
  "language_info": {
   "codemirror_mode": {
    "name": "ipython",
    "version": 3
   },
   "file_extension": ".py",
   "mimetype": "text/x-python",
   "name": "python",
   "nbconvert_exporter": "python",
   "pygments_lexer": "ipython3",
   "version": "3.7.3"
  }
 },
 "nbformat": 4,
 "nbformat_minor": 2
}
